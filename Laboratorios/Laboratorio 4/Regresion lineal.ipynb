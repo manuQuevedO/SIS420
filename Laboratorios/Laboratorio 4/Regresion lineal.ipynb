{
 "cells": [
  {
   "cell_type": "markdown",
   "metadata": {},
   "source": [
    "# Laboratorio 4(Aplicacion de Regularizacion - Regresion Lineal) Grupo 1\n",
    " <h3>En este laboratorio se hizo el uso del dataset para aplicar la regularización y sin utilizar regularización a la Regresion Lineal, y como siguiente se presento los resultados de ambas experiencias<h3>\n",
    " <HR>\n",
    " <h3>\n",
    "  NOMBRE: POLO ORELLANA BRAYAN SIMON <br>\n",
    "  CARRERA: INGENIERIA DE SISTEMAS <BR>\n",
    "  FECHA: 26/03/2024 <BR>\n",
    "\n",
    "  * [Enlace de invitacion para ser colaborador](https://github.com/bspoloo/SIS420-012024/invitations)\n",
    "  \n",
    "  * [Enlace al git hub](https://github.com/bspoloo/SIS420-012024/tree/main/Laboratorios/Laboratorio%204)\n",
    "  \n",
    "  * [Enlace al Colab](https://colab.research.google.com/github/bspoloo/SIS420-012024/blob/main/Laboratorios/Laboratorio%204/Regresion%20lineal.ipynb?hl=es#scrollTo=jmDd6cd2hQ_W)\n",
    "  \n",
    " <h3>\n",
    "\n",
    "Para el laboratorio implementando regularizacion se hizo uso del dataset para predecir el precio de las casas en USA. El enlace al dataset es [House Sales in King County, USA](https://www.kaggle.com/datasets/harlfoxem/housesalesprediction).\n",
    "\n",
    "El conjunto de datos, denominado ``kc_house_data.csv``, contiene un conjunto de entrenamiento de precios de casas en el condado de King. Este conjunto de datos probablemente incluye varias características relevantes para predecir el precio de las casas, como el tamaño de la vivienda, el número de habitaciones, la ubicación, las características específicas de la casa, etc.\n"
   ]
  },
  {
   "cell_type": "markdown",
   "metadata": {},
   "source": [
    "Primero se importo todas las librerias necesarias:"
   ]
  },
  {
   "cell_type": "code",
   "execution_count": 101,
   "metadata": {},
   "outputs": [],
   "source": [
    "# utilizando la libreria os para manejos de directorios\n",
    "import os\n",
    "\n",
    "# Computacion vectorial y cientifica para python\n",
    "import numpy as np\n",
    "\n",
    "#importamos pandas para el manejo del dataset, y separarlos dentro de una matriz\n",
    "import pandas as pd\n",
    "\n",
    "#esta tabulate nos sirve para hacer tablas\n",
    "from tabulate import tabulate\n",
    "\n",
    "# Librerias para graficación (trazado de gráficos)\n",
    "from matplotlib import pyplot\n",
    "from mpl_toolkits.mplot3d import Axes3D  # -> Necesario para graficar superficies 3D\n",
    "\n",
    "#Para separa el 20% y 80%\n",
    "from sklearn.model_selection import train_test_split\n",
    "\n",
    "# llama a matplotlib a embeber graficas dentro de los cuadernillos\n",
    "%matplotlib inline"
   ]
  },
  {
   "cell_type": "markdown",
   "metadata": {},
   "source": [
    "## Carga de datos del dataset\n",
    "\n",
    "cargamos los datos haciendo el uso de la libreria **Pandas** que es una herramienta poderosa y versátil utilizada para manipulación y análisis de datos. Ofrece estructuras de datos flexibles y eficientes para trabajar con datos tabulares, como hojas de cálculo en Excel o tablas SQL."
   ]
  },
  {
   "cell_type": "code",
   "execution_count": 102,
   "metadata": {},
   "outputs": [
    {
     "data": {
      "text/html": [
       "<div>\n",
       "<style scoped>\n",
       "    .dataframe tbody tr th:only-of-type {\n",
       "        vertical-align: middle;\n",
       "    }\n",
       "\n",
       "    .dataframe tbody tr th {\n",
       "        vertical-align: top;\n",
       "    }\n",
       "\n",
       "    .dataframe thead th {\n",
       "        text-align: right;\n",
       "    }\n",
       "</style>\n",
       "<table border=\"1\" class=\"dataframe\">\n",
       "  <thead>\n",
       "    <tr style=\"text-align: right;\">\n",
       "      <th></th>\n",
       "      <th>id</th>\n",
       "      <th>date</th>\n",
       "      <th>price</th>\n",
       "      <th>bedrooms</th>\n",
       "      <th>bathrooms</th>\n",
       "      <th>sqft_living</th>\n",
       "      <th>sqft_lot</th>\n",
       "      <th>floors</th>\n",
       "      <th>waterfront</th>\n",
       "      <th>view</th>\n",
       "      <th>...</th>\n",
       "      <th>grade</th>\n",
       "      <th>sqft_above</th>\n",
       "      <th>sqft_basement</th>\n",
       "      <th>yr_built</th>\n",
       "      <th>yr_renovated</th>\n",
       "      <th>zipcode</th>\n",
       "      <th>lat</th>\n",
       "      <th>long</th>\n",
       "      <th>sqft_living15</th>\n",
       "      <th>sqft_lot15</th>\n",
       "    </tr>\n",
       "  </thead>\n",
       "  <tbody>\n",
       "    <tr>\n",
       "      <th>0</th>\n",
       "      <td>7129300520</td>\n",
       "      <td>20141013T000000</td>\n",
       "      <td>221900.0</td>\n",
       "      <td>3</td>\n",
       "      <td>1.00</td>\n",
       "      <td>1180</td>\n",
       "      <td>5650</td>\n",
       "      <td>1.0</td>\n",
       "      <td>0</td>\n",
       "      <td>0</td>\n",
       "      <td>...</td>\n",
       "      <td>7</td>\n",
       "      <td>1180</td>\n",
       "      <td>0</td>\n",
       "      <td>1955</td>\n",
       "      <td>0</td>\n",
       "      <td>98178</td>\n",
       "      <td>47.5112</td>\n",
       "      <td>-122.257</td>\n",
       "      <td>1340</td>\n",
       "      <td>5650</td>\n",
       "    </tr>\n",
       "    <tr>\n",
       "      <th>1</th>\n",
       "      <td>6414100192</td>\n",
       "      <td>20141209T000000</td>\n",
       "      <td>538000.0</td>\n",
       "      <td>3</td>\n",
       "      <td>2.25</td>\n",
       "      <td>2570</td>\n",
       "      <td>7242</td>\n",
       "      <td>2.0</td>\n",
       "      <td>0</td>\n",
       "      <td>0</td>\n",
       "      <td>...</td>\n",
       "      <td>7</td>\n",
       "      <td>2170</td>\n",
       "      <td>400</td>\n",
       "      <td>1951</td>\n",
       "      <td>1991</td>\n",
       "      <td>98125</td>\n",
       "      <td>47.7210</td>\n",
       "      <td>-122.319</td>\n",
       "      <td>1690</td>\n",
       "      <td>7639</td>\n",
       "    </tr>\n",
       "    <tr>\n",
       "      <th>2</th>\n",
       "      <td>5631500400</td>\n",
       "      <td>20150225T000000</td>\n",
       "      <td>180000.0</td>\n",
       "      <td>2</td>\n",
       "      <td>1.00</td>\n",
       "      <td>770</td>\n",
       "      <td>10000</td>\n",
       "      <td>1.0</td>\n",
       "      <td>0</td>\n",
       "      <td>0</td>\n",
       "      <td>...</td>\n",
       "      <td>6</td>\n",
       "      <td>770</td>\n",
       "      <td>0</td>\n",
       "      <td>1933</td>\n",
       "      <td>0</td>\n",
       "      <td>98028</td>\n",
       "      <td>47.7379</td>\n",
       "      <td>-122.233</td>\n",
       "      <td>2720</td>\n",
       "      <td>8062</td>\n",
       "    </tr>\n",
       "    <tr>\n",
       "      <th>3</th>\n",
       "      <td>2487200875</td>\n",
       "      <td>20141209T000000</td>\n",
       "      <td>604000.0</td>\n",
       "      <td>4</td>\n",
       "      <td>3.00</td>\n",
       "      <td>1960</td>\n",
       "      <td>5000</td>\n",
       "      <td>1.0</td>\n",
       "      <td>0</td>\n",
       "      <td>0</td>\n",
       "      <td>...</td>\n",
       "      <td>7</td>\n",
       "      <td>1050</td>\n",
       "      <td>910</td>\n",
       "      <td>1965</td>\n",
       "      <td>0</td>\n",
       "      <td>98136</td>\n",
       "      <td>47.5208</td>\n",
       "      <td>-122.393</td>\n",
       "      <td>1360</td>\n",
       "      <td>5000</td>\n",
       "    </tr>\n",
       "    <tr>\n",
       "      <th>4</th>\n",
       "      <td>1954400510</td>\n",
       "      <td>20150218T000000</td>\n",
       "      <td>510000.0</td>\n",
       "      <td>3</td>\n",
       "      <td>2.00</td>\n",
       "      <td>1680</td>\n",
       "      <td>8080</td>\n",
       "      <td>1.0</td>\n",
       "      <td>0</td>\n",
       "      <td>0</td>\n",
       "      <td>...</td>\n",
       "      <td>8</td>\n",
       "      <td>1680</td>\n",
       "      <td>0</td>\n",
       "      <td>1987</td>\n",
       "      <td>0</td>\n",
       "      <td>98074</td>\n",
       "      <td>47.6168</td>\n",
       "      <td>-122.045</td>\n",
       "      <td>1800</td>\n",
       "      <td>7503</td>\n",
       "    </tr>\n",
       "    <tr>\n",
       "      <th>...</th>\n",
       "      <td>...</td>\n",
       "      <td>...</td>\n",
       "      <td>...</td>\n",
       "      <td>...</td>\n",
       "      <td>...</td>\n",
       "      <td>...</td>\n",
       "      <td>...</td>\n",
       "      <td>...</td>\n",
       "      <td>...</td>\n",
       "      <td>...</td>\n",
       "      <td>...</td>\n",
       "      <td>...</td>\n",
       "      <td>...</td>\n",
       "      <td>...</td>\n",
       "      <td>...</td>\n",
       "      <td>...</td>\n",
       "      <td>...</td>\n",
       "      <td>...</td>\n",
       "      <td>...</td>\n",
       "      <td>...</td>\n",
       "      <td>...</td>\n",
       "    </tr>\n",
       "    <tr>\n",
       "      <th>21608</th>\n",
       "      <td>263000018</td>\n",
       "      <td>20140521T000000</td>\n",
       "      <td>360000.0</td>\n",
       "      <td>3</td>\n",
       "      <td>2.50</td>\n",
       "      <td>1530</td>\n",
       "      <td>1131</td>\n",
       "      <td>3.0</td>\n",
       "      <td>0</td>\n",
       "      <td>0</td>\n",
       "      <td>...</td>\n",
       "      <td>8</td>\n",
       "      <td>1530</td>\n",
       "      <td>0</td>\n",
       "      <td>2009</td>\n",
       "      <td>0</td>\n",
       "      <td>98103</td>\n",
       "      <td>47.6993</td>\n",
       "      <td>-122.346</td>\n",
       "      <td>1530</td>\n",
       "      <td>1509</td>\n",
       "    </tr>\n",
       "    <tr>\n",
       "      <th>21609</th>\n",
       "      <td>6600060120</td>\n",
       "      <td>20150223T000000</td>\n",
       "      <td>400000.0</td>\n",
       "      <td>4</td>\n",
       "      <td>2.50</td>\n",
       "      <td>2310</td>\n",
       "      <td>5813</td>\n",
       "      <td>2.0</td>\n",
       "      <td>0</td>\n",
       "      <td>0</td>\n",
       "      <td>...</td>\n",
       "      <td>8</td>\n",
       "      <td>2310</td>\n",
       "      <td>0</td>\n",
       "      <td>2014</td>\n",
       "      <td>0</td>\n",
       "      <td>98146</td>\n",
       "      <td>47.5107</td>\n",
       "      <td>-122.362</td>\n",
       "      <td>1830</td>\n",
       "      <td>7200</td>\n",
       "    </tr>\n",
       "    <tr>\n",
       "      <th>21610</th>\n",
       "      <td>1523300141</td>\n",
       "      <td>20140623T000000</td>\n",
       "      <td>402101.0</td>\n",
       "      <td>2</td>\n",
       "      <td>0.75</td>\n",
       "      <td>1020</td>\n",
       "      <td>1350</td>\n",
       "      <td>2.0</td>\n",
       "      <td>0</td>\n",
       "      <td>0</td>\n",
       "      <td>...</td>\n",
       "      <td>7</td>\n",
       "      <td>1020</td>\n",
       "      <td>0</td>\n",
       "      <td>2009</td>\n",
       "      <td>0</td>\n",
       "      <td>98144</td>\n",
       "      <td>47.5944</td>\n",
       "      <td>-122.299</td>\n",
       "      <td>1020</td>\n",
       "      <td>2007</td>\n",
       "    </tr>\n",
       "    <tr>\n",
       "      <th>21611</th>\n",
       "      <td>291310100</td>\n",
       "      <td>20150116T000000</td>\n",
       "      <td>400000.0</td>\n",
       "      <td>3</td>\n",
       "      <td>2.50</td>\n",
       "      <td>1600</td>\n",
       "      <td>2388</td>\n",
       "      <td>2.0</td>\n",
       "      <td>0</td>\n",
       "      <td>0</td>\n",
       "      <td>...</td>\n",
       "      <td>8</td>\n",
       "      <td>1600</td>\n",
       "      <td>0</td>\n",
       "      <td>2004</td>\n",
       "      <td>0</td>\n",
       "      <td>98027</td>\n",
       "      <td>47.5345</td>\n",
       "      <td>-122.069</td>\n",
       "      <td>1410</td>\n",
       "      <td>1287</td>\n",
       "    </tr>\n",
       "    <tr>\n",
       "      <th>21612</th>\n",
       "      <td>1523300157</td>\n",
       "      <td>20141015T000000</td>\n",
       "      <td>325000.0</td>\n",
       "      <td>2</td>\n",
       "      <td>0.75</td>\n",
       "      <td>1020</td>\n",
       "      <td>1076</td>\n",
       "      <td>2.0</td>\n",
       "      <td>0</td>\n",
       "      <td>0</td>\n",
       "      <td>...</td>\n",
       "      <td>7</td>\n",
       "      <td>1020</td>\n",
       "      <td>0</td>\n",
       "      <td>2008</td>\n",
       "      <td>0</td>\n",
       "      <td>98144</td>\n",
       "      <td>47.5941</td>\n",
       "      <td>-122.299</td>\n",
       "      <td>1020</td>\n",
       "      <td>1357</td>\n",
       "    </tr>\n",
       "  </tbody>\n",
       "</table>\n",
       "<p>21613 rows × 21 columns</p>\n",
       "</div>"
      ],
      "text/plain": [
       "               id             date     price  bedrooms  bathrooms  \\\n",
       "0      7129300520  20141013T000000  221900.0         3       1.00   \n",
       "1      6414100192  20141209T000000  538000.0         3       2.25   \n",
       "2      5631500400  20150225T000000  180000.0         2       1.00   \n",
       "3      2487200875  20141209T000000  604000.0         4       3.00   \n",
       "4      1954400510  20150218T000000  510000.0         3       2.00   \n",
       "...           ...              ...       ...       ...        ...   \n",
       "21608   263000018  20140521T000000  360000.0         3       2.50   \n",
       "21609  6600060120  20150223T000000  400000.0         4       2.50   \n",
       "21610  1523300141  20140623T000000  402101.0         2       0.75   \n",
       "21611   291310100  20150116T000000  400000.0         3       2.50   \n",
       "21612  1523300157  20141015T000000  325000.0         2       0.75   \n",
       "\n",
       "       sqft_living  sqft_lot  floors  waterfront  view  ...  grade  \\\n",
       "0             1180      5650     1.0           0     0  ...      7   \n",
       "1             2570      7242     2.0           0     0  ...      7   \n",
       "2              770     10000     1.0           0     0  ...      6   \n",
       "3             1960      5000     1.0           0     0  ...      7   \n",
       "4             1680      8080     1.0           0     0  ...      8   \n",
       "...            ...       ...     ...         ...   ...  ...    ...   \n",
       "21608         1530      1131     3.0           0     0  ...      8   \n",
       "21609         2310      5813     2.0           0     0  ...      8   \n",
       "21610         1020      1350     2.0           0     0  ...      7   \n",
       "21611         1600      2388     2.0           0     0  ...      8   \n",
       "21612         1020      1076     2.0           0     0  ...      7   \n",
       "\n",
       "       sqft_above  sqft_basement  yr_built  yr_renovated  zipcode      lat  \\\n",
       "0            1180              0      1955             0    98178  47.5112   \n",
       "1            2170            400      1951          1991    98125  47.7210   \n",
       "2             770              0      1933             0    98028  47.7379   \n",
       "3            1050            910      1965             0    98136  47.5208   \n",
       "4            1680              0      1987             0    98074  47.6168   \n",
       "...           ...            ...       ...           ...      ...      ...   \n",
       "21608        1530              0      2009             0    98103  47.6993   \n",
       "21609        2310              0      2014             0    98146  47.5107   \n",
       "21610        1020              0      2009             0    98144  47.5944   \n",
       "21611        1600              0      2004             0    98027  47.5345   \n",
       "21612        1020              0      2008             0    98144  47.5941   \n",
       "\n",
       "          long  sqft_living15  sqft_lot15  \n",
       "0     -122.257           1340        5650  \n",
       "1     -122.319           1690        7639  \n",
       "2     -122.233           2720        8062  \n",
       "3     -122.393           1360        5000  \n",
       "4     -122.045           1800        7503  \n",
       "...        ...            ...         ...  \n",
       "21608 -122.346           1530        1509  \n",
       "21609 -122.362           1830        7200  \n",
       "21610 -122.299           1020        2007  \n",
       "21611 -122.069           1410        1287  \n",
       "21612 -122.299           1020        1357  \n",
       "\n",
       "[21613 rows x 21 columns]"
      ]
     },
     "execution_count": 102,
     "metadata": {},
     "output_type": "execute_result"
    }
   ],
   "source": [
    "#cargamos el dataset a un dataframe\n",
    "df = pd.read_csv('kc_house_data.csv', delimiter=',')\n",
    "\n",
    "#mostramos el dataset\n",
    "df"
   ]
  },
  {
   "cell_type": "markdown",
   "metadata": {},
   "source": [
    "## Analisis del dataset\n",
    "Hacemos un analisis del dataset mostrando su informacion usando la funcion de `info()`:"
   ]
  },
  {
   "cell_type": "code",
   "execution_count": 103,
   "metadata": {},
   "outputs": [
    {
     "name": "stdout",
     "output_type": "stream",
     "text": [
      "<class 'pandas.core.frame.DataFrame'>\n",
      "RangeIndex: 21613 entries, 0 to 21612\n",
      "Data columns (total 21 columns):\n",
      " #   Column         Non-Null Count  Dtype  \n",
      "---  ------         --------------  -----  \n",
      " 0   id             21613 non-null  int64  \n",
      " 1   date           21613 non-null  object \n",
      " 2   price          21613 non-null  float64\n",
      " 3   bedrooms       21613 non-null  int64  \n",
      " 4   bathrooms      21613 non-null  float64\n",
      " 5   sqft_living    21613 non-null  int64  \n",
      " 6   sqft_lot       21613 non-null  int64  \n",
      " 7   floors         21613 non-null  float64\n",
      " 8   waterfront     21613 non-null  int64  \n",
      " 9   view           21613 non-null  int64  \n",
      " 10  condition      21613 non-null  int64  \n",
      " 11  grade          21613 non-null  int64  \n",
      " 12  sqft_above     21613 non-null  int64  \n",
      " 13  sqft_basement  21613 non-null  int64  \n",
      " 14  yr_built       21613 non-null  int64  \n",
      " 15  yr_renovated   21613 non-null  int64  \n",
      " 16  zipcode        21613 non-null  int64  \n",
      " 17  lat            21613 non-null  float64\n",
      " 18  long           21613 non-null  float64\n",
      " 19  sqft_living15  21613 non-null  int64  \n",
      " 20  sqft_lot15     21613 non-null  int64  \n",
      "dtypes: float64(5), int64(15), object(1)\n",
      "memory usage: 3.5+ MB\n"
     ]
    }
   ],
   "source": [
    "df.info()"
   ]
  },
  {
   "cell_type": "code",
   "execution_count": 104,
   "metadata": {},
   "outputs": [
    {
     "data": {
      "text/html": [
       "<div>\n",
       "<style scoped>\n",
       "    .dataframe tbody tr th:only-of-type {\n",
       "        vertical-align: middle;\n",
       "    }\n",
       "\n",
       "    .dataframe tbody tr th {\n",
       "        vertical-align: top;\n",
       "    }\n",
       "\n",
       "    .dataframe thead th {\n",
       "        text-align: right;\n",
       "    }\n",
       "</style>\n",
       "<table border=\"1\" class=\"dataframe\">\n",
       "  <thead>\n",
       "    <tr style=\"text-align: right;\">\n",
       "      <th></th>\n",
       "      <th>price</th>\n",
       "      <th>bedrooms</th>\n",
       "      <th>bathrooms</th>\n",
       "      <th>sqft_living</th>\n",
       "      <th>sqft_lot</th>\n",
       "      <th>floors</th>\n",
       "      <th>waterfront</th>\n",
       "      <th>view</th>\n",
       "      <th>condition</th>\n",
       "      <th>grade</th>\n",
       "      <th>sqft_above</th>\n",
       "      <th>sqft_basement</th>\n",
       "      <th>yr_built</th>\n",
       "      <th>yr_renovated</th>\n",
       "      <th>zipcode</th>\n",
       "      <th>lat</th>\n",
       "      <th>long</th>\n",
       "      <th>sqft_living15</th>\n",
       "      <th>sqft_lot15</th>\n",
       "    </tr>\n",
       "  </thead>\n",
       "  <tbody>\n",
       "    <tr>\n",
       "      <th>0</th>\n",
       "      <td>221900.0</td>\n",
       "      <td>3.0</td>\n",
       "      <td>1.00</td>\n",
       "      <td>1180.0</td>\n",
       "      <td>5650.0</td>\n",
       "      <td>1.0</td>\n",
       "      <td>0.0</td>\n",
       "      <td>0.0</td>\n",
       "      <td>3.0</td>\n",
       "      <td>7.0</td>\n",
       "      <td>1180.0</td>\n",
       "      <td>0.0</td>\n",
       "      <td>1955.0</td>\n",
       "      <td>0.0</td>\n",
       "      <td>98178.0</td>\n",
       "      <td>47.5112</td>\n",
       "      <td>-122.257</td>\n",
       "      <td>1340.0</td>\n",
       "      <td>5650.0</td>\n",
       "    </tr>\n",
       "    <tr>\n",
       "      <th>1</th>\n",
       "      <td>538000.0</td>\n",
       "      <td>3.0</td>\n",
       "      <td>2.25</td>\n",
       "      <td>2570.0</td>\n",
       "      <td>7242.0</td>\n",
       "      <td>2.0</td>\n",
       "      <td>0.0</td>\n",
       "      <td>0.0</td>\n",
       "      <td>3.0</td>\n",
       "      <td>7.0</td>\n",
       "      <td>2170.0</td>\n",
       "      <td>400.0</td>\n",
       "      <td>1951.0</td>\n",
       "      <td>1991.0</td>\n",
       "      <td>98125.0</td>\n",
       "      <td>47.7210</td>\n",
       "      <td>-122.319</td>\n",
       "      <td>1690.0</td>\n",
       "      <td>7639.0</td>\n",
       "    </tr>\n",
       "    <tr>\n",
       "      <th>2</th>\n",
       "      <td>180000.0</td>\n",
       "      <td>2.0</td>\n",
       "      <td>1.00</td>\n",
       "      <td>770.0</td>\n",
       "      <td>10000.0</td>\n",
       "      <td>1.0</td>\n",
       "      <td>0.0</td>\n",
       "      <td>0.0</td>\n",
       "      <td>3.0</td>\n",
       "      <td>6.0</td>\n",
       "      <td>770.0</td>\n",
       "      <td>0.0</td>\n",
       "      <td>1933.0</td>\n",
       "      <td>0.0</td>\n",
       "      <td>98028.0</td>\n",
       "      <td>47.7379</td>\n",
       "      <td>-122.233</td>\n",
       "      <td>2720.0</td>\n",
       "      <td>8062.0</td>\n",
       "    </tr>\n",
       "    <tr>\n",
       "      <th>3</th>\n",
       "      <td>604000.0</td>\n",
       "      <td>4.0</td>\n",
       "      <td>3.00</td>\n",
       "      <td>1960.0</td>\n",
       "      <td>5000.0</td>\n",
       "      <td>1.0</td>\n",
       "      <td>0.0</td>\n",
       "      <td>0.0</td>\n",
       "      <td>5.0</td>\n",
       "      <td>7.0</td>\n",
       "      <td>1050.0</td>\n",
       "      <td>910.0</td>\n",
       "      <td>1965.0</td>\n",
       "      <td>0.0</td>\n",
       "      <td>98136.0</td>\n",
       "      <td>47.5208</td>\n",
       "      <td>-122.393</td>\n",
       "      <td>1360.0</td>\n",
       "      <td>5000.0</td>\n",
       "    </tr>\n",
       "    <tr>\n",
       "      <th>4</th>\n",
       "      <td>510000.0</td>\n",
       "      <td>3.0</td>\n",
       "      <td>2.00</td>\n",
       "      <td>1680.0</td>\n",
       "      <td>8080.0</td>\n",
       "      <td>1.0</td>\n",
       "      <td>0.0</td>\n",
       "      <td>0.0</td>\n",
       "      <td>3.0</td>\n",
       "      <td>8.0</td>\n",
       "      <td>1680.0</td>\n",
       "      <td>0.0</td>\n",
       "      <td>1987.0</td>\n",
       "      <td>0.0</td>\n",
       "      <td>98074.0</td>\n",
       "      <td>47.6168</td>\n",
       "      <td>-122.045</td>\n",
       "      <td>1800.0</td>\n",
       "      <td>7503.0</td>\n",
       "    </tr>\n",
       "    <tr>\n",
       "      <th>...</th>\n",
       "      <td>...</td>\n",
       "      <td>...</td>\n",
       "      <td>...</td>\n",
       "      <td>...</td>\n",
       "      <td>...</td>\n",
       "      <td>...</td>\n",
       "      <td>...</td>\n",
       "      <td>...</td>\n",
       "      <td>...</td>\n",
       "      <td>...</td>\n",
       "      <td>...</td>\n",
       "      <td>...</td>\n",
       "      <td>...</td>\n",
       "      <td>...</td>\n",
       "      <td>...</td>\n",
       "      <td>...</td>\n",
       "      <td>...</td>\n",
       "      <td>...</td>\n",
       "      <td>...</td>\n",
       "    </tr>\n",
       "    <tr>\n",
       "      <th>21608</th>\n",
       "      <td>360000.0</td>\n",
       "      <td>3.0</td>\n",
       "      <td>2.50</td>\n",
       "      <td>1530.0</td>\n",
       "      <td>1131.0</td>\n",
       "      <td>3.0</td>\n",
       "      <td>0.0</td>\n",
       "      <td>0.0</td>\n",
       "      <td>3.0</td>\n",
       "      <td>8.0</td>\n",
       "      <td>1530.0</td>\n",
       "      <td>0.0</td>\n",
       "      <td>2009.0</td>\n",
       "      <td>0.0</td>\n",
       "      <td>98103.0</td>\n",
       "      <td>47.6993</td>\n",
       "      <td>-122.346</td>\n",
       "      <td>1530.0</td>\n",
       "      <td>1509.0</td>\n",
       "    </tr>\n",
       "    <tr>\n",
       "      <th>21609</th>\n",
       "      <td>400000.0</td>\n",
       "      <td>4.0</td>\n",
       "      <td>2.50</td>\n",
       "      <td>2310.0</td>\n",
       "      <td>5813.0</td>\n",
       "      <td>2.0</td>\n",
       "      <td>0.0</td>\n",
       "      <td>0.0</td>\n",
       "      <td>3.0</td>\n",
       "      <td>8.0</td>\n",
       "      <td>2310.0</td>\n",
       "      <td>0.0</td>\n",
       "      <td>2014.0</td>\n",
       "      <td>0.0</td>\n",
       "      <td>98146.0</td>\n",
       "      <td>47.5107</td>\n",
       "      <td>-122.362</td>\n",
       "      <td>1830.0</td>\n",
       "      <td>7200.0</td>\n",
       "    </tr>\n",
       "    <tr>\n",
       "      <th>21610</th>\n",
       "      <td>402101.0</td>\n",
       "      <td>2.0</td>\n",
       "      <td>0.75</td>\n",
       "      <td>1020.0</td>\n",
       "      <td>1350.0</td>\n",
       "      <td>2.0</td>\n",
       "      <td>0.0</td>\n",
       "      <td>0.0</td>\n",
       "      <td>3.0</td>\n",
       "      <td>7.0</td>\n",
       "      <td>1020.0</td>\n",
       "      <td>0.0</td>\n",
       "      <td>2009.0</td>\n",
       "      <td>0.0</td>\n",
       "      <td>98144.0</td>\n",
       "      <td>47.5944</td>\n",
       "      <td>-122.299</td>\n",
       "      <td>1020.0</td>\n",
       "      <td>2007.0</td>\n",
       "    </tr>\n",
       "    <tr>\n",
       "      <th>21611</th>\n",
       "      <td>400000.0</td>\n",
       "      <td>3.0</td>\n",
       "      <td>2.50</td>\n",
       "      <td>1600.0</td>\n",
       "      <td>2388.0</td>\n",
       "      <td>2.0</td>\n",
       "      <td>0.0</td>\n",
       "      <td>0.0</td>\n",
       "      <td>3.0</td>\n",
       "      <td>8.0</td>\n",
       "      <td>1600.0</td>\n",
       "      <td>0.0</td>\n",
       "      <td>2004.0</td>\n",
       "      <td>0.0</td>\n",
       "      <td>98027.0</td>\n",
       "      <td>47.5345</td>\n",
       "      <td>-122.069</td>\n",
       "      <td>1410.0</td>\n",
       "      <td>1287.0</td>\n",
       "    </tr>\n",
       "    <tr>\n",
       "      <th>21612</th>\n",
       "      <td>325000.0</td>\n",
       "      <td>2.0</td>\n",
       "      <td>0.75</td>\n",
       "      <td>1020.0</td>\n",
       "      <td>1076.0</td>\n",
       "      <td>2.0</td>\n",
       "      <td>0.0</td>\n",
       "      <td>0.0</td>\n",
       "      <td>3.0</td>\n",
       "      <td>7.0</td>\n",
       "      <td>1020.0</td>\n",
       "      <td>0.0</td>\n",
       "      <td>2008.0</td>\n",
       "      <td>0.0</td>\n",
       "      <td>98144.0</td>\n",
       "      <td>47.5941</td>\n",
       "      <td>-122.299</td>\n",
       "      <td>1020.0</td>\n",
       "      <td>1357.0</td>\n",
       "    </tr>\n",
       "  </tbody>\n",
       "</table>\n",
       "<p>21613 rows × 19 columns</p>\n",
       "</div>"
      ],
      "text/plain": [
       "          price  bedrooms  bathrooms  sqft_living  sqft_lot  floors  \\\n",
       "0      221900.0       3.0       1.00       1180.0    5650.0     1.0   \n",
       "1      538000.0       3.0       2.25       2570.0    7242.0     2.0   \n",
       "2      180000.0       2.0       1.00        770.0   10000.0     1.0   \n",
       "3      604000.0       4.0       3.00       1960.0    5000.0     1.0   \n",
       "4      510000.0       3.0       2.00       1680.0    8080.0     1.0   \n",
       "...         ...       ...        ...          ...       ...     ...   \n",
       "21608  360000.0       3.0       2.50       1530.0    1131.0     3.0   \n",
       "21609  400000.0       4.0       2.50       2310.0    5813.0     2.0   \n",
       "21610  402101.0       2.0       0.75       1020.0    1350.0     2.0   \n",
       "21611  400000.0       3.0       2.50       1600.0    2388.0     2.0   \n",
       "21612  325000.0       2.0       0.75       1020.0    1076.0     2.0   \n",
       "\n",
       "       waterfront  view  condition  grade  sqft_above  sqft_basement  \\\n",
       "0             0.0   0.0        3.0    7.0      1180.0            0.0   \n",
       "1             0.0   0.0        3.0    7.0      2170.0          400.0   \n",
       "2             0.0   0.0        3.0    6.0       770.0            0.0   \n",
       "3             0.0   0.0        5.0    7.0      1050.0          910.0   \n",
       "4             0.0   0.0        3.0    8.0      1680.0            0.0   \n",
       "...           ...   ...        ...    ...         ...            ...   \n",
       "21608         0.0   0.0        3.0    8.0      1530.0            0.0   \n",
       "21609         0.0   0.0        3.0    8.0      2310.0            0.0   \n",
       "21610         0.0   0.0        3.0    7.0      1020.0            0.0   \n",
       "21611         0.0   0.0        3.0    8.0      1600.0            0.0   \n",
       "21612         0.0   0.0        3.0    7.0      1020.0            0.0   \n",
       "\n",
       "       yr_built  yr_renovated  zipcode      lat     long  sqft_living15  \\\n",
       "0        1955.0           0.0  98178.0  47.5112 -122.257         1340.0   \n",
       "1        1951.0        1991.0  98125.0  47.7210 -122.319         1690.0   \n",
       "2        1933.0           0.0  98028.0  47.7379 -122.233         2720.0   \n",
       "3        1965.0           0.0  98136.0  47.5208 -122.393         1360.0   \n",
       "4        1987.0           0.0  98074.0  47.6168 -122.045         1800.0   \n",
       "...         ...           ...      ...      ...      ...            ...   \n",
       "21608    2009.0           0.0  98103.0  47.6993 -122.346         1530.0   \n",
       "21609    2014.0           0.0  98146.0  47.5107 -122.362         1830.0   \n",
       "21610    2009.0           0.0  98144.0  47.5944 -122.299         1020.0   \n",
       "21611    2004.0           0.0  98027.0  47.5345 -122.069         1410.0   \n",
       "21612    2008.0           0.0  98144.0  47.5941 -122.299         1020.0   \n",
       "\n",
       "       sqft_lot15  \n",
       "0          5650.0  \n",
       "1          7639.0  \n",
       "2          8062.0  \n",
       "3          5000.0  \n",
       "4          7503.0  \n",
       "...           ...  \n",
       "21608      1509.0  \n",
       "21609      7200.0  \n",
       "21610      2007.0  \n",
       "21611      1287.0  \n",
       "21612      1357.0  \n",
       "\n",
       "[21613 rows x 19 columns]"
      ]
     },
     "execution_count": 104,
     "metadata": {},
     "output_type": "execute_result"
    }
   ],
   "source": [
    "#dropeamos las columnas que no necesitamos como el id y la fecha\n",
    "dataset = df.drop(['id', 'date'], axis=1).astype(float)\n",
    "dataset"
   ]
  },
  {
   "cell_type": "markdown",
   "metadata": {},
   "source": [
    "Se puede notar que nuestro dataset cuenta con 21 columnas, donde nuestra colummna `price` sera nuestra Y_predicha, el cual se busca calcular el precio de una casa dada 20 caracteristicas."
   ]
  },
  {
   "cell_type": "markdown",
   "metadata": {},
   "source": [
    "## Separacion del 80% de los datos para entrenamiento y 20% para pruebas\n",
    "\n",
    "Haremos uso de la libreria `sklearn` haciendo uso de su funcion `train_test_split()`, donde recibe como parametros:\n",
    "\n",
    "`Arrays o matrices de características (X): `Estos son los datos que se utilizarán para hacer predicciones. Por lo general, son las variables independientes o características del conjunto de datos.\n",
    "\n",
    "`test_size (opcional):` Este parámetro especifica el tamaño del conjunto de prueba. Puede ser un número decimal entre 0 y 1, que representa el porcentaje del conjunto de datos que se asignará al conjunto de prueba, o puede ser un entero que representa el número absoluto de muestras en el conjunto de prueba. Por ejemplo, si test_size=0.2, se asignará el 20% del conjunto de datos al conjunto de prueba.\n",
    "\n",
    "`train_size (opcional):` Este parámetro especifica el tamaño del conjunto de entrenamiento. Al igual que test_size, puede ser un número decimal entre 0 y 1 o un entero que representa el número absoluto de muestras en el conjunto de entrenamiento. Si no se proporciona, se calcula automáticamente como 1 - test_size.\n",
    "\n",
    "`random_state (opcional):` Este parámetro permite establecer una semilla para la generación de números pseudoaleatorios. Esto garantiza que la división de los datos sea reproducible. Si se establece en un número entero, el resultado será el mismo cada vez que se ejecute el código."
   ]
  },
  {
   "cell_type": "code",
   "execution_count": 105,
   "metadata": {},
   "outputs": [
    {
     "name": "stdout",
     "output_type": "stream",
     "text": [
      "  X[:,0] X[:, 1]   X[:, 2]   X[:, 3] X[:, 4] X[:, 5] X[:, 6] X[:, 7]X[:, 8]   X[:, 9]  X[:, 10]  X[:, 11]  X[:, 12]  X[:, 13]  X[:, 14]  X[:, 15]  X[:, 16]  X[:, 17]         Y\n",
      "------------------------------------------------------------------------------------------------------------------------------------------------------------------------------------\n",
      "       3       2      1780     13095       1       0       0       4       9      1780       0      1983         0     98042     47.37   -122.15      2750      13095        325000\n",
      "       2       1      1000      3700       1       0       0       3       6       800     200      1929         0     98118     47.55   -122.29      1270       5000        257000\n",
      "       3       1      1080      7486       2       0       0       3       6       990      90      1942         0     98146     47.48   -122.33      1170       7800        228500\n",
      "       3       2      2090      7500       1       0       0       4       7      1280     810      1977         0     98031     47.40   -122.17      1800       7350        288000\n",
      "       2       2      1741      1439       2       0       0       3       8      1446     295      2007         0     98034     47.70   -122.21      2090      10454        479000\n",
      "       3       2      2340     51836       2       0       0       3       8      1510     830      1978         0     98027     47.48   -122.03      2060      77536        459900\n",
      "       5       3      2040      7488       1       0       0       4       7      1200     840      1969         0     98034     47.73   -122.17      1530       7488        449500\n",
      "       5       2      3320     13138       1       0       2       4       9      1900    1420      1964         0     98028     47.76   -122.27      2820      13138        769000\n",
      "       3       2      1760      8400       1       0       0       4       8      1460     300      1960         0     98136     47.54   -122.39      1980       8400        680000\n",
      "       3       2      1610      5024       2       0       0       3       7      1610       0      2004         0     98038     47.38   -122.04      1790       3717        293500\n"
     ]
    }
   ],
   "source": [
    "#retiramos el id y la fecha del las columnas, quitamos el precio ya que ira a el vector Y, tambien quitamos los titulos, covierto a float\n",
    "dataset = df.drop(['id', 'date'], axis=1).astype(float)\n",
    "\n",
    "#separamos el 20% para test y el 80% para entrenamiento deld dataset\n",
    "train_dataset, test_dataset = train_test_split(dataset, test_size=0.2, random_state=42)\n",
    "\n",
    "# Seleccionamos las columnas para X y la columna 'price' para y\n",
    "X_test = test_dataset.drop(['price'], axis=1).values\n",
    "y_test = test_dataset['price'].values\n",
    "m_test = len(y_test)\n",
    "\n",
    "# Seleccionamos las columnas para X y la columna 'price' para y\n",
    "X_train = train_dataset.drop(['price'], axis=1).values\n",
    "y_train = train_dataset['price'].values\n",
    "m_train = len(y_test)\n",
    "# Ahora, X y y deberían contener datos numéricos del 80% del dataset\n",
    "\n",
    "# imprimir todos las X de datos solo 10\n",
    "print('{:>8s}{:>8s}{:>10s}{:>10s}{:>8s}{:>8s}{:>8s}{:>8s}{:>6s}{:>10s}{:>10s}{:>10s}{:>10s}{:>10s}{:>10s}{:>10s}{:>10s}{:>10s}{:>10s}'.format(\n",
    "    'X[:,0]', 'X[:, 1]', 'X[:, 2]', 'X[:, 3]', 'X[:, 4]', 'X[:, 5]', 'X[:, 6]', 'X[:, 7]', 'X[:, 8]', 'X[:, 9]', 'X[:, 10]', 'X[:, 11]',\n",
    "    'X[:, 12]', 'X[:, 13]', 'X[:, 14]', 'X[:, 15]', 'X[:, 16]', 'X[:, 17]', 'Y'\n",
    "))\n",
    "print('-' * 180)\n",
    "\n",
    "for i in range(10):\n",
    "    print('{:8.0f}{:8.0f}{:10.0f}{:10.0f}{:8.0f}{:8.0f}{:8.0f}{:8.0f}{:8.0f}{:10.0f}{:8.0f}{:10.0f}{:10.0f}{:10.0f}{:10.2f}{:10.2f}{:10.0f}{:11.0f}{:14.0f}'.format(\n",
    "        X_train[i, 0], \n",
    "        X_train[i, 1], \n",
    "        X_train[i, 2], \n",
    "        X_train[i, 3], \n",
    "        X_train[i, 4], \n",
    "        X_train[i, 5], \n",
    "        X_train[i, 6], \n",
    "        X_train[i, 7], \n",
    "        X_train[i, 8], \n",
    "        X_train[i, 9], \n",
    "        X_train[i, 10], \n",
    "        X_train[i, 11],\n",
    "        X_train[i, 12],\n",
    "        X_train[i, 13], \n",
    "        X_train[i, 14], \n",
    "        X_train[i, 15], \n",
    "        X_train[i, 16], \n",
    "        X_train[i, 17], \n",
    "        y_train[i]\n",
    "    ))\n"
   ]
  },
  {
   "cell_type": "code",
   "execution_count": 106,
   "metadata": {},
   "outputs": [
    {
     "name": "stdout",
     "output_type": "stream",
     "text": [
      " \n",
      "El 80% de ejemplos para entrenamiento son la cantidad de: 17290 de ejemplos\n",
      "El 20% de ejemplos para pruebas son la cantidad de: 4323 de ejemplos\n",
      "La cantidad total de ejemplos es de: 21613 de ejemplos\n"
     ]
    }
   ],
   "source": [
    "#mostramos la cantidad de ejemplos\n",
    "print(\" \")\n",
    "print('El 80% de ejemplos para entrenamiento son la cantidad de: {:.0f} de ejemplos'.format( len(train_dataset)))\n",
    "print('El 20% de ejemplos para pruebas son la cantidad de: {:.0f} de ejemplos'.format( len(test_dataset)))\n",
    "print('La cantidad total de ejemplos es de: {:.0f} de ejemplos'.format( len(dataset)))"
   ]
  },
  {
   "cell_type": "markdown",
   "metadata": {},
   "source": [
    "## Funcion para la Normalización de caracteristicas\n",
    "\n",
    "Al visualizar los datos se puede observar que las caracteristicas tienen diferentes magnitudes, por lo cual se debe transformar cada valor en una escala de valores similares, esto con el fin de que el descenso por el gradiente pueda converger mas rapidamente.\n",
    "\n",
    "Creando la siguiente funcion para normalizar los datos:"
   ]
  },
  {
   "cell_type": "code",
   "execution_count": 107,
   "metadata": {},
   "outputs": [],
   "source": [
    "def  featureNormalize(X):\n",
    "    X_norm = X.copy()\n",
    "\n",
    "    #creamos un array de ceros con una longitud igual al número de columnas en el array X. La variable mu y sigma se inicializa como este array de ceros.\n",
    "    mu = np.zeros(X.shape[1])\n",
    "    sigma = np.zeros(X.shape[1])\n",
    "\n",
    "    #Creamos el promedio de cada filaa de X\n",
    "    #media de cada columna\n",
    "    mu = np.mean(X, axis = 0)\n",
    "    \n",
    "    #desviacion estandar de cada fila de X\n",
    "    sigma = np.std(X, axis = 0)\n",
    "    \n",
    "    sigma[sigma == 0] = 1\n",
    "    \n",
    "    #normalizamos los datos con la siguiente formula\n",
    "    X_norm = (X - mu) / sigma\n",
    "\n",
    "    return X_norm, mu, sigma"
   ]
  },
  {
   "cell_type": "markdown",
   "metadata": {},
   "source": [
    "## Funcion para graficar"
   ]
  },
  {
   "cell_type": "code",
   "execution_count": 108,
   "metadata": {},
   "outputs": [],
   "source": [
    "# Creamos una funcion que nos ayude con las graficas de cada dato respecto a la Y predicha\n",
    "def graficarDatos(x, y, xlabel, ylabel):\n",
    "    fig = pyplot.figure()\n",
    "    pyplot.plot(x, y, 'ro', ms=10, mec='k')\n",
    "\n",
    "    pyplot.xlabel(xlabel)\n",
    "    pyplot.ylabel(ylabel)"
   ]
  },
  {
   "cell_type": "markdown",
   "metadata": {},
   "source": [
    "## Creacion de la funcion del error cuadratico medio"
   ]
  },
  {
   "cell_type": "code",
   "execution_count": 109,
   "metadata": {},
   "outputs": [],
   "source": [
    "#Creamos la funcion:\n",
    "def mean_squared_error(y_pred, y_actual):\n",
    "    resta = y_pred - y_actual\n",
    "    err_cuadrado = np.sum(resta ** 2)\n",
    "    return err_cuadrado / len(y_pred)"
   ]
  },
  {
   "cell_type": "markdown",
   "metadata": {},
   "source": [
    "## Funcion de calculo de costo con regularizacion\n",
    "\n",
    "Usando la `lambda` como parametro para regularizar el costo, donde el parametros a sumar a la ecuacion de costo es `+ (lambda_ / (2 * m)) * np.sum(np.square(temp))`"
   ]
  },
  {
   "cell_type": "code",
   "execution_count": 110,
   "metadata": {},
   "outputs": [],
   "source": [
    "#aumentamos el parametro de lambda para aplicar regularizacion\n",
    "#Creamos la funcion de calcular costo\n",
    "def calcularCostoCR(X, y, theta, lambda_):\n",
    "    m = y.size\n",
    "    J = 0\n",
    "    \n",
    "    #creamos una varable temporal para theta, donde decimos que el primer valor de temp es 0, esto para respetar la formula donde j = 1\n",
    "    temp = theta.copy()\n",
    "    temp[0] = 0  # Excluimos theta_0 de la regularización\n",
    "    h = np.dot(X, theta)\n",
    "    J = (1 / (2 * m)) * np.sum(np.square(h - y)) + (lambda_ / (2 * m)) * np.sum(np.square(temp))\n",
    "    return J"
   ]
  },
  {
   "cell_type": "markdown",
   "metadata": {},
   "source": [
    "### Funcion de descenso por el gradiente con regularizacion\n",
    "\n",
    "Tambien introducimos el parametro lambda_ para aplicar regularizacion.\n",
    "\n",
    "Para el calculo de nuestras thetas sera\n",
    "\n",
    "para Theta 0 sera `theta[0] = theta[0] - ((alpha/m) *( np.dot(X, theta) - y).dot(X[:, 0]))`.\n",
    "\n",
    "Para las demas thetas sera `theta[1:] = theta[1: ] - ((alpha/m) *( np.dot(X, theta) - y).dot(X[:, 1:])) - (alpha * lambda_ / m) * theta[1:]`"
   ]
  },
  {
   "cell_type": "code",
   "execution_count": 167,
   "metadata": {},
   "outputs": [],
   "source": [
    "#Creamos la funcion para calcular el descenso por Gradiente\n",
    "#tambien introducimos el parametro lambda_ para aplicar regularizacion\n",
    "def calcularDescensoGradienteCR(X, y, theta, alpha,lambda_, numero_iteraciones):\n",
    "    m = y.shape[0]\n",
    "    theta = theta.copy()\n",
    "    J_historico = []\n",
    "\n",
    "    for i in range(numero_iteraciones):\n",
    "        \n",
    "        theta[0] = theta[0] - ((alpha/m) *( np.dot(X, theta) - y).dot(X[:, 0]))\n",
    "        theta[1:] = theta[1: ] - ((alpha/m) *( np.dot(X, theta) - y).dot(X[:, 1:])) - (alpha * lambda_ / m) * theta[1:]\n",
    "\n",
    "        # theta = theta*(1-((alpha*lambda_)/m)) - (alpha / m) * (np.dot(X, theta) - y).dot(X)\n",
    "        \n",
    "        # se hace uso de la funcion de costo para calcular el costo en cada iteracion, sin olvidar del parametro lambda_\n",
    "        J_historico.append(calcularCostoCR(X, y, theta, lambda_))\n",
    "\n",
    "    return theta, J_historico"
   ]
  },
  {
   "cell_type": "markdown",
   "metadata": {},
   "source": [
    "## Funcion de calculo de costo sin regularizacion"
   ]
  },
  {
   "cell_type": "code",
   "execution_count": 112,
   "metadata": {},
   "outputs": [],
   "source": [
    "def calcularCostoSR(X, y, theta):\n",
    "    m = y.size\n",
    "    J = 0\n",
    "    #h = np.dot(X, theta)\n",
    "    # print(h)\n",
    "    J = (1/(2 * m)) * np.sum(np.square(np.dot(X, theta) - y))\n",
    "    return J"
   ]
  },
  {
   "cell_type": "markdown",
   "metadata": {},
   "source": [
    "### Funcion de descenso por el gradiente sin regularizacion"
   ]
  },
  {
   "cell_type": "code",
   "execution_count": 113,
   "metadata": {},
   "outputs": [],
   "source": [
    "#Creamos la funcion para calcular el descenso por Gradiente\n",
    "def calcularDescensoGradienteSR(X, y, theta, alpha, numero_iteraciones):\n",
    "    m = y.shape[0]\n",
    "    theta = theta.copy()\n",
    "    J_historico = []\n",
    "\n",
    "    for i in range(numero_iteraciones):\n",
    "        \n",
    "        theta = theta - (alpha / m) * (np.dot(X, theta) - y).dot(X)\n",
    "        # se hace uso de la funcion de costo para calcular el costo en cada iteracion\n",
    "        J_historico.append(calcularCostoSR(X, y, theta))\n",
    "\n",
    "    return theta, J_historico"
   ]
  },
  {
   "cell_type": "markdown",
   "metadata": {},
   "source": [
    "## Funcion del calculo de la ecuacion de la normal con regularizacion"
   ]
  },
  {
   "cell_type": "code",
   "execution_count": 114,
   "metadata": {},
   "outputs": [],
   "source": [
    "def calcularThethaEcuacionNormalCR(X, y, lambda_):\n",
    "    m,n = X.shape\n",
    "    \n",
    "    # Creamos la matriz L\n",
    "    L = np.eye(n)  # Matriz identidad de tamaño (n+1) x (n+1)\n",
    "    L[0, 0] = 0  # Establecemos el primer elemento de la matriz L en 0\n",
    "    \n",
    "    theta = np.zeros(X.shape[1])\n",
    "\n",
    "    theta = np.dot(np.dot(np.linalg.inv(np.dot(np.transpose(X),X) + (lambda_*L)), np.transpose(X)),y)\n",
    "\n",
    "    return theta"
   ]
  },
  {
   "cell_type": "markdown",
   "metadata": {},
   "source": [
    "## Funcion del calculo de la ecuacion de la normal sin regularizacion"
   ]
  },
  {
   "cell_type": "code",
   "execution_count": 115,
   "metadata": {},
   "outputs": [],
   "source": [
    "def calcularThethaEcuacionNormalSR(X, y):\n",
    "    theta = np.zeros(X.shape[1])\n",
    "\n",
    "    theta = np.dot(np.dot(np.linalg.inv(np.dot(np.transpose(X),X)),np.transpose(X)),y)\n",
    "\n",
    "    return theta"
   ]
  },
  {
   "cell_type": "markdown",
   "metadata": {},
   "source": [
    "## 1. Usando Regularizacion\n",
    "\n",
    "La regularización es una técnica utilizada en el aprendizaje automático para prevenir el **sobreajuste (overfitting)** de un modelo a los datos de entrenamiento.\n",
    "\n",
    "El sobreajuste ocurre cuando un modelo se ajusta demasiado bien a los datos de entrenamiento y captura el ruido o las fluctuaciones aleatorias en los datos en lugar de aprender la verdadera relación subyacente entre las características y la variable objetivo. Esto puede resultar en un rendimiento deficiente del modelo cuando se enfrenta a nuevos datos que no formaban parte del conjunto de entrenamiento."
   ]
  },
  {
   "cell_type": "markdown",
   "metadata": {},
   "source": [
    "### 1.1 regresion lineal multivariable"
   ]
  },
  {
   "cell_type": "markdown",
   "metadata": {},
   "source": [
    "Carga de los datos para la regresion lineal multivariable:"
   ]
  },
  {
   "cell_type": "code",
   "execution_count": 116,
   "metadata": {},
   "outputs": [],
   "source": [
    "#hacemos una copia de y_train y y_test para usarlo en la regresion lineal multivariable\n",
    "\n",
    "#estos datos seran usados para el entrenamiento\n",
    "X_testRLM = X_test.copy()\n",
    "y_testRLM = y_test.copy()\n",
    "m_test_RLM = len(y_testRLM)\n",
    "\n",
    "#estos datos seran usados para el test\n",
    "X_trainRLM = X_train.copy()\n",
    "y_trainRLM = y_train.copy()\n",
    "m_train_RLM = len(y_trainRLM)"
   ]
  },
  {
   "cell_type": "markdown",
   "metadata": {},
   "source": [
    "#### 1.1.1 Normalizacion de las caracteristicas\n",
    "\n",
    "Se hace uso de la funcion de `featureNormalize(X) ` donde se recibe un parametro de tipo matriz para normalizar cada dato dentro de ella, retornandome la **matriz normalizda**, **sigma(desviacion estandar)**, y mi **mu(media)**."
   ]
  },
  {
   "cell_type": "code",
   "execution_count": 117,
   "metadata": {},
   "outputs": [
    {
     "name": "stdout",
     "output_type": "stream",
     "text": [
      "    X[:,0]   X[:, 1]   X[:, 2]   X[:, 3]   X[:, 4]   X[:, 5]   X[:, 6]   X[:, 7]   X[:, 8]   X[:, 9]  X[:, 10]  X[:, 11]  X[:, 12]  X[:, 13]  X[:, 14]  X[:, 15]  X[:, 16]  X[:, 17]\n",
      "------------------------------------------------------------------------------------------------------------------------------------------------------------------------------------\n",
      "    -0.395    -0.474    -0.324    -0.044    -0.920    -0.085    -0.306     0.909     1.150    -0.007    -0.656     0.404    -0.208    -0.675    -1.397     0.442     1.126     0.013\n",
      "    -1.469    -1.453    -1.184    -0.286    -0.920    -0.085    -0.306    -0.625    -1.413    -1.200    -0.200    -1.431    -0.208     0.751    -0.060    -0.540    -1.047    -0.281\n",
      "    -0.395    -1.453    -1.095    -0.188     0.002    -0.085    -0.306    -0.625    -1.413    -0.969    -0.451    -0.989    -0.208     1.276    -0.553    -0.860    -1.193    -0.179\n",
      "    -0.395     0.178     0.018    -0.188    -0.920    -0.085    -0.306     0.909    -0.559    -0.616     1.190     0.200    -0.208    -0.881    -1.194     0.300    -0.268    -0.195\n",
      "    -1.469     0.504    -0.367    -0.344     0.923    -0.085    -0.306    -0.625     0.296    -0.414     0.016     1.219    -0.208    -0.825     1.040     0.037     0.157    -0.083\n",
      "    -0.395    -0.474     0.293     0.954     0.002    -0.085    -0.306    -0.625     0.296    -0.336     1.236     0.234    -0.208    -0.956    -0.547     1.275     0.113     2.355\n",
      "     1.752     0.830    -0.037    -0.188    -0.920    -0.085    -0.306     0.909    -0.559    -0.713     1.258    -0.072    -0.208    -0.825     1.218     0.300    -0.665    -0.190\n",
      "     1.752     0.178     1.373    -0.043    -0.920    -0.085     2.320     0.909     1.150     0.139     2.580    -0.241    -0.208    -0.937     1.435    -0.390     1.229     0.015\n",
      "    -0.395    -0.474    -0.346    -0.165    -0.920    -0.085    -0.306     0.909     0.296    -0.397     0.028    -0.377    -0.208     1.088    -0.179    -1.252    -0.004    -0.157\n",
      "    -0.395     0.504    -0.511    -0.252     0.923    -0.085    -0.306    -0.625    -0.559    -0.214    -0.656     1.117    -0.208    -0.750    -1.279     1.218    -0.283    -0.327\n"
     ]
    }
   ],
   "source": [
    "#introductimos los datos a la funcion de normalizacion\n",
    "X_norm_RLM, mu_RLM, sigma_RLM = featureNormalize(X_trainRLM)\n",
    "\n",
    "# imprimimos algunos valores de X_norm\n",
    "print('{:>10s}{:>10s}{:>10s}{:>10s}{:>10s}{:>10s}{:>10s}{:>10s}{:>10s}{:>10s}{:>10s}{:>10s}{:>10s}{:>10s}{:>10s}{:>10s}{:>10s}{:>10s}'.format(\n",
    "    'X[:,0]', 'X[:, 1]', 'X[:, 2]', 'X[:, 3]', 'X[:, 4]', 'X[:, 5]', 'X[:, 6]', 'X[:, 7]', 'X[:, 8]', 'X[:, 9]', 'X[:, 10]', 'X[:, 11]',\n",
    "    'X[:, 12]', 'X[:, 13]', 'X[:, 14]', 'X[:, 15]', 'X[:, 16]', 'X[:, 17]'\n",
    "))\n",
    "print('-' * 180)\n",
    "\n",
    "for i in range(10):\n",
    "    print('{:10.3f}{:10.3f}{:10.3f}{:10.3f}{:10.3f}{:10.3f}{:10.3f}{:10.3f}{:10.3f}{:10.3f}{:10.3f}{:10.3f}{:10.3f}{:10.3f}{:10.3f}{:10.3f}{:10.3f}{:10.3f}'.format(\n",
    "        X_norm_RLM[i, 0], \n",
    "        X_norm_RLM[i, 1], \n",
    "        X_norm_RLM[i, 2], \n",
    "        X_norm_RLM[i, 3], \n",
    "        X_norm_RLM[i, 4], \n",
    "        X_norm_RLM[i, 5], \n",
    "        X_norm_RLM[i, 6], \n",
    "        X_norm_RLM[i, 7], \n",
    "        X_norm_RLM[i, 8], \n",
    "        X_norm_RLM[i, 9], \n",
    "        X_norm_RLM[i, 10], \n",
    "        X_norm_RLM[i, 11],\n",
    "        X_norm_RLM[i, 12],\n",
    "        X_norm_RLM[i, 13], \n",
    "        X_norm_RLM[i, 14], \n",
    "        X_norm_RLM[i, 15], \n",
    "        X_norm_RLM[i, 16], \n",
    "        X_norm_RLM[i, 17],))\n",
    "\n"
   ]
  },
  {
   "cell_type": "markdown",
   "metadata": {},
   "source": [
    "#### 1.1.2 Agregamos la columna de unos a nuestra matriz"
   ]
  },
  {
   "cell_type": "code",
   "execution_count": 118,
   "metadata": {},
   "outputs": [
    {
     "name": "stdout",
     "output_type": "stream",
     "text": [
      "    X[:,0]   X[:, 1]   X[:, 2]   X[:, 3]   X[:, 4]   X[:, 5]   X[:, 6]   X[:, 7]   X[:, 8]   X[:, 9]  X[:, 10]  X[:, 11]  X[:, 12]  X[:, 13]  X[:, 14]  X[:, 15]  X[:, 16]  X[:, 17]  X[:, 18]\n",
      "------------------------------------------------------------------------------------------------------------------------------------------------------------------------------------\n",
      "     1.000    -0.395    -0.474    -0.324    -0.044    -0.920    -0.085    -0.306     0.909     1.150    -0.007    -0.656     0.404    -0.208    -0.675    -1.397     0.442     1.126     0.013\n",
      "     1.000    -1.469    -1.453    -1.184    -0.286    -0.920    -0.085    -0.306    -0.625    -1.413    -1.200    -0.200    -1.431    -0.208     0.751    -0.060    -0.540    -1.047    -0.281\n",
      "     1.000    -0.395    -1.453    -1.095    -0.188     0.002    -0.085    -0.306    -0.625    -1.413    -0.969    -0.451    -0.989    -0.208     1.276    -0.553    -0.860    -1.193    -0.179\n",
      "     1.000    -0.395     0.178     0.018    -0.188    -0.920    -0.085    -0.306     0.909    -0.559    -0.616     1.190     0.200    -0.208    -0.881    -1.194     0.300    -0.268    -0.195\n",
      "     1.000    -1.469     0.504    -0.367    -0.344     0.923    -0.085    -0.306    -0.625     0.296    -0.414     0.016     1.219    -0.208    -0.825     1.040     0.037     0.157    -0.083\n",
      "     1.000    -0.395    -0.474     0.293     0.954     0.002    -0.085    -0.306    -0.625     0.296    -0.336     1.236     0.234    -0.208    -0.956    -0.547     1.275     0.113     2.355\n",
      "     1.000     1.752     0.830    -0.037    -0.188    -0.920    -0.085    -0.306     0.909    -0.559    -0.713     1.258    -0.072    -0.208    -0.825     1.218     0.300    -0.665    -0.190\n",
      "     1.000     1.752     0.178     1.373    -0.043    -0.920    -0.085     2.320     0.909     1.150     0.139     2.580    -0.241    -0.208    -0.937     1.435    -0.390     1.229     0.015\n",
      "     1.000    -0.395    -0.474    -0.346    -0.165    -0.920    -0.085    -0.306     0.909     0.296    -0.397     0.028    -0.377    -0.208     1.088    -0.179    -1.252    -0.004    -0.157\n",
      "     1.000    -0.395     0.504    -0.511    -0.252     0.923    -0.085    -0.306    -0.625    -0.559    -0.214    -0.656     1.117    -0.208    -0.750    -1.279     1.218    -0.283    -0.327\n"
     ]
    }
   ],
   "source": [
    "X_ready_RLM = np.concatenate([np.ones((m_train_RLM, 1)), X_norm_RLM], axis=1)\n",
    "\n",
    "# imprimimos algunos valores de X_norm\n",
    "print('{:>10s}{:>10s}{:>10s}{:>10s}{:>10s}{:>10s}{:>10s}{:>10s}{:>10s}{:>10s}{:>10s}{:>10s}{:>10s}{:>10s}{:>10s}{:>10s}{:>10s}{:>10s}{:>10s}'.format(\n",
    "    'X[:,0]', 'X[:, 1]', 'X[:, 2]', 'X[:, 3]', 'X[:, 4]', 'X[:, 5]', 'X[:, 6]', 'X[:, 7]', 'X[:, 8]', 'X[:, 9]', 'X[:, 10]', 'X[:, 11]',\n",
    "    'X[:, 12]', 'X[:, 13]', 'X[:, 14]', 'X[:, 15]', 'X[:, 16]', 'X[:, 17]', 'X[:, 18]'\n",
    "))\n",
    "print('-' * 180)\n",
    "\n",
    "for i in range(10):\n",
    "    print('{:10.3f}{:10.3f}{:10.3f}{:10.3f}{:10.3f}{:10.3f}{:10.3f}{:10.3f}{:10.3f}{:10.3f}{:10.3f}{:10.3f}{:10.3f}{:10.3f}{:10.3f}{:10.3f}{:10.3f}{:10.3f}{:10.3f}'.format(\n",
    "        X_ready_RLM[i, 0], \n",
    "        X_ready_RLM[i, 1], \n",
    "        X_ready_RLM[i, 2], \n",
    "        X_ready_RLM[i, 3], \n",
    "        X_ready_RLM[i, 4], \n",
    "        X_ready_RLM[i, 5], \n",
    "        X_ready_RLM[i, 6], \n",
    "        X_ready_RLM[i, 7], \n",
    "        X_ready_RLM[i, 8], \n",
    "        X_ready_RLM[i, 9], \n",
    "        X_ready_RLM[i, 10], \n",
    "        X_ready_RLM[i, 11],\n",
    "        X_ready_RLM[i, 12],\n",
    "        X_ready_RLM[i, 13], \n",
    "        X_ready_RLM[i, 14], \n",
    "        X_ready_RLM[i, 15], \n",
    "        X_ready_RLM[i, 16], \n",
    "        X_ready_RLM[i, 17],\n",
    "        X_ready_RLM[i, 18]))"
   ]
  },
  {
   "cell_type": "markdown",
   "metadata": {},
   "source": [
    "#### 1.1.3 Descenso por el gradiente\n",
    "\n",
    "El descenso por el gradiente con la función de costo es un algoritmo fundamental en el aprendizaje automático supervisado, especialmente en problemas de optimización de modelos. Su propósito principal es minimizar la función de costo (o pérdida) de un modelo mediante ajustes iterativos de los parámetros del modelo."
   ]
  },
  {
   "cell_type": "markdown",
   "metadata": {},
   "source": [
    "##### 1.1.3.1 Cálculo del costo $J(\\theta)$"
   ]
  },
  {
   "cell_type": "markdown",
   "metadata": {},
   "source": [
    "hacemos uso de la funcion `def calcularCosto(X, y, theta, lambda_)`;"
   ]
  },
  {
   "cell_type": "markdown",
   "metadata": {},
   "source": [
    "Ejemplo de funcionamiento de la funcion computeCoste con dos valores diferentes de $\\theta$."
   ]
  },
  {
   "cell_type": "code",
   "execution_count": 119,
   "metadata": {},
   "outputs": [
    {
     "name": "stdout",
     "output_type": "stream",
     "text": [
      "19\n",
      "########################################################################################################\n",
      "con theta:[0.2 3.  0.2 0.1 3.  0.2 1.1 2.  0.7 0.8 5.8 0.9 0.7 2.  0.5 0.8 1.  0.2\n",
      " 0.3] se obtiene un costo de: 209918722471.0707\n",
      "########################################################################################################\n",
      "con theta:[0.1  2.   0.5  0.2  8.   0.7  1.3  8.   1.7  0.7  7.1  0.6  0.6  1.\n",
      " 0.3  0.9  2.   0.12 0.7 ] se obtiene un costo de: 209917518348.3954\n"
     ]
    }
   ],
   "source": [
    "theta_RLM=np.array([0.2, 3.0, 0.2,0.1, 3.0, 0.2,1.1, 2.0, 0.7,0.8, 5.8, 0.9,0.7, 2.0, 0.5,0.8, 1.0, 0.2,0.3])\n",
    "theta_RLM1=np.array([0.1, 2.0, 0.5,0.2, 8.0, 0.7,1.3, 8.0, 1.7,0.7, 7.1, 0.6,0.6, 1.0, 0.3,0.9, 2.0, 0.12,0.7])\n",
    "\n",
    "lambda_ = 1000\n",
    "print(theta_RLM.shape[0])\n",
    "print(f\"########################################################################################################\")\n",
    "print(f\"con theta:{ theta_RLM } se obtiene un costo de: {calcularCostoCR(X_ready_RLM, y_trainRLM, theta_RLM, lambda_)}\")\n",
    "print(f\"########################################################################################################\")\n",
    "print(f\"con theta:{ theta_RLM1 } se obtiene un costo de: {calcularCostoCR(X_ready_RLM, y_trainRLM, theta_RLM1, lambda_)}\")"
   ]
  },
  {
   "cell_type": "markdown",
   "metadata": {},
   "source": [
    "##### 1.1.3.2Descenso por el gradiente\n",
    "\n",
    "Hacemos uso de la funcion para hacer el calculo del descenso por el gradiente y asi encontrar nuestras **Thetas**, se hizo la modificacion para que la funcion ahora reciba el parametro de ``lamda_``"
   ]
  },
  {
   "cell_type": "markdown",
   "metadata": {},
   "source": [
    "Se inicializan los parametros $\\theta$ con 0 y la taza de aprendizaje $\\alpha$ con 0.00009."
   ]
  },
  {
   "cell_type": "code",
   "execution_count": 120,
   "metadata": {},
   "outputs": [
    {
     "name": "stdout",
     "output_type": "stream",
     "text": [
      "########################################################################################################\n",
      "Los valores de theta calculados son:\n",
      "theta 1: 535345.0735611608\n",
      "theta 2: -23341.149074384088\n",
      "theta 3: 30840.551059940317\n",
      "theta 4: 73625.60659264788\n",
      "theta 5: 3407.1389361825964\n",
      "theta 6: 6378.5279851257965\n",
      "theta 7: 45432.21037179343\n",
      "theta 8: 41115.62138205015\n",
      "theta 9: 19412.031478750498\n",
      "theta 10: 93863.00245717914\n",
      "theta 11: 67209.66475622509\n",
      "theta 12: 26392.568810811546\n",
      "theta 13: -62770.52021591055\n",
      "theta 14: 12451.752787579297\n",
      "theta 15: -20219.714550494275\n",
      "theta 16: 79334.27791170268\n",
      "theta 17: -26475.679046421075\n",
      "theta 18: 32447.256985648226\n",
      "theta 19: -7013.86834772752\n",
      "########################################################################################################\n",
      "con un costo de: 20938833910.808205 \n",
      "la cantidad de theta son:  19\n"
     ]
    }
   ],
   "source": [
    "#creamos un theta de ceros con el tamaño de las columnas de nuestra X\n",
    "theta = np.zeros(len(X_ready_RLM[0]))\n",
    "\n",
    "#numero de iteraciones sera 6000, un alpha 0.00009 y un lambda de 1000\n",
    "num_ite_RLM = 6000\n",
    "alpha_RLM = 0.0009\n",
    "lambda_RLM = 1000\n",
    "\n",
    "theta_RLM, J_historico_RLM = calcularDescensoGradienteCR(X_ready_RLM, y_trainRLM, theta , alpha_RLM,lambda_RLM, num_ite_RLM)\n",
    "print(\"########################################################################################################\")\n",
    "print(\"Los valores de theta calculados son:\")\n",
    "i = 0\n",
    "for tht_RLM in theta_RLM:\n",
    "    i += 1\n",
    "    print(f\"theta {i}: {tht_RLM}\")\n",
    "\n",
    "print(f\"########################################################################################################\")\n",
    "#mostramos el ultimo costo, este seria el mejor costo\n",
    "print(f\"con un costo de: { J_historico_RLM[-1]} \")\n",
    "\n",
    "print(\"la cantidad de theta son: \", theta_RLM.shape[0])"
   ]
  },
  {
   "cell_type": "markdown",
   "metadata": {},
   "source": [
    "#### 1.1.4 Grafica de la convergencia del costo\n",
    "graficamos el costo"
   ]
  },
  {
   "cell_type": "code",
   "execution_count": 121,
   "metadata": {},
   "outputs": [
    {
     "data": {
      "text/plain": [
       "Text(0, 0.5, 'Costo J')"
      ]
     },
     "execution_count": 121,
     "metadata": {},
     "output_type": "execute_result"
    },
    {
     "data": {
      "image/png": "[encoded data removed]",
      "text/plain": [
       "<Figure size 640x480 with 1 Axes>"
      ]
     },
     "metadata": {},
     "output_type": "display_data"
    }
   ],
   "source": [
    "pyplot.plot(np.arange(len(J_historico_RLM)), J_historico_RLM, lw=2)\n",
    "pyplot.title(\"Grafica de la convergencia del costo\")\n",
    "pyplot.xlabel('Numero de iteraciones')\n",
    "pyplot.ylabel('Costo J')"
   ]
  },
  {
   "cell_type": "markdown",
   "metadata": {},
   "source": [
    "##### 1.1.4.1 Grafica de la regresion lineal\n",
    "\n",
    "En esta parte se trazan los datos de entrenamiento y una línea que representa la regresión lineal ajustada a esos datos."
   ]
  },
  {
   "cell_type": "code",
   "execution_count": 122,
   "metadata": {},
   "outputs": [
    {
     "data": {
      "text/plain": [
       "<matplotlib.legend.Legend at 0x1ff104c3e60>"
      ]
     },
     "execution_count": 122,
     "metadata": {},
     "output_type": "execute_result"
    },
    {
     "data": {
      "image/png": "[encoded data removed]",
      "text/plain": [
       "<Figure size 640x480 with 1 Axes>"
      ]
     },
     "metadata": {},
     "output_type": "display_data"
    }
   ],
   "source": [
    "graficarDatos(X_norm_RLM[:, 1],  X_norm_RLM[:, 2] , \"X_norm_1\", \"X_norm_2\")\n",
    "\n",
    "pyplot.plot(X_norm_RLM[:,1], np.dot(X_ready_RLM, theta_RLM), '-')\n",
    "\n",
    "pyplot.legend(['Datos de entrenamiento', 'regresion lineal'])"
   ]
  },
  {
   "cell_type": "markdown",
   "metadata": {},
   "source": [
    "haciendo una pequeña prueba:"
   ]
  },
  {
   "cell_type": "code",
   "execution_count": 123,
   "metadata": {},
   "outputs": [
    {
     "name": "stdout",
     "output_type": "stream",
     "text": [
      "La prediccion de la casa es de: [217583.1540326]\n"
     ]
    }
   ],
   "source": [
    "X_arrayRLM = np.array([1,3,1,1180,5650,1,0,0,3,7,1180,0,1955,0,98178,47.5112,-122.257,1340,5650])\n",
    "X_arrayRLM = X_arrayRLM.reshape(1, -1)\n",
    "\n",
    "X_arrayRLM[:, 1:] = (X_arrayRLM[:, 1:] - mu_RLM) / sigma_RLM\n",
    "\n",
    "prediccion_RLM = np.dot(X_arrayRLM, theta_RLM)\n",
    "\n",
    "print (f\"La prediccion de la casa es de: {prediccion_RLM}\")"
   ]
  },
  {
   "cell_type": "markdown",
   "metadata": {},
   "source": [
    "#### 1.1.5 Ejemplos de Predicciones"
   ]
  },
  {
   "cell_type": "markdown",
   "metadata": {},
   "source": [
    "Se creo una matriz con 11 ejemplos, donde se hace las predicciones correspondientes:"
   ]
  },
  {
   "cell_type": "code",
   "execution_count": 124,
   "metadata": {},
   "outputs": [
    {
     "name": "stdout",
     "output_type": "stream",
     "text": [
      "20\n",
      "19\n",
      "+----+------------+-------------+---------------+------------+----------+--------------+--------+-------------+---------+--------------+-----------------+------------+----------------+-----------+---------+----------+-----------------+--------------+----------+\n",
      "|    |   bedrooms |   bathrooms |   sqft_living |   sqft_lot |   floors |   waterfront |   view |   condition |   grade |   sqft_above |   sqft_basement |   yr_built |   yr_renovated |   zipcode |     lat |     long |   sqft_living15 |   sqft_lot15 |    Price |\n",
      "+====+============+=============+===============+============+==========+==============+========+=============+=========+==============+=================+============+================+===========+=========+==========+=================+==============+==========+\n",
      "|  1 |          3 |        1    |          1180 |       5650 |      1   |            0 |      0 |           3 |       7 |         1180 |               0 |       1955 |              0 |     98178 | 47.5112 | -122.257 |            1340 |         5650 | 217583   |\n",
      "+----+------------+-------------+---------------+------------+----------+--------------+--------+-------------+---------+--------------+-----------------+------------+----------------+-----------+---------+----------+-----------------+--------------+----------+\n",
      "|  1 |          2 |        0.75 |          1020 |       1076 |      2   |            0 |      0 |           3 |       7 |         1020 |               0 |       2008 |              0 |     98144 | 47.5941 | -122.299 |            1020 |         1357 | 159012   |\n",
      "+----+------------+-------------+---------------+------------+----------+--------------+--------+-------------+---------+--------------+-----------------+------------+----------------+-----------+---------+----------+-----------------+--------------+----------+\n",
      "|  1 |          4 |        2.75 |          3555 |       6565 |      2   |            0 |      0 |           3 |       9 |         3555 |               0 |       2014 |              0 |     98053 | 47.6847 | -122.017 |            3625 |         5637 | 906788   |\n",
      "+----+------------+-------------+---------------+------------+----------+--------------+--------+-------------+---------+--------------+-----------------+------------+----------------+-----------+---------+----------+-----------------+--------------+----------+\n",
      "|  1 |          2 |        1    |          1040 |      13920 |      1   |            0 |      0 |           3 |       6 |         1040 |               0 |       1973 |           1867 |     98198 | 47.3756 | -122.306 |            1100 |         7575 |  72321.3 |\n",
      "+----+------------+-------------+---------------+------------+----------+--------------+--------+-------------+---------+--------------+-----------------+------------+----------------+-----------+---------+----------+-----------------+--------------+----------+\n",
      "|  1 |          4 |        1.75 |          1860 |       7350 |      1   |            0 |      0 |           4 |       7 |         1090 |             770 |       1977 |           1900 |     98031 | 47.3979 | -122.174 |            1710 |         7350 | 351577   |\n",
      "+----+------------+-------------+---------------+------------+----------+--------------+--------+-------------+---------+--------------+-----------------+------------+----------------+-----------+---------+----------+-----------------+--------------+----------+\n",
      "|  1 |          1 |        1    |          1060 |      54846 |      1   |            1 |      4 |           3 |       5 |         1060 |               0 |       1935 |              0 |     98070 | 47.4716 | -122.445 |            2258 |        31762 | 979787   |\n",
      "+----+------------+-------------+---------------+------------+----------+--------------+--------+-------------+---------+--------------+-----------------+------------+----------------+-----------+---------+----------+-----------------+--------------+----------+\n",
      "|  1 |          4 |        1.5  |          2220 |       9496 |      1   |            0 |      0 |           4 |       7 |         1490 |             730 |       1954 |              0 |     98004 | 47.6233 | -122.206 |            1800 |         8286 | 540413   |\n",
      "+----+------------+-------------+---------------+------------+----------+--------------+--------+-------------+---------+--------------+-----------------+------------+----------------+-----------+---------+----------+-----------------+--------------+----------+\n",
      "|  1 |          4 |        1.5  |          1560 |       6534 |      1   |            0 |      0 |           4 |       7 |         1560 |               0 |       1962 |              0 |     98007 | 47.6012 | -122.152 |            1560 |         6969 | 396268   |\n",
      "+----+------------+-------------+---------------+------------+----------+--------------+--------+-------------+---------+--------------+-----------------+------------+----------------+-----------+---------+----------+-----------------+--------------+----------+\n",
      "|  1 |          5 |        3    |          2510 |       4125 |      1.5 |            0 |      3 |           5 |       8 |         1590 |             920 |       1925 |              0 |     98144 | 47.5968 | -122.29  |            2190 |         5415 | 924861   |\n",
      "+----+------------+-------------+---------------+------------+----------+--------------+--------+-------------+---------+--------------+-----------------+------------+----------------+-----------+---------+----------+-----------------+--------------+----------+\n",
      "|  1 |          3 |        2.5  |          1680 |       2096 |      2   |            0 |      0 |           3 |       8 |         1380 |             300 |       2008 |              0 |     98117 | 47.6904 | -122.37  |            1360 |         2096 | 480501   |\n",
      "+----+------------+-------------+---------------+------------+----------+--------------+--------+-------------+---------+--------------+-----------------+------------+----------------+-----------+---------+----------+-----------------+--------------+----------+\n",
      "|  1 |          3 |        2.25 |          2020 |       3600 |      2   |            0 |      0 |           3 |       8 |         2020 |               0 |       1998 |              0 |     98033 | 47.6678 | -122.165 |            2070 |         3699 | 567478   |\n",
      "+----+------------+-------------+---------------+------------+----------+--------------+--------+-------------+---------+--------------+-----------------+------------+----------------+-----------+---------+----------+-----------------+--------------+----------+\n"
     ]
    }
   ],
   "source": [
    "#Creamos la matriz con 11 ejemplos para hacer la prueba predecir un precio de cada ejemplo:\n",
    "matriz_datos_RLM = np.array([\n",
    "    [1,3,1,1180,5650,1,0,0,3,7,1180,0,1955,0,98178,47.5112,-122.257,1340,5650],\n",
    "    [1,2,0.75,1020,1076,2,0,0,3,7,1020,0,2008,0,98144,47.5941,-122.299,1020,1357],\n",
    "    [1,4,2.75,3555,6565,2,0,0,3,9,3555,0,2014,0,98053,47.6847,-122.017,3625,5637],\n",
    "    [1,2,1,1040,13920,1,0,0,3,6,1040,0,1973,1867,98198,47.3756,-122.306,1100,7575],\n",
    "    [1,4,1.75,1860,7350,1,0,0,4,7,1090,770,1977,1900,98031,47.3979,-122.174,1710,7350],\n",
    "    [1,1,1,1060,54846,1,1,4,3,5,1060,0,1935,0,98070,47.4716,-122.445,2258,31762],\n",
    "    [1,4,1.5,2220,9496,1,0,0,4,7,1490,730,1954,0,98004,47.6233,-122.206,1800,8286],\n",
    "    [1,4,1.5,1560,6534,1,0,0,4,7,1560,0,1962,0,98007,47.6012,-122.152,1560,6969],\n",
    "    [1,5,3,2510,4125,1.5,0,3,5,8,1590,920,1925,0,98144,47.5968,-122.29,2190,5415],\n",
    "    [1,3,2.5,1680,2096,2,0,0,3,8,1380,300,2008,0,98117,47.6904,-122.37,1360,2096],\n",
    "    [1,3,2.25,2020,3600,2,0,0,3,8,2020,0,1998,0,98033,47.6678,-122.165,2070,3699]\n",
    "])\n",
    "\n",
    "#creamos un vector parta almacenar cada Y predicha\n",
    "y_pre_RLM = []\n",
    "matriz_datos_RLM_copy = matriz_datos_RLM.copy()\n",
    "\n",
    "#Normalizamos todos, menos el primer valor de cada ejemplo\n",
    "\n",
    "matriz_datos_RLM_copy[:, 1:] = (matriz_datos_RLM_copy[:, 1:] - mu_RLM) / sigma_RLM\n",
    "\n",
    "\n",
    "#Calculamos la Y predicha de los 11 ejemplos de prediccion\n",
    "for datos in matriz_datos_RLM_copy:\n",
    "    y_pre_RLM.append(np.dot(datos, theta_RLM))\n",
    "\n",
    "matriz_datos_RLM = np.column_stack((matriz_datos_RLM, y_pre_RLM))\n",
    "\n",
    "nombres_columnas = ['bedrooms','bathrooms','sqft_living','sqft_lot','floors','waterfront','view','condition','grade','sqft_above','sqft_basement','yr_built','yr_renovated','zipcode','lat','long','sqft_living15','sqft_lot15','Price']\n",
    "\n",
    "# Convertir la matriz en una lista de listas\n",
    "datos_para_tabla = matriz_datos_RLM.tolist()\n",
    "\n",
    "print(len(matriz_datos_RLM[0]))\n",
    "print(len(matriz_datos_RLM_copy[0]))\n",
    "\n",
    "# Imprimir la tabla\n",
    "print(tabulate(datos_para_tabla, headers=nombres_columnas, tablefmt='grid'))"
   ]
  },
  {
   "cell_type": "markdown",
   "metadata": {},
   "source": [
    "#### 1.1.6 Validaciones\n",
    "Para hacer las validaciones correspondientes, primero se crea la funcion del **Mean squeared error**\n",
    "\n",
    "Siguiendo el consejo de 80/20, donde 80% es para la fase de entrenamiento, y 20% es para la fase de prueba.\n",
    "\n",
    "haciendo calculo del error cuadratico medio:"
   ]
  },
  {
   "cell_type": "code",
   "execution_count": 125,
   "metadata": {},
   "outputs": [
    {
     "name": "stdout",
     "output_type": "stream",
     "text": [
      "Error Cuadrático Medio (MSE) = 45872727780.39493\n",
      "Raíz del Error Cuadrático Medio (RMSE) = 214179.19548918595\n"
     ]
    }
   ],
   "source": [
    "#Concatenamos de unos a la primera posicion del X_test\n",
    "X_testRLM_ready = np.concatenate([np.ones((m_test_RLM, 1)), X_testRLM], axis=1)\n",
    "\n",
    "# Normalizamos todos, menos el primer valor de cada ejemplo porque este contiene los unos\n",
    "X_testRLM_ready[:, 1:] = (X_testRLM_ready[:, 1:] - mu_RLM) / sigma_RLM\n",
    "\n",
    "#creamos un array que almacenara cada una de las y_predicha\n",
    "y_predicha_RLM = []\n",
    "for data_RLM in X_testRLM_ready:\n",
    "    y_predicha_RLM.append(np.dot(data_RLM, theta_RLM))\n",
    "\n",
    "mse_RLM = mean_squared_error(y_predicha_RLM, y_testRLM)\n",
    "#calculamos el error cuadratico medio:\n",
    "print('Error Cuadrático Medio (MSE) = ' + str(mse_RLM))\n",
    "print('Raíz del Error Cuadrático Medio (RMSE) = ' + str(np.sqrt(mse_RLM)))"
   ]
  },
  {
   "cell_type": "markdown",
   "metadata": {},
   "source": [
    "### 1.2 Regresion Polinomica"
   ]
  },
  {
   "cell_type": "markdown",
   "metadata": {},
   "source": [
    "Importamos **PolynomialFeatures** es una clase en scikit-learn que se utiliza para generar características polinómicas a partir de un conjunto de características existente. En el contexto de regresión polinómica, puedes usar PolynomialFeatures para generar nuevas características que son combinaciones polinómicas de las características originales."
   ]
  },
  {
   "cell_type": "code",
   "execution_count": 126,
   "metadata": {},
   "outputs": [],
   "source": [
    "from sklearn.preprocessing import PolynomialFeatures"
   ]
  },
  {
   "cell_type": "markdown",
   "metadata": {},
   "source": [
    "Carga de los datos para la regresion lineal multivariable:"
   ]
  },
  {
   "cell_type": "code",
   "execution_count": 127,
   "metadata": {},
   "outputs": [
    {
     "name": "stdout",
     "output_type": "stream",
     "text": [
      "la cantidad de columnas de X_trainRLP es de:  190\n",
      "la cantidad de ejemplos de X_trainRLP es de:  17290\n"
     ]
    }
   ],
   "source": [
    "#hacemos una copia de y_train y y_test para usarlo en la regresion lineal multivariable\n",
    "\n",
    "#estos datos seran usados para el entrenamiento\n",
    "X_testRLP = X_test.copy()\n",
    "y_testRLP = y_test.copy()\n",
    "m_test_RLP = len(y_testRLM)\n",
    "#estos datos seran usados para el test\n",
    "\n",
    "#hacemos uso de la libreria PolynomialFeatures para hacer la regresion polinomial de grado 2\n",
    "poly = PolynomialFeatures(degree=2)\n",
    "#hacemos una copia de y_train y y_test para usarlo en la regresion polinomial\n",
    "X_trainRLP = poly.fit_transform(X_train.copy())\n",
    "y_trainRLP = y_train.copy()\n",
    "m_train_RLP = len(y_trainRLM)\n",
    "\n",
    "print(\"la cantidad de columnas de X_trainRLP es de: \", X_trainRLP.shape[1])\n",
    "print(\"la cantidad de ejemplos de X_trainRLP es de: \", X_trainRLP.shape[0])"
   ]
  },
  {
   "cell_type": "markdown",
   "metadata": {},
   "source": [
    "#### 1.2.1 Normalizacion de las caracteristicas\n",
    "\n",
    "Se hace uso de la funcion de `featureNormalize(X) ` para normalizar cada una de las 190 feactures de mi nueva matriz de datos donde se recibe un parametro de tipo matriz para normalizar cada dato dentro de ella, retornandome la **matriz normalizda**, **sigma(desviacion estandar)**, y mi **mu(media)**."
   ]
  },
  {
   "cell_type": "code",
   "execution_count": 128,
   "metadata": {},
   "outputs": [
    {
     "data": {
      "text/plain": [
       "(17290, 190)"
      ]
     },
     "execution_count": 128,
     "metadata": {},
     "output_type": "execute_result"
    }
   ],
   "source": [
    "#introductimos los datos a la funcion de normalizacion\n",
    "X_norm_RLP, mu_RLP, sigma_RLP = featureNormalize(X_trainRLP)\n",
    "\n",
    "X_norm_RLP.shape"
   ]
  },
  {
   "cell_type": "markdown",
   "metadata": {},
   "source": [
    "#### 1.2.2 Agregamos la columna de unos a nuestra matriz"
   ]
  },
  {
   "cell_type": "code",
   "execution_count": 129,
   "metadata": {},
   "outputs": [
    {
     "name": "stdout",
     "output_type": "stream",
     "text": [
      "La cantidad de columnas de X_ready_RLP es de:  191\n"
     ]
    }
   ],
   "source": [
    "X_ready_RLP = np.concatenate([np.ones((m_train_RLP, 1)), X_norm_RLP], axis=1)\n",
    "print(\"La cantidad de columnas de X_ready_RLP es de: \", X_ready_RLP.shape[1])"
   ]
  },
  {
   "cell_type": "markdown",
   "metadata": {},
   "source": [
    "#### 1.2.3 Descenso por el gradiente\n",
    "\n",
    "haciendo uso de la funcio de `calcularCosto(X , y, theta, lamda_)` donde `X` sera nuestra matriz normalizada, y sera nuestra `y_predicha` que en este caso sera el precio, `Thetha` que seran nuestros valores inciales, y `lamda_` que sera nuestro parametro de regularizacion."
   ]
  },
  {
   "cell_type": "markdown",
   "metadata": {},
   "source": [
    "##### 1.2.3.1 Cálculo del costo $J(\\theta)$"
   ]
  },
  {
   "cell_type": "markdown",
   "metadata": {},
   "source": [
    "Ejemplo de funcionamiento de la funcion computeCoste con dos valores diferentes de $\\theta$."
   ]
  },
  {
   "cell_type": "code",
   "execution_count": 130,
   "metadata": {},
   "outputs": [
    {
     "name": "stdout",
     "output_type": "stream",
     "text": [
      "191\n",
      "########################################################################################################\n",
      "con theta:[0.18449184 0.73391802 0.28861419 0.13973794 0.48987216 0.12609512\n",
      " 0.2454798  0.83505665 0.77990985 0.36823602 0.30203923 0.1983273\n",
      " 0.01103889 0.42117787 0.31863747 0.19414023 0.04204249 0.04037974\n",
      " 0.09311933 0.87424164 0.96562292 0.1085383  0.21801913 0.72682622\n",
      " 0.72741233 0.36645837 0.36720741 0.32809336 0.84564839 0.48769749\n",
      " 0.43623406 0.32503247 0.70648106 0.85150805 0.51688698 0.46203202\n",
      " 0.93927479 0.39382781 0.20745451 0.10392267 0.3120548  0.06014153\n",
      " 0.49927478 0.54849686 0.5790319  0.81595887 0.20998068 0.46962211\n",
      " 0.78672411 0.78410717 0.03789066 0.5370295  0.34919165 0.70578576\n",
      " 0.07144257 0.13548989 0.27870445 0.69634496 0.2112467  0.64724975\n",
      " 0.79794585 0.6066055  0.63070622 0.4520681  0.4571522  0.58316337\n",
      " 0.03915706 0.12966066 0.35596784 0.49796638 0.38435048 0.34277519\n",
      " 0.71803834 0.9924588  0.71579436 0.66933104 0.48251148 0.66844724\n",
      " 0.78132456 0.00872882 0.67732271 0.77079508 0.36305564 0.77079476\n",
      " 0.70197893 0.58721392 0.22009841 0.19768315 0.52040074 0.97010711\n",
      " 0.98922234 0.41841497 0.86916558 0.43533189 0.92405817 0.8547374\n",
      " 0.40145652 0.92389142 0.37737468 0.36247235 0.53294346 0.87112828\n",
      " 0.90837177 0.84304429 0.57265391 0.23083957 0.18646664 0.84838206\n",
      " 0.29510609 0.6500461  0.26344116 0.75207315 0.50308572 0.67195932\n",
      " 0.73576447 0.73615243 0.90317365 0.52662518 0.12110771 0.05550493\n",
      " 0.0919762  0.02801062 0.99350553 0.57244323 0.92184986 0.88346792\n",
      " 0.94242469 0.19296044 0.15697033 0.38571821 0.26784344 0.94632978\n",
      " 0.18344408 0.12246411 0.89874149 0.91578878 0.09088582 0.73512532\n",
      " 0.81263515 0.74023204 0.89678361 0.8486771  0.14332997 0.29099903\n",
      " 0.56874807 0.27853043 0.23886717 0.43649758 0.3417874  0.59632723\n",
      " 0.62274715 0.88907614 0.3601027  0.80055022 0.40265082 0.83028349\n",
      " 0.1669756  0.6182522  0.62387005 0.39354349 0.96267887 0.34818993\n",
      " 0.21776099 0.17246179 0.01977719 0.02651696 0.24200683 0.61683791\n",
      " 0.88388116 0.59269536 0.87039769 0.33575391 0.32475131 0.30268985\n",
      " 0.50996942 0.95267652 0.27471614 0.80489813 0.56312284 0.91807073\n",
      " 0.43190423 0.99204989 0.60465921 0.64067306 0.29136044 0.15272794\n",
      " 0.1768965  0.45936708 0.06513227 0.63318557 0.96365389] se obtiene un costo de: 209911971267.2312\n",
      "########################################################################################################\n",
      "con theta:[0.03275381 0.83860061 0.20449512 0.29108016 0.26845236 0.71277591\n",
      " 0.75531075 0.10219913 0.64700327 0.54791524 0.11701466 0.78361889\n",
      " 0.96045934 0.99306219 0.75578155 0.53152024 0.26551493 0.00101371\n",
      " 0.75614939 0.41730027 0.93117481 0.08099742 0.97437196 0.07869918\n",
      " 0.72910851 0.94302386 0.05118168 0.64954238 0.92105128 0.22798677\n",
      " 0.96372093 0.44168524 0.81458129 0.19851368 0.86237134 0.89367066\n",
      " 0.81963143 0.32565269 0.33423631 0.63371258 0.66084597 0.09029099\n",
      " 0.09197334 0.72604662 0.84761171 0.03418938 0.35579961 0.30012683\n",
      " 0.29835836 0.81901735 0.84745629 0.70320172 0.13516129 0.17249682\n",
      " 0.99719014 0.13374952 0.20652235 0.09819871 0.16267815 0.29239248\n",
      " 0.68939075 0.58397983 0.55838825 0.42950964 0.51043345 0.05050578\n",
      " 0.03489767 0.39152103 0.86415418 0.22547155 0.40125273 0.66730864\n",
      " 0.98490256 0.53165761 0.86185338 0.076982   0.67911086 0.78763123\n",
      " 0.67821432 0.92096073 0.12544899 0.76442479 0.40432808 0.87081226\n",
      " 0.20149022 0.18084903 0.3602669  0.90124053 0.28733652 0.26890337\n",
      " 0.79283177 0.5701054  0.13016834 0.19504128 0.02724525 0.74000925\n",
      " 0.67801148 0.58095092 0.89985459 0.12103177 0.15535289 0.80188062\n",
      " 0.30185661 0.13470244 0.88659643 0.39076028 0.45849069 0.39119143\n",
      " 0.73208481 0.51180334 0.96365227 0.23522926 0.51948056 0.13560002\n",
      " 0.82885815 0.74069136 0.8904997  0.65229306 0.32663303 0.03305863\n",
      " 0.16981231 0.98560507 0.42444453 0.95425936 0.64752584 0.50338312\n",
      " 0.08794531 0.50728221 0.09841194 0.52512814 0.31581362 0.9068891\n",
      " 0.15635087 0.77261266 0.18346335 0.40073699 0.151067   0.86353994\n",
      " 0.92021554 0.30689455 0.56996603 0.88348661 0.32142664 0.4931872\n",
      " 0.69882909 0.18622711 0.81782457 0.05859658 0.96047224 0.47889185\n",
      " 0.30509091 0.35569868 0.46087152 0.93266828 0.83552189 0.50312011\n",
      " 0.55867478 0.12703802 0.72859882 0.39172912 0.51785044 0.10489118\n",
      " 0.86930228 0.44689145 0.23469985 0.78213049 0.85396845 0.92426004\n",
      " 0.2706814  0.61074192 0.55692784 0.54039986 0.92295551 0.25545525\n",
      " 0.94487481 0.94014661 0.81724374 0.42616686 0.66732935 0.90052936\n",
      " 0.92904862 0.80143763 0.1901039  0.59196338 0.83137397 0.66476976\n",
      " 0.29357558 0.52947633 0.67336945 0.55329486 0.76673008] se obtiene un costo de: 209912169655.16824\n"
     ]
    }
   ],
   "source": [
    "#creamos un theta con 190 columnas de valores aleatorios\n",
    "theta_RLP=np.random.rand(len(X_ready_RLP[1]))\n",
    "theta_RLP1=np.random.rand(len(X_ready_RLP[1]))\n",
    "\n",
    "print(len(theta_RLP))\n",
    "lambda_RLP = 1000\n",
    "\n",
    "print(f\"########################################################################################################\")\n",
    "print(f\"con theta:{ theta_RLP } se obtiene un costo de: {calcularCostoCR(X_ready_RLP, y_trainRLP, theta_RLP, lambda_RLP)}\")\n",
    "print(f\"########################################################################################################\")\n",
    "print(f\"con theta:{ theta_RLP1 } se obtiene un costo de: {calcularCostoCR(X_ready_RLP, y_trainRLP, theta_RLP1, lambda_RLP)}\")"
   ]
  },
  {
   "cell_type": "markdown",
   "metadata": {},
   "source": [
    "##### 1.2.3.2Descenso por el gradiente\n",
    "\n",
    "Creamos la funcion para hacer el calculo del descenso por el gradiente y asi encontrar nuestras **Thetas**, se hizo la modificacion para que la funcion ahora reciba el parametro de ``lamda_``\n",
    "\n",
    "Haciendo uso de la funcion de `calcularDescensoGradiente(X,y, theta, alpha, lambda_,num_iteraciones)`:"
   ]
  },
  {
   "cell_type": "code",
   "execution_count": 131,
   "metadata": {},
   "outputs": [
    {
     "name": "stdout",
     "output_type": "stream",
     "text": [
      "########################################################################################################\n",
      "Los valores de theta calculados son:\n",
      "theta 1: 535345.0735608558\n",
      "theta 2: 0.0\n",
      "theta 3: -4869.568831818136\n",
      "theta 4: -3302.437230532716\n",
      "theta 5: -3995.430465837314\n",
      "theta 6: 2462.99163056737\n",
      "theta 7: -76.88404571706343\n",
      "theta 8: -1347.5967408727324\n",
      "theta 9: -2415.5025995474193\n",
      "theta 10: -1045.8826942837004\n",
      "theta 11: 11358.670177644122\n",
      "theta 12: -2238.7532624272267\n",
      "theta 13: -4070.0183507393695\n",
      "theta 14: -13506.557644424669\n",
      "theta 15: -3382.063558865083\n",
      "theta 16: -14516.476472413804\n",
      "theta 17: 22377.15371196528\n",
      "theta 18: -7581.491595408281\n",
      "theta 19: 153.07355692743943\n",
      "theta 20: 2323.9375445170685\n",
      "theta 21: 5381.324552649225\n",
      "theta 22: -626.2003750296753\n",
      "theta 23: 1479.368984612988\n",
      "theta 24: -2965.578238021526\n",
      "theta 25: -955.0894907621263\n",
      "theta 26: 5247.612103114691\n",
      "theta 27: -945.1350911639428\n",
      "theta 28: 1515.759524329121\n",
      "theta 29: 8507.281992896242\n",
      "theta 30: 4629.039629835663\n",
      "theta 31: -6474.373336712659\n",
      "theta 32: -6310.787143624513\n",
      "theta 33: -2684.5047110967444\n",
      "theta 34: -4904.40079862834\n",
      "theta 35: -4452.668435188817\n",
      "theta 36: 4770.334652139494\n",
      "theta 37: -232.32840053495713\n",
      "theta 38: -2602.9591768818627\n",
      "theta 39: 15338.21443992211\n",
      "theta 40: 21095.960853345165\n",
      "theta 41: -3348.8866571451085\n",
      "theta 42: 2482.3412741629913\n",
      "theta 43: 6582.436322637041\n",
      "theta 44: 8703.915246166713\n",
      "theta 45: 857.2692059498333\n",
      "theta 46: 16870.649538594684\n",
      "theta 47: 21661.046530227937\n",
      "theta 48: 7339.197408878965\n",
      "theta 49: -3790.32373991208\n",
      "theta 50: -1066.171190686937\n",
      "theta 51: -3325.8715249312754\n",
      "theta 52: -2882.1220654992744\n",
      "theta 53: 3183.130342881332\n",
      "theta 54: 4606.662831599533\n",
      "theta 55: -4055.5295937763126\n",
      "theta 56: 23994.278009200454\n",
      "theta 57: -4082.191423268419\n",
      "theta 58: 2920.216743264745\n",
      "theta 59: 16187.880801742205\n",
      "theta 60: 12263.523869921188\n",
      "theta 61: 5877.821801295404\n",
      "theta 62: 17634.975578369747\n",
      "theta 63: 24858.2031503717\n",
      "theta 64: 9577.536883670322\n",
      "theta 65: -5263.175159013603\n",
      "theta 66: 12576.386205799212\n",
      "theta 67: -4024.1906412636736\n",
      "theta 68: -3511.5194329471988\n",
      "theta 69: 3831.6721896895256\n",
      "theta 70: 6458.565411944442\n",
      "theta 71: -6456.786289970312\n",
      "theta 72: 2686.7450072995616\n",
      "theta 73: -3049.5407274204667\n",
      "theta 74: -1534.6653696413637\n",
      "theta 75: -319.1829798016829\n",
      "theta 76: 2101.5209354838144\n",
      "theta 77: 1919.3525832792304\n",
      "theta 78: -2880.0668518253724\n",
      "theta 79: -7478.798913875394\n",
      "theta 80: 2671.3524851229654\n",
      "theta 81: -1763.3108817188422\n",
      "theta 82: 2452.877687488021\n",
      "theta 83: 2380.483667383654\n",
      "theta 84: -2445.448583486613\n",
      "theta 85: 122.01576549555296\n",
      "theta 86: 10022.147704194076\n",
      "theta 87: 2634.5191218271834\n",
      "theta 88: -1251.1822716730624\n",
      "theta 89: -749.9898497638915\n",
      "theta 90: 4804.337552542122\n",
      "theta 91: 7913.639524865835\n",
      "theta 92: -184.6056366440229\n",
      "theta 93: 11046.794368623929\n",
      "theta 94: -838.9385622397584\n",
      "theta 95: -5372.58683015354\n",
      "theta 96: -71.90252214349806\n",
      "theta 97: 229.06650110730814\n",
      "theta 98: -33.73093051072969\n",
      "theta 99: -8897.369896776594\n",
      "theta 100: -6163.520509097075\n",
      "theta 101: -1347.5967408727324\n",
      "theta 102: -2898.544667501859\n",
      "theta 103: -2521.6062356345988\n",
      "theta 104: 4368.673805024762\n",
      "theta 105: 17661.907256755705\n",
      "theta 106: 8573.411550945386\n",
      "theta 107: -1058.2021134605836\n",
      "theta 108: -6412.46171819772\n",
      "theta 109: -1385.2804137884561\n",
      "theta 110: -1168.771185126009\n",
      "theta 111: 1407.929608902697\n",
      "theta 112: 14647.213732544918\n",
      "theta 113: -2646.307349461866\n",
      "theta 114: 1801.908078128242\n",
      "theta 115: 5445.229411620496\n",
      "theta 116: 6673.204094395562\n",
      "theta 117: 16235.76569953707\n",
      "theta 118: -872.6947672633133\n",
      "theta 119: -2841.329030091084\n",
      "theta 120: -4627.194871503607\n",
      "theta 121: -2430.6756661864283\n",
      "theta 122: -2188.914626438596\n",
      "theta 123: 2376.7917238791238\n",
      "theta 124: 8274.698820669813\n",
      "theta 125: -3332.0823255535574\n",
      "theta 126: 366.3825028222608\n",
      "theta 127: 14483.03662028425\n",
      "theta 128: 6395.025444504594\n",
      "theta 129: 1025.1758674627433\n",
      "theta 130: -2524.685998525421\n",
      "theta 131: -3900.8099236649477\n",
      "theta 132: -1099.2722957495002\n",
      "theta 133: -672.3956775727925\n",
      "theta 134: 1012.5585751420768\n",
      "theta 135: 17257.183446772142\n",
      "theta 136: 1299.643543666704\n",
      "theta 137: 22879.01512702316\n",
      "theta 138: 15847.306942316227\n",
      "theta 139: 9158.208526467432\n",
      "theta 140: 8924.720488633513\n",
      "theta 141: 3927.4461806577838\n",
      "theta 142: 11321.561016537926\n",
      "theta 143: 12095.712334465134\n",
      "theta 144: -11598.451367292333\n",
      "theta 145: 7450.300827907991\n",
      "theta 146: -786.955503842658\n",
      "theta 147: 20944.659793539664\n",
      "theta 148: 23862.761837232236\n",
      "theta 149: -3359.4591078087037\n",
      "theta 150: 12058.130623344188\n",
      "theta 151: -2267.7554828917664\n",
      "theta 152: -1803.2165677926778\n",
      "theta 153: 2084.6931840841817\n",
      "theta 154: 2947.7055329437185\n",
      "theta 155: -6219.7797835247275\n",
      "theta 156: -13773.599533993547\n",
      "theta 157: -4633.570155383406\n",
      "theta 158: 10450.301728732402\n",
      "theta 159: -4074.2874719181737\n",
      "theta 160: -3887.1722718465553\n",
      "theta 161: 4017.5860725083166\n",
      "theta 162: 12308.291522810026\n",
      "theta 163: -4113.394567916201\n",
      "theta 164: -12990.542877591146\n",
      "theta 165: -3219.3943100246947\n",
      "theta 166: -14191.502232929533\n",
      "theta 167: -9229.030992982292\n",
      "theta 168: 13298.414604113592\n",
      "theta 169: -2345.810495208539\n",
      "theta 170: 2394.0049414525547\n",
      "theta 171: -3125.79787359912\n",
      "theta 172: -3410.4780612272425\n",
      "theta 173: -3355.2342582348974\n",
      "theta 174: 3394.3386722858795\n",
      "theta 175: 17928.644038186223\n",
      "theta 176: -2045.778700897325\n",
      "theta 177: -14516.65370771613\n",
      "theta 178: 18443.900908526706\n",
      "theta 179: -555.0246795854813\n",
      "theta 180: 130.25142579684518\n",
      "theta 181: 2308.739684634019\n",
      "theta 182: 22132.69183035103\n",
      "theta 183: -22647.90755857615\n",
      "theta 184: 577.8552636616844\n",
      "theta 185: 2214.928351194649\n",
      "theta 186: 7595.94099919851\n",
      "theta 187: -315.4934840983808\n",
      "theta 188: -2307.696854411838\n",
      "theta 189: 3645.9533550296364\n",
      "theta 190: -1418.691729649118\n",
      "theta 191: 4430.791124329939\n",
      "########################################################################################################\n",
      "con un costo de: 15617343651.705801 \n",
      "la cantidad de theta son:  191\n"
     ]
    }
   ],
   "source": [
    "#creamos un theta con 19 columnas de ceros\n",
    "theta_RLP = np.zeros(len(X_ready_RLP[0]))\n",
    "\n",
    "#numero de iteraciones sera 6000, un alpha 0.00009 y un lambda de 1000\n",
    "num_ite_RLP = 6000\n",
    "alpha_RLP = 0.0009\n",
    "lambda__RLP = 1000\n",
    "\n",
    "theta_RLP, J_historico_RLP = calcularDescensoGradienteCR(X_ready_RLP, y_trainRLP, theta_RLP , alpha_RLP,lambda_RLP, num_ite_RLP)\n",
    "print(\"########################################################################################################\")\n",
    "print(\"Los valores de theta calculados son:\")\n",
    "i = 0\n",
    "for tht in theta_RLP:\n",
    "    i += 1\n",
    "    print(f\"theta {i}: {tht}\")\n",
    "\n",
    "print(f\"########################################################################################################\")\n",
    "#mostramos el ultimo costo, este seria el mejor costo\n",
    "print(f\"con un costo de: { J_historico_RLP[-1]} \")\n",
    "\n",
    "print(\"la cantidad de theta son: \", theta_RLP.shape[0])"
   ]
  },
  {
   "cell_type": "markdown",
   "metadata": {},
   "source": [
    "#### 1.2.4 Grafica de la convergencia del costo\n",
    "graficamos el costo"
   ]
  },
  {
   "cell_type": "code",
   "execution_count": 132,
   "metadata": {},
   "outputs": [
    {
     "data": {
      "text/plain": [
       "Text(0, 0.5, 'Costo J')"
      ]
     },
     "execution_count": 132,
     "metadata": {},
     "output_type": "execute_result"
    },
    {
     "data": {
      "image/png": "[encoded data removed]",
      "text/plain": [
       "<Figure size 640x480 with 1 Axes>"
      ]
     },
     "metadata": {},
     "output_type": "display_data"
    }
   ],
   "source": [
    "pyplot.plot(np.arange(len(J_historico_RLP)), J_historico_RLP, lw=2)\n",
    "pyplot.title(\"Grafica de la convergencia del costo\")\n",
    "pyplot.xlabel('Numero de iteraciones')\n",
    "pyplot.ylabel('Costo J')"
   ]
  },
  {
   "cell_type": "markdown",
   "metadata": {},
   "source": [
    "##### 1.2.4.1 Grafica de la regresion Polinomial\n",
    "\n",
    "En esta parte se trazan los datos de entrenamiento y una línea que representa la regresión lineal ajustada a esos datos."
   ]
  },
  {
   "cell_type": "code",
   "execution_count": 133,
   "metadata": {},
   "outputs": [
    {
     "data": {
      "text/plain": [
       "<matplotlib.legend.Legend at 0x1ff10bd7ce0>"
      ]
     },
     "execution_count": 133,
     "metadata": {},
     "output_type": "execute_result"
    },
    {
     "data": {
      "image/png": "[encoded data removed]",
      "text/plain": [
       "<Figure size 640x480 with 1 Axes>"
      ]
     },
     "metadata": {},
     "output_type": "display_data"
    }
   ],
   "source": [
    "graficarDatos(X_norm_RLP[:, 150], X_norm_RLP[:, 151] , \"X_norm_150\", \"X_norm_151\")\n",
    "\n",
    "pyplot.plot(X_norm_RLP[:,150], np.dot(X_ready_RLP, theta_RLP), '-')\n",
    "\n",
    "pyplot.legend(['Datos de entrenamiento', 'regresion lineal'])"
   ]
  },
  {
   "cell_type": "markdown",
   "metadata": {},
   "source": [
    "haciendo una pequeña prueba:"
   ]
  },
  {
   "cell_type": "code",
   "execution_count": 134,
   "metadata": {},
   "outputs": [
    {
     "name": "stdout",
     "output_type": "stream",
     "text": [
      "La prediccion de la casa es de: [258321.78283319]\n"
     ]
    }
   ],
   "source": [
    "X_arrayRLP = np.array([3,1,1180,5650,1,0,0,3,7,1180,0,1955,0,98178,47.5112,-122.257,1340,5650])\n",
    "X_arrayRLP = X_arrayRLP.reshape(1, -1)\n",
    "\n",
    "poly = PolynomialFeatures(degree=2)\n",
    "#hacemos una copia de y_train y y_test para usarlo en la regresion polinomial\n",
    "X_arrayRLP = poly.fit_transform(X_arrayRLP)\n",
    "\n",
    "X_arrayRLP = np.concatenate([np.ones((X_arrayRLP.shape[0], 1)), X_arrayRLP], axis=1)\n",
    "\n",
    "X_arrayRLP[:, 1:] = (X_arrayRLP[:, 1:] - mu_RLP) / sigma_RLP\n",
    "\n",
    "prediccion_RLP = np.dot(X_arrayRLP, theta_RLP)\n",
    "\n",
    "print (f\"La prediccion de la casa es de: {prediccion_RLP}\")"
   ]
  },
  {
   "cell_type": "markdown",
   "metadata": {},
   "source": [
    "#### 1.2.5 Ejemplos de Predicciones\n",
    "\n",
    "Se creo una matriz con 11 ejemplos, donde se hace las predicciones correspondientes:"
   ]
  },
  {
   "cell_type": "code",
   "execution_count": 135,
   "metadata": {},
   "outputs": [
    {
     "name": "stdout",
     "output_type": "stream",
     "text": [
      "20\n",
      "19\n",
      "+------------+-------------+---------------+------------+----------+--------------+--------+-------------+---------+--------------+-----------------+------------+----------------+-----------+---------+----------+-----------------+--------------+----------+\n",
      "|   bedrooms |   bathrooms |   sqft_living |   sqft_lot |   floors |   waterfront |   view |   condition |   grade |   sqft_above |   sqft_basement |   yr_built |   yr_renovated |   zipcode |     lat |     long |   sqft_living15 |   sqft_lot15 |    Price |\n",
      "+============+=============+===============+============+==========+==============+========+=============+=========+==============+=================+============+================+===========+=========+==========+=================+==============+==========+\n",
      "|          3 |        1    |          1180 |       5650 |      1   |            0 |      0 |           3 |       7 |         1180 |               0 |       1955 |              0 |     98178 | 47.5112 | -122.257 |            1340 |         5650 | 258322   |\n",
      "+------------+-------------+---------------+------------+----------+--------------+--------+-------------+---------+--------------+-----------------+------------+----------------+-----------+---------+----------+-----------------+--------------+----------+\n",
      "|          2 |        0.75 |          1020 |       1076 |      2   |            0 |      0 |           3 |       7 |         1020 |               0 |       2008 |              0 |     98144 | 47.5941 | -122.299 |            1020 |         1357 | 226309   |\n",
      "+------------+-------------+---------------+------------+----------+--------------+--------+-------------+---------+--------------+-----------------+------------+----------------+-----------+---------+----------+-----------------+--------------+----------+\n",
      "|          4 |        2.75 |          3555 |       6565 |      2   |            0 |      0 |           3 |       9 |         3555 |               0 |       2014 |              0 |     98053 | 47.6847 | -122.017 |            3625 |         5637 | 856175   |\n",
      "+------------+-------------+---------------+------------+----------+--------------+--------+-------------+---------+--------------+-----------------+------------+----------------+-----------+---------+----------+-----------------+--------------+----------+\n",
      "|          2 |        1    |          1040 |      13920 |      1   |            0 |      0 |           3 |       6 |         1040 |               0 |       1973 |           1867 |     98198 | 47.3756 | -122.306 |            1100 |         7575 |  34911.7 |\n",
      "+------------+-------------+---------------+------------+----------+--------------+--------+-------------+---------+--------------+-----------------+------------+----------------+-----------+---------+----------+-----------------+--------------+----------+\n",
      "|          4 |        1.75 |          1860 |       7350 |      1   |            0 |      0 |           4 |       7 |         1090 |             770 |       1977 |           1900 |     98031 | 47.3979 | -122.174 |            1710 |         7350 | 339537   |\n",
      "+------------+-------------+---------------+------------+----------+--------------+--------+-------------+---------+--------------+-----------------+------------+----------------+-----------+---------+----------+-----------------+--------------+----------+\n",
      "|          1 |        1    |          1060 |      54846 |      1   |            1 |      4 |           3 |       5 |         1060 |               0 |       1935 |              0 |     98070 | 47.4716 | -122.445 |            2258 |        31762 | 505818   |\n",
      "+------------+-------------+---------------+------------+----------+--------------+--------+-------------+---------+--------------+-----------------+------------+----------------+-----------+---------+----------+-----------------+--------------+----------+\n",
      "|          4 |        1.5  |          2220 |       9496 |      1   |            0 |      0 |           4 |       7 |         1490 |             730 |       1954 |              0 |     98004 | 47.6233 | -122.206 |            1800 |         8286 | 514631   |\n",
      "+------------+-------------+---------------+------------+----------+--------------+--------+-------------+---------+--------------+-----------------+------------+----------------+-----------+---------+----------+-----------------+--------------+----------+\n",
      "|          4 |        1.5  |          1560 |       6534 |      1   |            0 |      0 |           4 |       7 |         1560 |               0 |       1962 |              0 |     98007 | 47.6012 | -122.152 |            1560 |         6969 | 420326   |\n",
      "+------------+-------------+---------------+------------+----------+--------------+--------+-------------+---------+--------------+-----------------+------------+----------------+-----------+---------+----------+-----------------+--------------+----------+\n",
      "|          5 |        3    |          2510 |       4125 |      1.5 |            0 |      3 |           5 |       8 |         1590 |             920 |       1925 |              0 |     98144 | 47.5968 | -122.29  |            2190 |         5415 | 901406   |\n",
      "+------------+-------------+---------------+------------+----------+--------------+--------+-------------+---------+--------------+-----------------+------------+----------------+-----------+---------+----------+-----------------+--------------+----------+\n",
      "|          3 |        2.5  |          1680 |       2096 |      2   |            0 |      0 |           3 |       8 |         1380 |             300 |       2008 |              0 |     98117 | 47.6904 | -122.37  |            1360 |         2096 | 485890   |\n",
      "+------------+-------------+---------------+------------+----------+--------------+--------+-------------+---------+--------------+-----------------+------------+----------------+-----------+---------+----------+-----------------+--------------+----------+\n",
      "|          3 |        2.25 |          2020 |       3600 |      2   |            0 |      0 |           3 |       8 |         2020 |               0 |       1998 |              0 |     98033 | 47.6678 | -122.165 |            2070 |         3699 | 542093   |\n",
      "+------------+-------------+---------------+------------+----------+--------------+--------+-------------+---------+--------------+-----------------+------------+----------------+-----------+---------+----------+-----------------+--------------+----------+\n"
     ]
    }
   ],
   "source": [
    "#Creamos la matriz con 11 ejemplos para hacer la prueba predecir un precio de cada ejemplo:\n",
    "matriz_datos_RLP = np.array([\n",
    "    [3,1,1180,5650,1,0,0,3,7,1180,0,1955,0,98178,47.5112,-122.257,1340,5650],\n",
    "    [2,0.75,1020,1076,2,0,0,3,7,1020,0,2008,0,98144,47.5941,-122.299,1020,1357],\n",
    "    [4,2.75,3555,6565,2,0,0,3,9,3555,0,2014,0,98053,47.6847,-122.017,3625,5637],\n",
    "    [2,1,1040,13920,1,0,0,3,6,1040,0,1973,1867,98198,47.3756,-122.306,1100,7575],\n",
    "    [4,1.75,1860,7350,1,0,0,4,7,1090,770,1977,1900,98031,47.3979,-122.174,1710,7350],\n",
    "    [1,1,1060,54846,1,1,4,3,5,1060,0,1935,0,98070,47.4716,-122.445,2258,31762],\n",
    "    [4,1.5,2220,9496,1,0,0,4,7,1490,730,1954,0,98004,47.6233,-122.206,1800,8286],\n",
    "    [4,1.5,1560,6534,1,0,0,4,7,1560,0,1962,0,98007,47.6012,-122.152,1560,6969],\n",
    "    [5,3,2510,4125,1.5,0,3,5,8,1590,920,1925,0,98144,47.5968,-122.29,2190,5415],\n",
    "    [3,2.5,1680,2096,2,0,0,3,8,1380,300,2008,0,98117,47.6904,-122.37,1360,2096],\n",
    "    [3,2.25,2020,3600,2,0,0,3,8,2020,0,1998,0,98033,47.6678,-122.165,2070,3699]\n",
    "])\n",
    "\n",
    "#creamos un vector parta almacenar cada Y predicha\n",
    "y_pre_RLP = []\n",
    "\n",
    "matriz_datos_RLP_copy = matriz_datos_RLP.copy()\n",
    "\n",
    "poly = PolynomialFeatures(degree=2)\n",
    "#hacemos una copia de y_train y y_test para usarlo en la regresion polinomial\n",
    "matriz_datos_RLP = poly.fit_transform(matriz_datos_RLP)\n",
    "\n",
    "matriz_datos_RLP = np.concatenate([np.ones((matriz_datos_RLP.shape[0], 1)), matriz_datos_RLP], axis=1)\n",
    "\n",
    "\n",
    "#Normalizamos todos, menos el primer valor de cada ejemplo\n",
    "\n",
    "matriz_datos_RLP[:, 1:] = (matriz_datos_RLP[:, 1:] - mu_RLP) / sigma_RLP\n",
    "\n",
    "\n",
    "#Calculamos la Y predicha de los 11 ejemplos de prediccion\n",
    "for datos in matriz_datos_RLP:\n",
    "    y_pre_RLP.append(np.dot(datos, theta_RLP.T))\n",
    "\n",
    "matriz_datos_RLP_copy = np.column_stack((matriz_datos_RLP_copy, y_pre_RLP))\n",
    "\n",
    "nombres_columnas = ['bedrooms','bathrooms','sqft_living','sqft_lot','floors','waterfront','view','condition','grade','sqft_above','sqft_basement','yr_built','yr_renovated','zipcode','lat','long','sqft_living15','sqft_lot15','Price']\n",
    "\n",
    "# Convertir la matriz en una lista de listas\n",
    "datos_para_tabla = matriz_datos_RLP_copy.tolist()\n",
    "\n",
    "print(len(matriz_datos_RLM[0]))\n",
    "print(len(matriz_datos_RLM_copy[0]))\n",
    "\n",
    "# Imprimir la tabla\n",
    "print(tabulate(datos_para_tabla, headers=nombres_columnas, tablefmt='grid'))"
   ]
  },
  {
   "cell_type": "markdown",
   "metadata": {},
   "source": [
    "#### 1.2.6 Validaciones\n",
    "Para hacer las validaciones correspondientes, primero se crea la funcion del **Mean squeared error**\n",
    "\n",
    "Siguiendo el consejo de 80/20, donde 80% es para la fase de entrenamiento, y 20% es para la fase de prueba.\n",
    "\n",
    "haciendo calculo del error cuadratico medio:"
   ]
  },
  {
   "cell_type": "code",
   "execution_count": 136,
   "metadata": {},
   "outputs": [
    {
     "name": "stdout",
     "output_type": "stream",
     "text": [
      "Error Cuadrático Medio (MSE) = 39756473197.06052\n",
      "Raíz del Error Cuadrático Medio (RMSE) = 199390.25351571353\n"
     ]
    }
   ],
   "source": [
    "poly = PolynomialFeatures(degree=2)\n",
    "#hacemos una copia de y_train y y_test para usarlo en la regresion polinomial\n",
    "X_testRLP = poly.fit_transform(X_testRLP)\n",
    "\n",
    "# Normalizamos todos, menos el primer valor de cada ejemplo porque este contiene los unos\n",
    "X_testRLP = (X_testRLP - mu_RLP) / sigma_RLP\n",
    "\n",
    "#Concatenamos de unos a la primera posicion del X_test\n",
    "X_testRLP_ready = np.concatenate([np.ones((m_test_RLP, 1)), X_testRLP], axis=1)\n",
    "\n",
    "#creamos un array que almacenara cada una de las y_predicha\n",
    "y_predicha_RLP = []\n",
    "for data_RLP in X_testRLP_ready:\n",
    "    y_predicha_RLP.append(np.dot(data_RLP, theta_RLP))\n",
    "\n",
    "mse_RLP = mean_squared_error(y_predicha_RLP, y_testRLP)\n",
    "#calculamos el error cuadratico medio:\n",
    "#calculamos el error cuadratico medio:\n",
    "print('Error Cuadrático Medio (MSE) = ' + str(mse_RLP))\n",
    "print('Raíz del Error Cuadrático Medio (RMSE) = ' + str(np.sqrt(mse_RLP)))"
   ]
  },
  {
   "cell_type": "markdown",
   "metadata": {},
   "source": [
    "### 1.3 Ecuacion de la normal\n",
    "\n",
    "Utilizada en el contexto de la regresión lineal para calcular los parámetros del modelo de regresión directamente a partir de los datos de entrenamiento. Se denomina \"normal\" porque se deriva de la \"ecuación normal\" de un sistema de ecuaciones lineales."
   ]
  },
  {
   "cell_type": "markdown",
   "metadata": {},
   "source": [
    "#### 1.3.1 Agregando la columna de unos a la matriz $X$ para tener el termino de intersección"
   ]
  },
  {
   "cell_type": "code",
   "execution_count": 137,
   "metadata": {},
   "outputs": [
    {
     "name": "stdout",
     "output_type": "stream",
     "text": [
      "X_ren[:,0]  X_ren[:, 1]  X_ren[:, 2]  X_ren[:, 3]  X_ren[:, 4]  X_ren[:, 5]  X_ren[:, 6]  X_ren[:, 7]  X_ren[:, 8]  X_ren[:, 9]  X_ren[:, 10]  X_ren[:, 11]  X_ren[:, 12]  X_ren[:, 13]  X_ren[:, 14]  X_ren[:, 15]  X_ren[:, 16]  X_ren[:, 17]  X_ren[:, 18]\n",
      "--------------------------------------------------------------------------------------------------------------------------------------------------------------------------------------------------------------------------------------------------------------------\n",
      "         1           2           2           1390          6670           1            0             0           3             6          720           670         1941             0          98115           48          -122            920          6380\n",
      "         1           3           3           2540          8604           2            0             0           3             8         2540             0         1991             0          98092           47          -122           2260          7438\n",
      "         1           3           3           3280         10558           1            0             2           4             9         2040          1240         1979             0          98006           48          -122           3150          9998\n",
      "         1           4           3           2060         21344           1            0             0           2             8         1460           600         1978             0          98005           48          -122           2060         16088\n",
      "         1           3           1           1060          9241           1            0             0           4             7         1060             0         1956             0          98133           48          -122           1900          6484\n",
      "         1           2           1            800          4046           1            0             0           3             7          800             0         1940             0          98117           48          -122           1400          4046\n",
      "         1           3           2           1560         14288           1            0             0           3             6          780           780         1944             0          98125           48          -122           1320          8928\n",
      "         1           4           2           2040         11850           1            0             2           3             7         1020          1020         1959             0          98033           48          -122           2040          8504\n",
      "         1           5           2           3750         91681           2            1             4           3            10         3750             0         1925             0          98118           48          -122           3540         24293\n",
      "         1           2           2           1440          4225           1            0             0           3             8         1440             0         2005             0          98053           48          -122           1680          6200\n"
     ]
    }
   ],
   "source": [
    "# Cargamos los datos utilizando pandasd\n",
    "data = pd.read_csv('kc_house_data.csv', delimiter=',')\n",
    "\n",
    "#retiramos el id y la fecha del las columnas, quitamos el precio ya que ira a el vector Y, tambien quitamos los titulos\n",
    "dataset = data.drop(['id', 'date'], axis=1).astype(float)\n",
    "\n",
    "# Seleccionar aleatoriamente 20,000 ejemplos\n",
    "sampled_dataset = dataset.sample(n=20000, random_state=42)\n",
    "\n",
    "train_dataset, test_dataset = train_test_split(sampled_dataset, test_size=0.2, random_state=42)\n",
    "\n",
    "X_testEc = test_dataset.drop(['price'], axis=1).values\n",
    "y_testEc = test_dataset['price'].values\n",
    "m_testEc = len(y_testEc)\n",
    "\n",
    "# Seleccionamos las columnas para X y la columna 'price' para Y\n",
    "X_trainEc = train_dataset.drop(['price'], axis=1).values\n",
    "y_trainEc = train_dataset['price'].values\n",
    "m_trainEc = len(y_trainEc)\n",
    "\n",
    "#añadimos unos a la X\n",
    "X_ren = np.concatenate([np.ones((m_trainEc, 1)), X_trainEc], axis=1)\n",
    "\n",
    "#Imprimimos X_ready\n",
    "print('{:>8s}{:>10s}{:>10s}{:>10s}{:>8s}{:>8s}{:>8s}{:>8s}{:>6s}{:>10s}{:>10s}{:>10s}{:>10s}{:>10s}{:>10s}{:>10s}{:>10s}{:>10s}{:>10s}'.format(\n",
    "    'X_ren[:,0]', '  X_ren[:, 1]', '  X_ren[:, 2]', '  X_ren[:, 3]', '  X_ren[:, 4]', '  X_ren[:, 5]', '  X_ren[:, 6]', '  X_ren[:, 7]', '  X_ren[:, 8]', '  X_ren[:, 9]', '  X_ren[:, 10]', '  X_ren[:, 11]',\n",
    "    '  X_ren[:, 12]', '  X_ren[:, 13]', '  X_ren[:, 14]', '  X_ren[:, 15]', '  X_ren[:, 16]', '  X_ren[:, 17]', '  X_ren[:, 18]'\n",
    "))\n",
    "print('-' * 260)\n",
    "\n",
    "for i in range(10):\n",
    "    print('{:10.0f}{:12.0f}{:12.0f}{:15.0f}{:14.0f}{:12.0f}{:13.0f}{:14.0f}{:12.0f}{:14.0f}{:13.0f}{:14.0f}{:13.0f}{:14.0f}{:15.0f}{:13.0f}{:14.0f}{:15.0f}{:14.0f}'.format(\n",
    "        X_ren[i, 0], X_ren[i, 1], X_ren[i, 2], X_ren[i, 3], X_ren[i, 4], X_ren[i, 5], X_ren[i, 6], X_ren[i, 7], X_ren[i, 8], X_ren[i, 9], X_ren[i, 10], X_ren[i, 11],\n",
    "        X_ren[i, 12], X_ren[i, 13], X_ren[i, 14], X_ren[i, 15], X_ren[i, 16], X_ren[i, 17], X_ren[i, 18]\n",
    "    ))"
   ]
  },
  {
   "cell_type": "markdown",
   "metadata": {},
   "source": [
    "#### 1.3.2 Calculando Theta"
   ]
  },
  {
   "cell_type": "code",
   "execution_count": 138,
   "metadata": {},
   "outputs": [
    {
     "name": "stdout",
     "output_type": "stream",
     "text": [
      "########################################################################################################\n",
      "Los valores de theta usando la ecuacion de la normal es calculados son:\n",
      "theta 1: 2693979.917729182\n",
      "theta 2: -38736.85779052556\n",
      "theta 3: 31626.94094242448\n",
      "theta 4: 120.97182354138238\n",
      "theta 5: 0.02176411252180918\n",
      "theta 6: 21617.720152530528\n",
      "theta 7: 62327.35927787108\n",
      "theta 8: 62940.69827965201\n",
      "theta 9: 17709.42778153056\n",
      "theta 10: 99429.60939657292\n",
      "theta 11: 64.21046443993296\n",
      "theta 12: 56.76153198926804\n",
      "theta 13: -3171.3563311629127\n",
      "theta 14: 22.195685971886096\n",
      "theta 15: -70.42016517903511\n",
      "theta 16: 125587.59564667387\n",
      "theta 17: -30925.407833100686\n",
      "theta 18: 33.449250353321325\n",
      "theta 19: -0.5077583847040019\n",
      "########################################################################################################\n"
     ]
    }
   ],
   "source": [
    "# Calculamos thea haciendo uso de la funcion\n",
    "lambda_Ec = 1000\n",
    "theta_Ec = calcularThethaEcuacionNormalCR(X_ren, y_trainEc, lambda_Ec);\n",
    "\n",
    "print(f\"########################################################################################################\")\n",
    "print(\"Los valores de theta usando la ecuacion de la normal es calculados son:\")\n",
    "i = 0\n",
    "for thtEc in theta_Ec:\n",
    "    i += 1\n",
    "    print(f\"theta {i}: {thtEc}\")\n",
    "print(f\"########################################################################################################\")"
   ]
  },
  {
   "cell_type": "markdown",
   "metadata": {},
   "source": [
    "Haciendo pequeña prueba"
   ]
  },
  {
   "cell_type": "code",
   "execution_count": 139,
   "metadata": {},
   "outputs": [
    {
     "name": "stdout",
     "output_type": "stream",
     "text": [
      "La prediccion de la casa es de: 274693.1375955767\n"
     ]
    }
   ],
   "source": [
    "X_arrayEc = np.array([1,3,1,1180,5650,1,0,0,3,7,1180,0,1955,0,98178,47.5112,-122.257,1340,5650])\n",
    "\n",
    "prediccion_Ec = np.dot(X_arrayEc, theta_Ec)\n",
    "\n",
    "print (f\"La prediccion de la casa es de: {prediccion_Ec}\")"
   ]
  },
  {
   "cell_type": "markdown",
   "metadata": {},
   "source": [
    "#### 1.3.3 Ejemplos de Predicciones haciendo uso de la Ecuacion de la normal\n",
    "\n",
    "Se creo una matriz con 11 ejemplos, donde se hace las predicciones correpondientes:"
   ]
  },
  {
   "cell_type": "code",
   "execution_count": 140,
   "metadata": {},
   "outputs": [
    {
     "name": "stdout",
     "output_type": "stream",
     "text": [
      "+----+------------+-------------+---------------+------------+----------+--------------+--------+-------------+---------+--------------+-----------------+------------+----------------+-----------+---------+----------+-----------------+--------------+---------+\n",
      "|    |   bedrooms |   bathrooms |   sqft_living |   sqft_lot |   floors |   waterfront |   view |   condition |   grade |   sqft_above |   sqft_basement |   yr_built |   yr_renovated |   zipcode |     lat |     long |   sqft_living15 |   sqft_lot15 |   Price |\n",
      "+====+============+=============+===============+============+==========+==============+========+=============+=========+==============+=================+============+================+===========+=========+==========+=================+==============+=========+\n",
      "|  1 |          3 |        1    |          1180 |       5650 |      1   |            0 |      0 |           3 |       7 |         1180 |               0 |       1955 |              0 |     98178 | 47.5112 | -122.257 |            1340 |         5650 |  274693 |\n",
      "+----+------------+-------------+---------------+------------+----------+--------------+--------+-------------+---------+--------------+-----------------+------------+----------------+-----------+---------+----------+-----------------+--------------+---------+\n",
      "|  1 |          2 |        0.75 |          1020 |       1076 |      2   |            0 |      0 |           3 |       7 |         1020 |               0 |       2008 |              0 |     98144 | 47.5941 | -122.299 |            1020 |         1357 |  134911 |\n",
      "+----+------------+-------------+---------------+------------+----------+--------------+--------+-------------+---------+--------------+-----------------+------------+----------------+-----------+---------+----------+-----------------+--------------+---------+\n",
      "|  1 |          4 |        2.75 |          3555 |       6565 |      2   |            0 |      0 |           3 |       9 |         3555 |               0 |       2014 |              0 |     98053 | 47.6847 | -122.017 |            3625 |         5637 |  864106 |\n",
      "+----+------------+-------------+---------------+------------+----------+--------------+--------+-------------+---------+--------------+-----------------+------------+----------------+-----------+---------+----------+-----------------+--------------+---------+\n",
      "|  1 |          2 |        1    |          1040 |      13920 |      1   |            0 |      0 |           3 |       6 |         1040 |               0 |       1973 |           2020 |     98198 | 47.3756 | -122.306 |            1100 |         7575 |  150078 |\n",
      "+----+------------+-------------+---------------+------------+----------+--------------+--------+-------------+---------+--------------+-----------------+------------+----------------+-----------+---------+----------+-----------------+--------------+---------+\n",
      "|  1 |          4 |        1.75 |          1860 |       7350 |      1   |            0 |      0 |           4 |       7 |         1090 |             770 |       1977 |           2000 |     98031 | 47.3979 | -122.174 |            1710 |         7350 |  377302 |\n",
      "+----+------------+-------------+---------------+------------+----------+--------------+--------+-------------+---------+--------------+-----------------+------------+----------------+-----------+---------+----------+-----------------+--------------+---------+\n",
      "|  1 |          1 |        1    |          1060 |      54846 |      1   |            1 |      4 |           3 |       5 |         1060 |               0 |       1935 |              0 |     98070 | 47.4716 | -122.445 |            2258 |        31762 |  535568 |\n",
      "+----+------------+-------------+---------------+------------+----------+--------------+--------+-------------+---------+--------------+-----------------+------------+----------------+-----------+---------+----------+-----------------+--------------+---------+\n",
      "|  1 |          4 |        1.5  |          2220 |       9496 |      1   |            0 |      0 |           4 |       7 |         1490 |             730 |       1954 |              0 |     98004 | 47.6233 | -122.206 |            1800 |         8286 |  498689 |\n",
      "+----+------------+-------------+---------------+------------+----------+--------------+--------+-------------+---------+--------------+-----------------+------------+----------------+-----------+---------+----------+-----------------+--------------+---------+\n",
      "|  1 |          4 |        1.5  |          1560 |       6534 |      1   |            0 |      0 |           4 |       7 |         1560 |               0 |       1962 |              0 |     98007 | 47.6012 | -122.152 |            1560 |         6969 |  344455 |\n",
      "+----+------------+-------------+---------------+------------+----------+--------------+--------+-------------+---------+--------------+-----------------+------------+----------------+-----------+---------+----------+-----------------+--------------+---------+\n",
      "|  1 |          5 |        3    |          2510 |       4125 |      1.5 |            0 |      3 |           5 |       8 |         1590 |             920 |       1925 |              0 |     98144 | 47.5968 | -122.29  |            2190 |         5415 |  972216 |\n",
      "+----+------------+-------------+---------------+------------+----------+--------------+--------+-------------+---------+--------------+-----------------+------------+----------------+-----------+---------+----------+-----------------+--------------+---------+\n",
      "|  1 |          3 |        2.5  |          1680 |       2096 |      2   |            0 |      0 |           3 |       8 |         1380 |             300 |       2008 |              0 |     98117 | 47.6904 | -122.37  |            1360 |         2096 |  398147 |\n",
      "+----+------------+-------------+---------------+------------+----------+--------------+--------+-------------+---------+--------------+-----------------+------------+----------------+-----------+---------+----------+-----------------+--------------+---------+\n",
      "|  1 |          3 |        2.25 |          2020 |       3600 |      2   |            0 |      0 |           3 |       8 |         2020 |               0 |       1998 |              0 |     98033 | 47.6678 | -122.165 |            2070 |         3699 |  506856 |\n",
      "+----+------------+-------------+---------------+------------+----------+--------------+--------+-------------+---------+--------------+-----------------+------------+----------------+-----------+---------+----------+-----------------+--------------+---------+\n"
     ]
    }
   ],
   "source": [
    "matriz_datosEc = np.array([\n",
    "    [1,3,1,1180,5650,1,0,0,3,7,1180,0,1955,0,98178,47.5112,-122.257,1340,5650],\n",
    "    [1,2,0.75,1020,1076,2,0,0,3,7,1020,0,2008,0,98144,47.5941,-122.299,1020,1357],\n",
    "    [1,4,2.75,3555,6565,2,0,0,3,9,3555,0,2014,0,98053,47.6847,-122.017,3625,5637],\n",
    "    [1,2,1,1040,13920,1,0,0,3,6,1040,0,1973,2020,98198,47.3756,-122.306,1100,7575],\n",
    "    [1,4,1.75,1860,7350,1,0,0,4,7,1090,770,1977,2000,98031,47.3979,-122.174,1710,7350],\n",
    "    [1,1,1,1060,54846,1,1,4,3,5,1060,0,1935,0,98070,47.4716,-122.445,2258,31762],\n",
    "    [1,4,1.5,2220,9496,1,0,0,4,7,1490,730,1954,0,98004,47.6233,-122.206,1800,8286],\n",
    "    [1,4,1.5,1560,6534,1,0,0,4,7,1560,0,1962,0,98007,47.6012,-122.152,1560,6969],\n",
    "    [1,5,3,2510,4125,1.5,0,3,5,8,1590,920,1925,0,98144,47.5968,-122.29,2190,5415],\n",
    "    [1,3,2.5,1680,2096,2,0,0,3,8,1380,300,2008,0,98117,47.6904,-122.37,1360,2096],\n",
    "    [1,3,2.25,2020,3600,2,0,0,3,8,2020,0,1998,0,98033,47.6678,-122.165,2070,3699]\n",
    "])\n",
    "\n",
    "#creamos un vector parta almacenar cada Y predicha\n",
    "y_pre_Ec = []\n",
    "#Calculamos la Y predicha de los 11 ejemplos de prediccion\n",
    "for datosEc in matriz_datosEc:\n",
    "    y_pre_Ec.append(np.dot(datosEc, theta_Ec))\n",
    "\n",
    "matriz_datosEc = np.column_stack((matriz_datosEc, y_pre_Ec))\n",
    "\n",
    "nombres_columnas = ['bedrooms','bathrooms','sqft_living','sqft_lot','floors','waterfront','view','condition','grade','sqft_above','sqft_basement','yr_built','yr_renovated','zipcode','lat','long','sqft_living15','sqft_lot15','Price']\n",
    "\n",
    "# Convertir la matriz en una lista de listas\n",
    "datos_para_tabla = matriz_datosEc.tolist()\n",
    "\n",
    "# Imprimir la tabla\n",
    "print(tabulate(datos_para_tabla, headers=nombres_columnas, tablefmt='grid'))"
   ]
  },
  {
   "cell_type": "markdown",
   "metadata": {},
   "source": [
    "#### 1.3.4 Validaciones\n",
    "Para hacer las validaciones correspondientes, primero se crea la funcion del **Mean squeared error**\n",
    "\n",
    "Siguiendo el consejo de 80/20, donde 80% es para la fase de entrenamiento, y 20% es para la fase de prueba."
   ]
  },
  {
   "cell_type": "code",
   "execution_count": 141,
   "metadata": {},
   "outputs": [
    {
     "name": "stdout",
     "output_type": "stream",
     "text": [
      "Error Cuadrático Medio (MSE) = 46140716256.15447\n",
      "Raíz del Error Cuadrático Medio (RMSE) = 214803.90186436204\n"
     ]
    }
   ],
   "source": [
    "#Concatenamos de unos a la primera posicion del X_test\n",
    "X_ready_testEc = np.concatenate([np.ones((m_testEc, 1)), X_testEc], axis=1)\n",
    "\n",
    "#creamos un array que almacenara cada una de las y_predicha\n",
    "y_predicha_Ec = []\n",
    "for data_test_ready in X_ready_testEc:\n",
    "    y_predicha_Ec.append(np.dot(data_test_ready, theta_Ec))\n",
    "\n",
    "#calculamos el error cuadratico medio:\n",
    "mse_Ec = mean_squared_error(y_predicha_Ec, y_testEc)\n",
    "#calculamos el error cuadratico medio:\n",
    "print('Error Cuadrático Medio (MSE) = ' + str(mse_Ec))\n",
    "print('Raíz del Error Cuadrático Medio (RMSE) = ' + str(np.sqrt(mse_Ec)))"
   ]
  },
  {
   "cell_type": "markdown",
   "metadata": {},
   "source": [
    "## 2. Usando sin regularizacion"
   ]
  },
  {
   "cell_type": "markdown",
   "metadata": {},
   "source": [
    "En esta parte del laboratorio no se usara la parte de regularizacion, esto para ver como es el comportamiento del modelo."
   ]
  },
  {
   "cell_type": "markdown",
   "metadata": {},
   "source": [
    "### 2.1 regresion lineal multivariable"
   ]
  },
  {
   "cell_type": "code",
   "execution_count": 142,
   "metadata": {},
   "outputs": [],
   "source": [
    "#hacemos una copia de y_train y y_test para usarlo en la regresion lineal multivariable\n",
    "\n",
    "#estos datos seran usados para el entrenamiento\n",
    "X_testRLM = X_test.copy()\n",
    "y_testRLM = y_test.copy()\n",
    "m_test_RLM = len(y_testRLM)\n",
    "\n",
    "#estos datos seran usados para el test\n",
    "X_trainRLM = X_train.copy()\n",
    "y_trainRLM = y_train.copy()\n",
    "m_train_RLM = len(y_trainRLM)"
   ]
  },
  {
   "cell_type": "markdown",
   "metadata": {},
   "source": [
    "#### 2.1.1 Normalizacion de las caracteristicas\n",
    "\n",
    "Se hace uso de la funcion de `featureNormalize(X) ` donde se recibe un parametro de tipo matriz para normalizar cada dato dentro de ella, retornandome la **matriz normalizda**, **sigma(desviacion estandar)**, y mi **mu(media)**."
   ]
  },
  {
   "cell_type": "code",
   "execution_count": 143,
   "metadata": {},
   "outputs": [
    {
     "name": "stdout",
     "output_type": "stream",
     "text": [
      "    X[:,0]   X[:, 1]   X[:, 2]   X[:, 3]   X[:, 4]   X[:, 5]   X[:, 6]   X[:, 7]   X[:, 8]   X[:, 9]  X[:, 10]  X[:, 11]  X[:, 12]  X[:, 13]  X[:, 14]  X[:, 15]  X[:, 16]  X[:, 17]\n",
      "------------------------------------------------------------------------------------------------------------------------------------------------------------------------------------\n",
      "    -0.395    -0.474    -0.324    -0.044    -0.920    -0.085    -0.306     0.909     1.150    -0.007    -0.656     0.404    -0.208    -0.675    -1.397     0.442     1.126     0.013\n",
      "    -1.469    -1.453    -1.184    -0.286    -0.920    -0.085    -0.306    -0.625    -1.413    -1.200    -0.200    -1.431    -0.208     0.751    -0.060    -0.540    -1.047    -0.281\n",
      "    -0.395    -1.453    -1.095    -0.188     0.002    -0.085    -0.306    -0.625    -1.413    -0.969    -0.451    -0.989    -0.208     1.276    -0.553    -0.860    -1.193    -0.179\n",
      "    -0.395     0.178     0.018    -0.188    -0.920    -0.085    -0.306     0.909    -0.559    -0.616     1.190     0.200    -0.208    -0.881    -1.194     0.300    -0.268    -0.195\n",
      "    -1.469     0.504    -0.367    -0.344     0.923    -0.085    -0.306    -0.625     0.296    -0.414     0.016     1.219    -0.208    -0.825     1.040     0.037     0.157    -0.083\n",
      "    -0.395    -0.474     0.293     0.954     0.002    -0.085    -0.306    -0.625     0.296    -0.336     1.236     0.234    -0.208    -0.956    -0.547     1.275     0.113     2.355\n",
      "     1.752     0.830    -0.037    -0.188    -0.920    -0.085    -0.306     0.909    -0.559    -0.713     1.258    -0.072    -0.208    -0.825     1.218     0.300    -0.665    -0.190\n",
      "     1.752     0.178     1.373    -0.043    -0.920    -0.085     2.320     0.909     1.150     0.139     2.580    -0.241    -0.208    -0.937     1.435    -0.390     1.229     0.015\n",
      "    -0.395    -0.474    -0.346    -0.165    -0.920    -0.085    -0.306     0.909     0.296    -0.397     0.028    -0.377    -0.208     1.088    -0.179    -1.252    -0.004    -0.157\n",
      "    -0.395     0.504    -0.511    -0.252     0.923    -0.085    -0.306    -0.625    -0.559    -0.214    -0.656     1.117    -0.208    -0.750    -1.279     1.218    -0.283    -0.327\n"
     ]
    }
   ],
   "source": [
    "#introductimos los datos a la funcion de normalizacion\n",
    "X_norm_RLM, mu_RLM, sigma_RLM = featureNormalize(X_trainRLM)\n",
    "\n",
    "# imprimimos algunos valores de X_norm\n",
    "print('{:>10s}{:>10s}{:>10s}{:>10s}{:>10s}{:>10s}{:>10s}{:>10s}{:>10s}{:>10s}{:>10s}{:>10s}{:>10s}{:>10s}{:>10s}{:>10s}{:>10s}{:>10s}'.format(\n",
    "    'X[:,0]', 'X[:, 1]', 'X[:, 2]', 'X[:, 3]', 'X[:, 4]', 'X[:, 5]', 'X[:, 6]', 'X[:, 7]', 'X[:, 8]', 'X[:, 9]', 'X[:, 10]', 'X[:, 11]',\n",
    "    'X[:, 12]', 'X[:, 13]', 'X[:, 14]', 'X[:, 15]', 'X[:, 16]', 'X[:, 17]'\n",
    "))\n",
    "print('-' * 180)\n",
    "\n",
    "for i in range(10):\n",
    "    print('{:10.3f}{:10.3f}{:10.3f}{:10.3f}{:10.3f}{:10.3f}{:10.3f}{:10.3f}{:10.3f}{:10.3f}{:10.3f}{:10.3f}{:10.3f}{:10.3f}{:10.3f}{:10.3f}{:10.3f}{:10.3f}'.format(\n",
    "        X_norm_RLM[i, 0], \n",
    "        X_norm_RLM[i, 1], \n",
    "        X_norm_RLM[i, 2], \n",
    "        X_norm_RLM[i, 3], \n",
    "        X_norm_RLM[i, 4], \n",
    "        X_norm_RLM[i, 5], \n",
    "        X_norm_RLM[i, 6], \n",
    "        X_norm_RLM[i, 7], \n",
    "        X_norm_RLM[i, 8], \n",
    "        X_norm_RLM[i, 9], \n",
    "        X_norm_RLM[i, 10], \n",
    "        X_norm_RLM[i, 11],\n",
    "        X_norm_RLM[i, 12],\n",
    "        X_norm_RLM[i, 13], \n",
    "        X_norm_RLM[i, 14], \n",
    "        X_norm_RLM[i, 15], \n",
    "        X_norm_RLM[i, 16], \n",
    "        X_norm_RLM[i, 17],))"
   ]
  },
  {
   "cell_type": "markdown",
   "metadata": {},
   "source": [
    "#### 2.1.2 Agregamos la columna de unos a nuestra matriz\n",
    "\n",
    "Agregamos nuestra variable de sesgo que sera nuestra columna de unos."
   ]
  },
  {
   "cell_type": "code",
   "execution_count": 144,
   "metadata": {},
   "outputs": [
    {
     "name": "stdout",
     "output_type": "stream",
     "text": [
      "    X[:,0]   X[:, 1]   X[:, 2]   X[:, 3]   X[:, 4]   X[:, 5]   X[:, 6]   X[:, 7]   X[:, 8]   X[:, 9]  X[:, 10]  X[:, 11]  X[:, 12]  X[:, 13]  X[:, 14]  X[:, 15]  X[:, 16]  X[:, 17]  X[:, 18]\n",
      "------------------------------------------------------------------------------------------------------------------------------------------------------------------------------------\n",
      "     1.000    -0.395    -0.474    -0.324    -0.044    -0.920    -0.085    -0.306     0.909     1.150    -0.007    -0.656     0.404    -0.208    -0.675    -1.397     0.442     1.126     0.013\n",
      "     1.000    -1.469    -1.453    -1.184    -0.286    -0.920    -0.085    -0.306    -0.625    -1.413    -1.200    -0.200    -1.431    -0.208     0.751    -0.060    -0.540    -1.047    -0.281\n",
      "     1.000    -0.395    -1.453    -1.095    -0.188     0.002    -0.085    -0.306    -0.625    -1.413    -0.969    -0.451    -0.989    -0.208     1.276    -0.553    -0.860    -1.193    -0.179\n",
      "     1.000    -0.395     0.178     0.018    -0.188    -0.920    -0.085    -0.306     0.909    -0.559    -0.616     1.190     0.200    -0.208    -0.881    -1.194     0.300    -0.268    -0.195\n",
      "     1.000    -1.469     0.504    -0.367    -0.344     0.923    -0.085    -0.306    -0.625     0.296    -0.414     0.016     1.219    -0.208    -0.825     1.040     0.037     0.157    -0.083\n",
      "     1.000    -0.395    -0.474     0.293     0.954     0.002    -0.085    -0.306    -0.625     0.296    -0.336     1.236     0.234    -0.208    -0.956    -0.547     1.275     0.113     2.355\n",
      "     1.000     1.752     0.830    -0.037    -0.188    -0.920    -0.085    -0.306     0.909    -0.559    -0.713     1.258    -0.072    -0.208    -0.825     1.218     0.300    -0.665    -0.190\n",
      "     1.000     1.752     0.178     1.373    -0.043    -0.920    -0.085     2.320     0.909     1.150     0.139     2.580    -0.241    -0.208    -0.937     1.435    -0.390     1.229     0.015\n",
      "     1.000    -0.395    -0.474    -0.346    -0.165    -0.920    -0.085    -0.306     0.909     0.296    -0.397     0.028    -0.377    -0.208     1.088    -0.179    -1.252    -0.004    -0.157\n",
      "     1.000    -0.395     0.504    -0.511    -0.252     0.923    -0.085    -0.306    -0.625    -0.559    -0.214    -0.656     1.117    -0.208    -0.750    -1.279     1.218    -0.283    -0.327\n"
     ]
    }
   ],
   "source": [
    "X_ready_RLM = np.concatenate([np.ones((m_train_RLM, 1)), X_norm_RLM], axis=1)\n",
    "\n",
    "# imprimimos algunos valores de X_norm\n",
    "print('{:>10s}{:>10s}{:>10s}{:>10s}{:>10s}{:>10s}{:>10s}{:>10s}{:>10s}{:>10s}{:>10s}{:>10s}{:>10s}{:>10s}{:>10s}{:>10s}{:>10s}{:>10s}{:>10s}'.format(\n",
    "    'X[:,0]', 'X[:, 1]', 'X[:, 2]', 'X[:, 3]', 'X[:, 4]', 'X[:, 5]', 'X[:, 6]', 'X[:, 7]', 'X[:, 8]', 'X[:, 9]', 'X[:, 10]', 'X[:, 11]',\n",
    "    'X[:, 12]', 'X[:, 13]', 'X[:, 14]', 'X[:, 15]', 'X[:, 16]', 'X[:, 17]', 'X[:, 18]'\n",
    "))\n",
    "print('-' * 180)\n",
    "\n",
    "for i in range(10):\n",
    "    print('{:10.3f}{:10.3f}{:10.3f}{:10.3f}{:10.3f}{:10.3f}{:10.3f}{:10.3f}{:10.3f}{:10.3f}{:10.3f}{:10.3f}{:10.3f}{:10.3f}{:10.3f}{:10.3f}{:10.3f}{:10.3f}{:10.3f}'.format(\n",
    "        X_ready_RLM[i, 0], \n",
    "        X_ready_RLM[i, 1], \n",
    "        X_ready_RLM[i, 2], \n",
    "        X_ready_RLM[i, 3], \n",
    "        X_ready_RLM[i, 4], \n",
    "        X_ready_RLM[i, 5], \n",
    "        X_ready_RLM[i, 6], \n",
    "        X_ready_RLM[i, 7], \n",
    "        X_ready_RLM[i, 8], \n",
    "        X_ready_RLM[i, 9], \n",
    "        X_ready_RLM[i, 10], \n",
    "        X_ready_RLM[i, 11],\n",
    "        X_ready_RLM[i, 12],\n",
    "        X_ready_RLM[i, 13], \n",
    "        X_ready_RLM[i, 14], \n",
    "        X_ready_RLM[i, 15], \n",
    "        X_ready_RLM[i, 16], \n",
    "        X_ready_RLM[i, 17],\n",
    "        X_ready_RLM[i, 18]))"
   ]
  },
  {
   "cell_type": "markdown",
   "metadata": {},
   "source": [
    "#### 2.1.3 Descenso por el gradiente\n",
    "\n",
    "El descenso por el gradiente con la función de costo es un algoritmo fundamental en el aprendizaje automático supervisado, especialmente en problemas de optimización de modelos. Su propósito principal es minimizar la función de costo (o pérdida) de un modelo mediante ajustes iterativos de los parámetros del modelo."
   ]
  },
  {
   "cell_type": "markdown",
   "metadata": {},
   "source": [
    "##### 2.1.3.1 Cálculo del costo $J(\\theta)$"
   ]
  },
  {
   "cell_type": "markdown",
   "metadata": {},
   "source": [
    "Haciendo uso de la funcion `calcularCostoSR(X,y,theta)` con un ejemplo de funcionamiento de la funcion computeCoste con dos valores diferentes de $\\theta$."
   ]
  },
  {
   "cell_type": "code",
   "execution_count": 145,
   "metadata": {},
   "outputs": [
    {
     "name": "stdout",
     "output_type": "stream",
     "text": [
      "19\n",
      "########################################################################################################\n",
      "con theta:[0.2 3.  0.2 0.1 3.  0.2 1.1 2.  0.7 0.8 5.8 0.9 0.7 2.  0.5 0.8 1.  0.2\n",
      " 0.3] se obtiene un costo de: 209918722469.17972\n",
      "########################################################################################################\n",
      "con theta:[0.1  2.   0.5  0.2  8.   0.7  1.3  8.   1.7  0.7  7.1  0.6  0.6  1.\n",
      " 0.3  0.9  2.   0.12 0.7 ] se obtiene un costo de: 209917518342.74518\n"
     ]
    }
   ],
   "source": [
    "theta_RLM=np.array([0.2, 3.0, 0.2,0.1, 3.0, 0.2,1.1, 2.0, 0.7,0.8, 5.8, 0.9,0.7, 2.0, 0.5,0.8, 1.0, 0.2,0.3])\n",
    "theta_RLM1=np.array([0.1, 2.0, 0.5,0.2, 8.0, 0.7,1.3, 8.0, 1.7,0.7, 7.1, 0.6,0.6, 1.0, 0.3,0.9, 2.0, 0.12,0.7])\n",
    "\n",
    "print(theta.shape[0])\n",
    "print(f\"########################################################################################################\")\n",
    "print(f\"con theta:{ theta_RLM } se obtiene un costo de: {calcularCostoSR(X_ready_RLM, y_trainRLM, theta_RLM)}\")\n",
    "print(f\"########################################################################################################\")\n",
    "print(f\"con theta:{ theta_RLM1 } se obtiene un costo de: {calcularCostoSR(X_ready_RLM, y_trainRLM, theta_RLM1)}\")"
   ]
  },
  {
   "cell_type": "markdown",
   "metadata": {},
   "source": [
    "##### 2.1.3.2Descenso por el gradiente\n",
    "\n",
    "Hacemos uso de la funcion para hacer el calculo del descenso por el gradiente y asi encontrar nuestras **Thetas**, ahora ya no recibira el parametro de ``lamda_``:"
   ]
  },
  {
   "cell_type": "markdown",
   "metadata": {},
   "source": [
    "Se inicializan los parametros $\\theta$ con 0 y la taza de aprendizaje $\\alpha$ con 0.00009."
   ]
  },
  {
   "cell_type": "code",
   "execution_count": 146,
   "metadata": {},
   "outputs": [
    {
     "name": "stdout",
     "output_type": "stream",
     "text": [
      "########################################################################################################\n",
      "Los valores de theta calculados son:\n",
      "theta 1: 535345.0735611789\n",
      "theta 2: -27631.733612389617\n",
      "theta 3: 31044.200256051918\n",
      "theta 4: 76399.93213731631\n",
      "theta 5: 3560.6994843417465\n",
      "theta 6: 5723.166484881427\n",
      "theta 7: 47261.91479741805\n",
      "theta 8: 41200.95063715602\n",
      "theta 9: 19722.703921215212\n",
      "theta 10: 99251.42241168731\n",
      "theta 11: 70378.65125639013\n",
      "theta 12: 26195.21901986641\n",
      "theta 13: -68538.17122565817\n",
      "theta 14: 11782.455904006063\n",
      "theta 15: -23794.42520634955\n",
      "theta 16: 83070.80664816868\n",
      "theta 17: -28206.859817611516\n",
      "theta 18: 30100.297045035153\n",
      "theta 19: -8051.261777134005\n",
      "########################################################################################################\n",
      "con un costo de: 19737807687.20106 \n",
      "la cantidad de theta son:  19\n"
     ]
    }
   ],
   "source": [
    "#creamos un theta con 19 columnas de ceros\n",
    "theta_RLM = np.zeros(len(X_ready_RLM[0]))\n",
    "\n",
    "#numero de iteraciones sera 6000 y un alpha 0.00009\n",
    "num_ite_RLM = 6000\n",
    "alpha_RLM = 0.0009\n",
    "\n",
    "theta_RLM, J_historico_RLM = calcularDescensoGradienteSR(X_ready_RLM, y_trainRLM, theta_RLM, alpha_RLM, num_ite_RLM)\n",
    "print(\"########################################################################################################\")\n",
    "print(\"Los valores de theta calculados son:\")\n",
    "i = 0\n",
    "for tht in theta_RLM:\n",
    "    i += 1\n",
    "    print(f\"theta {i}: {tht}\")\n",
    "\n",
    "print(f\"########################################################################################################\")\n",
    "#mostramos el ultimo costo, este seria el mejor costo\n",
    "print(f\"con un costo de: { J_historico_RLM[-1]} \")\n",
    "print(\"la cantidad de theta son: \", theta.shape[0])"
   ]
  },
  {
   "cell_type": "markdown",
   "metadata": {},
   "source": [
    "#### 2.1.4 Grafica de la convergencia del costo\n",
    "graficamos el costo"
   ]
  },
  {
   "cell_type": "code",
   "execution_count": 147,
   "metadata": {},
   "outputs": [
    {
     "data": {
      "text/plain": [
       "Text(0, 0.5, 'Costo J')"
      ]
     },
     "execution_count": 147,
     "metadata": {},
     "output_type": "execute_result"
    },
    {
     "data": {
      "image/png": "[encoded data removed]",
      "text/plain": [
       "<Figure size 640x480 with 1 Axes>"
      ]
     },
     "metadata": {},
     "output_type": "display_data"
    }
   ],
   "source": [
    "pyplot.plot(np.arange(len(J_historico_RLM)), J_historico_RLM, lw=2)\n",
    "pyplot.title(\"Grafica de la convergencia del costo\")\n",
    "pyplot.xlabel('Numero de iteraciones')\n",
    "pyplot.ylabel('Costo J')"
   ]
  },
  {
   "cell_type": "markdown",
   "metadata": {},
   "source": [
    "##### 2.1.4.1 Grafica de la regresion lineal\n",
    "\n",
    "En esta parte se trazan los datos de entrenamiento y una línea que representa la regresión lineal ajustada a esos datos."
   ]
  },
  {
   "cell_type": "code",
   "execution_count": 148,
   "metadata": {},
   "outputs": [
    {
     "data": {
      "text/plain": [
       "<matplotlib.legend.Legend at 0x1ff101f3e60>"
      ]
     },
     "execution_count": 148,
     "metadata": {},
     "output_type": "execute_result"
    },
    {
     "data": {
      "image/png": "[encoded data removed]",
      "text/plain": [
       "<Figure size 640x480 with 1 Axes>"
      ]
     },
     "metadata": {},
     "output_type": "display_data"
    }
   ],
   "source": [
    "graficarDatos(X_ready_RLM[:, 1],  X_ready_RLM[:, 2] , \"X_ready_RLM_1\", \"X_ready_RLM_2\")\n",
    "\n",
    "pyplot.plot(X_ready_RLM[:,1], np.dot(X_ready_RLM, theta_RLM), '-')\n",
    "\n",
    "pyplot.legend(['Datos de entrenamiento', 'regresion lineal'])"
   ]
  },
  {
   "cell_type": "markdown",
   "metadata": {},
   "source": [
    "haciendo una pequeña prueba:"
   ]
  },
  {
   "cell_type": "code",
   "execution_count": 149,
   "metadata": {},
   "outputs": [
    {
     "name": "stdout",
     "output_type": "stream",
     "text": [
      "La prediccion de la casa es de: [209496.25455761]\n"
     ]
    }
   ],
   "source": [
    "X_arrayRLM = np.array([1,3,1,1180,5650,1,0,0,3,7,1180,0,1955,0,98178,47.5112,-122.257,1340,5650])\n",
    "X_arrayRLM = X_arrayRLM.reshape(1, -1)\n",
    "\n",
    "X_arrayRLM[:, 1:] = (X_arrayRLM[:, 1:] - mu_RLM) / sigma_RLM\n",
    "\n",
    "prediccion_RLM = np.dot(X_arrayRLM, theta_RLM)\n",
    "\n",
    "print (f\"La prediccion de la casa es de: {prediccion_RLM}\")"
   ]
  },
  {
   "cell_type": "markdown",
   "metadata": {},
   "source": [
    "#### 2.1.5 Ejemplos de Predicciones\n",
    "\n",
    "Se creo una matriz con 11 ejemplos, donde se hace las predicciones correspondientes:"
   ]
  },
  {
   "cell_type": "code",
   "execution_count": 150,
   "metadata": {},
   "outputs": [
    {
     "name": "stdout",
     "output_type": "stream",
     "text": [
      "20\n",
      "19\n",
      "+----+------------+-------------+---------------+------------+----------+--------------+--------+-------------+---------+--------------+-----------------+------------+----------------+-----------+---------+----------+-----------------+--------------+------------------+\n",
      "|    |   bedrooms |   bathrooms |   sqft_living |   sqft_lot |   floors |   waterfront |   view |   condition |   grade |   sqft_above |   sqft_basement |   yr_built |   yr_renovated |   zipcode |     lat |     long |   sqft_living15 |   sqft_lot15 |            Price |\n",
      "+====+============+=============+===============+============+==========+==============+========+=============+=========+==============+=================+============+================+===========+=========+==========+=================+==============+==================+\n",
      "|  1 |          3 |        1    |          1180 |       5650 |      1   |            0 |      0 |           3 |       7 |         1180 |               0 |       1955 |              0 |     98178 | 47.5112 | -122.257 |            1340 |         5650 | 209496           |\n",
      "+----+------------+-------------+---------------+------------+----------+--------------+--------+-------------+---------+--------------+-----------------+------------+----------------+-----------+---------+----------+-----------------+--------------+------------------+\n",
      "|  1 |          2 |        0.75 |          1020 |       1076 |      2   |            0 |      0 |           3 |       7 |         1020 |               0 |       2008 |              0 |     98144 | 47.5941 | -122.299 |            1020 |         1357 | 149047           |\n",
      "+----+------------+-------------+---------------+------------+----------+--------------+--------+-------------+---------+--------------+-----------------+------------+----------------+-----------+---------+----------+-----------------+--------------+------------------+\n",
      "|  1 |          4 |        2.75 |          3555 |       6565 |      2   |            0 |      0 |           3 |       9 |         3555 |               0 |       2014 |              0 |     98053 | 47.6847 | -122.017 |            3625 |         5637 | 909660           |\n",
      "+----+------------+-------------+---------------+------------+----------+--------------+--------+-------------+---------+--------------+-----------------+------------+----------------+-----------+---------+----------+-----------------+--------------+------------------+\n",
      "|  1 |          2 |        1    |          1040 |      13920 |      1   |            0 |      0 |           3 |       6 |         1040 |               0 |       1973 |           1867 |     98198 | 47.3756 | -122.306 |            1100 |         7575 |  52995.9         |\n",
      "+----+------------+-------------+---------------+------------+----------+--------------+--------+-------------+---------+--------------+-----------------+------------+----------------+-----------+---------+----------+-----------------+--------------+------------------+\n",
      "|  1 |          4 |        1.75 |          1860 |       7350 |      1   |            0 |      0 |           4 |       7 |         1090 |             770 |       1977 |           1900 |     98031 | 47.3979 | -122.174 |            1710 |         7350 | 337885           |\n",
      "+----+------------+-------------+---------------+------------+----------+--------------+--------+-------------+---------+--------------+-----------------+------------+----------------+-----------+---------+----------+-----------------+--------------+------------------+\n",
      "|  1 |          1 |        1    |          1060 |      54846 |      1   |            1 |      4 |           3 |       5 |         1060 |               0 |       1935 |              0 |     98070 | 47.4716 | -122.445 |            2258 |        31762 |      1.00146e+06 |\n",
      "+----+------------+-------------+---------------+------------+----------+--------------+--------+-------------+---------+--------------+-----------------+------------+----------------+-----------+---------+----------+-----------------+--------------+------------------+\n",
      "|  1 |          4 |        1.5  |          2220 |       9496 |      1   |            0 |      0 |           4 |       7 |         1490 |             730 |       1954 |              0 |     98004 | 47.6233 | -122.206 |            1800 |         8286 | 544965           |\n",
      "+----+------------+-------------+---------------+------------+----------+--------------+--------+-------------+---------+--------------+-----------------+------------+----------------+-----------+---------+----------+-----------------+--------------+------------------+\n",
      "|  1 |          4 |        1.5  |          1560 |       6534 |      1   |            0 |      0 |           4 |       7 |         1560 |               0 |       1962 |              0 |     98007 | 47.6012 | -122.152 |            1560 |         6969 | 397235           |\n",
      "+----+------------+-------------+---------------+------------+----------+--------------+--------+-------------+---------+--------------+-----------------+------------+----------------+-----------+---------+----------+-----------------+--------------+------------------+\n",
      "|  1 |          5 |        3    |          2510 |       4125 |      1.5 |            0 |      3 |           5 |       8 |         1590 |             920 |       1925 |              0 |     98144 | 47.5968 | -122.29  |            2190 |         5415 | 926566           |\n",
      "+----+------------+-------------+---------------+------------+----------+--------------+--------+-------------+---------+--------------+-----------------+------------+----------------+-----------+---------+----------+-----------------+--------------+------------------+\n",
      "|  1 |          3 |        2.5  |          1680 |       2096 |      2   |            0 |      0 |           3 |       8 |         1380 |             300 |       2008 |              0 |     98117 | 47.6904 | -122.37  |            1360 |         2096 | 478359           |\n",
      "+----+------------+-------------+---------------+------------+----------+--------------+--------+-------------+---------+--------------+-----------------+------------+----------------+-----------+---------+----------+-----------------+--------------+------------------+\n",
      "|  1 |          3 |        2.25 |          2020 |       3600 |      2   |            0 |      0 |           3 |       8 |         2020 |               0 |       1998 |              0 |     98033 | 47.6678 | -122.165 |            2070 |         3699 | 570867           |\n",
      "+----+------------+-------------+---------------+------------+----------+--------------+--------+-------------+---------+--------------+-----------------+------------+----------------+-----------+---------+----------+-----------------+--------------+------------------+\n"
     ]
    }
   ],
   "source": [
    "#Creamos la matriz con 11 ejemplos para hacer la prueba predecir un precio de cada ejemplo:\n",
    "matriz_datos_RLM = np.array([\n",
    "    [1,3,1,1180,5650,1,0,0,3,7,1180,0,1955,0,98178,47.5112,-122.257,1340,5650],\n",
    "    [1,2,0.75,1020,1076,2,0,0,3,7,1020,0,2008,0,98144,47.5941,-122.299,1020,1357],\n",
    "    [1,4,2.75,3555,6565,2,0,0,3,9,3555,0,2014,0,98053,47.6847,-122.017,3625,5637],\n",
    "    [1,2,1,1040,13920,1,0,0,3,6,1040,0,1973,1867,98198,47.3756,-122.306,1100,7575],\n",
    "    [1,4,1.75,1860,7350,1,0,0,4,7,1090,770,1977,1900,98031,47.3979,-122.174,1710,7350],\n",
    "    [1,1,1,1060,54846,1,1,4,3,5,1060,0,1935,0,98070,47.4716,-122.445,2258,31762],\n",
    "    [1,4,1.5,2220,9496,1,0,0,4,7,1490,730,1954,0,98004,47.6233,-122.206,1800,8286],\n",
    "    [1,4,1.5,1560,6534,1,0,0,4,7,1560,0,1962,0,98007,47.6012,-122.152,1560,6969],\n",
    "    [1,5,3,2510,4125,1.5,0,3,5,8,1590,920,1925,0,98144,47.5968,-122.29,2190,5415],\n",
    "    [1,3,2.5,1680,2096,2,0,0,3,8,1380,300,2008,0,98117,47.6904,-122.37,1360,2096],\n",
    "    [1,3,2.25,2020,3600,2,0,0,3,8,2020,0,1998,0,98033,47.6678,-122.165,2070,3699]\n",
    "])\n",
    "\n",
    "#creamos un vector parta almacenar cada Y predicha\n",
    "y_pre_RLM = []\n",
    "matriz_datos_RLM_copy = matriz_datos_RLM.copy()\n",
    "\n",
    "#Normalizamos todos, menos el primer valor de cada ejemplo\n",
    "\n",
    "matriz_datos_RLM_copy[:, 1:] = (matriz_datos_RLM_copy[:, 1:] - mu_RLM) / sigma_RLM\n",
    "\n",
    "\n",
    "#Calculamos la Y predicha de los 11 ejemplos de prediccion\n",
    "for datos in matriz_datos_RLM_copy:\n",
    "    y_pre_RLM.append(np.dot(datos, theta_RLM))\n",
    "\n",
    "matriz_datos_RLM = np.column_stack((matriz_datos_RLM, y_pre_RLM))\n",
    "\n",
    "nombres_columnas = ['bedrooms','bathrooms','sqft_living','sqft_lot','floors','waterfront','view','condition','grade','sqft_above','sqft_basement','yr_built','yr_renovated','zipcode','lat','long','sqft_living15','sqft_lot15','Price']\n",
    "\n",
    "# Convertir la matriz en una lista de listas\n",
    "datos_para_tabla = matriz_datos_RLM.tolist()\n",
    "\n",
    "print(len(matriz_datos_RLM[0]))\n",
    "print(len(matriz_datos_RLM_copy[0]))\n",
    "\n",
    "# Imprimir la tabla\n",
    "print(tabulate(datos_para_tabla, headers=nombres_columnas, tablefmt='grid'))"
   ]
  },
  {
   "cell_type": "markdown",
   "metadata": {},
   "source": [
    "#### 2.1.6 Validaciones\n",
    "Para hacer las validaciones correspondientes, primero se crea la funcion del **Mean squeared error**\n",
    "\n",
    "Siguiendo el consejo de 80/20, donde 80% es para la fase de entrenamiento, y 20% es para la fase de prueba.\n",
    "\n",
    "haciendo calculo del error cuadratico medio:"
   ]
  },
  {
   "cell_type": "code",
   "execution_count": 151,
   "metadata": {},
   "outputs": [
    {
     "name": "stdout",
     "output_type": "stream",
     "text": [
      "Error Cuadrático Medio (MSE) = 45428850595.866516\n",
      "Raíz del Error Cuadrático Medio (RMSE) = 213140.44805213888\n"
     ]
    }
   ],
   "source": [
    "#Concatenamos de unos a la primera posicion del X_test\n",
    "X_testRLM_ready = np.concatenate([np.ones((m_test_RLM, 1)), X_testRLM], axis=1)\n",
    "\n",
    "# Normalizamos todos, menos el primer valor de cada ejemplo porque este contiene los unos\n",
    "X_testRLM_ready[:, 1:] = (X_testRLM_ready[:, 1:] - mu_RLM) / sigma_RLM\n",
    "\n",
    "#creamos un array que almacenara cada una de las y_predicha\n",
    "y_predicha_RLM = []\n",
    "for data_RLM in X_testRLM_ready:\n",
    "    y_predicha_RLM.append(np.dot(data_RLM, theta_RLM))\n",
    "\n",
    "mse_RLM = mean_squared_error(y_predicha_RLM, y_testRLM)\n",
    "#calculamos el error cuadratico medio:\n",
    "print('Error Cuadrático Medio (MSE) = ' + str(mse_RLM))\n",
    "print('Raíz del Error Cuadrático Medio (RMSE) = ' + str(np.sqrt(mse_RLM)))"
   ]
  },
  {
   "cell_type": "markdown",
   "metadata": {},
   "source": [
    "### 2.2 Regresion Polinomica"
   ]
  },
  {
   "cell_type": "markdown",
   "metadata": {},
   "source": [
    "haciendo uso de **PolynomialFeatures**:"
   ]
  },
  {
   "cell_type": "markdown",
   "metadata": {},
   "source": [
    "Carga de los datos para la regresion Polinomial:"
   ]
  },
  {
   "cell_type": "code",
   "execution_count": 152,
   "metadata": {},
   "outputs": [
    {
     "name": "stdout",
     "output_type": "stream",
     "text": [
      "la cantidad de columnas de X_trainRLP es de:  190\n",
      "la cantidad de ejemplos de X_trainRLP es de:  17290\n"
     ]
    }
   ],
   "source": [
    "#hacemos una copia de y_train y y_test para usarlo en la regresion lineal multivariable\n",
    "\n",
    "#estos datos seran usados para el entrenamiento\n",
    "X_testRLP = X_test.copy()\n",
    "y_testRLP = y_test.copy()\n",
    "m_test_RLP = len(y_testRLM)\n",
    "#estos datos seran usados para el test\n",
    "\n",
    "#hacemos uso de la libreria PolynomialFeatures para hacer la regresion polinomial de grado 2\n",
    "poly = PolynomialFeatures(degree=2)\n",
    "#hacemos una copia de y_train y y_test para usarlo en la regresion polinomial\n",
    "X_trainRLP = poly.fit_transform(X_train.copy())\n",
    "y_trainRLP = y_train.copy()\n",
    "m_train_RLP = len(y_trainRLM)\n",
    "\n",
    "print(\"la cantidad de columnas de X_trainRLP es de: \", X_trainRLP.shape[1])\n",
    "print(\"la cantidad de ejemplos de X_trainRLP es de: \", X_trainRLP.shape[0])"
   ]
  },
  {
   "cell_type": "markdown",
   "metadata": {},
   "source": [
    "#### 2.2.1 Normalizacion de las caracteristicas\n",
    "\n",
    "Se hace uso de la funcion de `featureNormalize(X) ` para normalizar cada una de las 190 feactures de mi nueva matriz de datos donde se recibe un parametro de tipo matriz para normalizar cada dato dentro de ella, retornandome la **matriz normalizda**, **sigma(desviacion estandar)**, y mi **mu(media)**."
   ]
  },
  {
   "cell_type": "code",
   "execution_count": 153,
   "metadata": {},
   "outputs": [
    {
     "data": {
      "text/plain": [
       "(17290, 190)"
      ]
     },
     "execution_count": 153,
     "metadata": {},
     "output_type": "execute_result"
    }
   ],
   "source": [
    "#introductimos los datos a la funcion de normalizacion\n",
    "X_norm_RLP, mu_RLP, sigma_RLP = featureNormalize(X_trainRLP)\n",
    "\n",
    "X_norm_RLP.shape"
   ]
  },
  {
   "cell_type": "markdown",
   "metadata": {},
   "source": [
    "#### 2.2.2 Agregamos la columna de unos a nuestra matriz"
   ]
  },
  {
   "cell_type": "code",
   "execution_count": 154,
   "metadata": {},
   "outputs": [
    {
     "name": "stdout",
     "output_type": "stream",
     "text": [
      "La cantidad de columnas de X_ready_RLP es de:  191\n"
     ]
    }
   ],
   "source": [
    "X_ready_RLP = np.concatenate([np.ones((m_train_RLP, 1)), X_norm_RLP], axis=1)\n",
    "print(\"La cantidad de columnas de X_ready_RLP es de: \", X_ready_RLP.shape[1])"
   ]
  },
  {
   "cell_type": "markdown",
   "metadata": {},
   "source": [
    "#### 2.2.3 Descenso por el gradiente\n",
    "\n",
    "haciendo uso de la funcio de `calcularCosto(X , y, theta, lamda_)` donde `X` sera nuestra matriz normalizada, y sera nuestra `y_predicha` que en este caso sera el precio, `Thetha` que seran nuestros valores inciales, pero en este caso sin incluir el parametro de regularizacion."
   ]
  },
  {
   "cell_type": "markdown",
   "metadata": {},
   "source": [
    "##### 2.2.3.1 Cálculo del costo $J(\\theta)$"
   ]
  },
  {
   "cell_type": "code",
   "execution_count": 155,
   "metadata": {},
   "outputs": [
    {
     "name": "stdout",
     "output_type": "stream",
     "text": [
      "191\n",
      "########################################################################################################\n",
      "con theta:[2.47237051e-02 5.77357732e-02 9.17192353e-01 2.53454885e-01\n",
      " 4.14642818e-01 3.92026989e-01 5.72793761e-01 5.71666563e-01\n",
      " 6.71504905e-01 4.38018092e-01 2.34394880e-01 5.80485019e-02\n",
      " 5.84374678e-01 5.34075269e-01 4.16067488e-01 1.54046640e-02\n",
      " 1.17759362e-01 7.69822215e-01 1.35766546e-01 9.44120870e-01\n",
      " 8.84115693e-01 9.98082132e-01 1.85134798e-01 9.44435143e-01\n",
      " 6.79720088e-01 9.49253925e-03 7.49849166e-01 3.94091326e-01\n",
      " 9.19840376e-01 6.12624346e-01 2.03240858e-01 3.71043087e-01\n",
      " 8.80148016e-01 8.84774761e-01 9.70321771e-01 6.37850835e-02\n",
      " 7.38138712e-01 3.95476533e-02 9.62674100e-01 8.59580904e-01\n",
      " 5.72067741e-01 9.14871053e-01 9.01850632e-01 8.14155958e-01\n",
      " 7.19086804e-01 4.33699718e-01 1.08117710e-06 8.22453856e-01\n",
      " 7.56761448e-01 8.12778330e-01 6.00260384e-01 1.62814371e-01\n",
      " 8.49185103e-02 4.55702262e-01 9.59563277e-01 6.79274061e-01\n",
      " 4.18140291e-01 7.11438685e-01 8.45229548e-01 5.89327258e-01\n",
      " 3.33903446e-01 4.16290010e-01 9.60063601e-01 7.28532340e-01\n",
      " 4.35243609e-01 4.00124745e-01 7.97907546e-01 1.74513783e-01\n",
      " 4.62719783e-01 5.94931069e-01 3.49904507e-02 1.63982523e-01\n",
      " 7.11279183e-01 8.74406929e-01 4.37596726e-01 6.80076038e-01\n",
      " 8.07493391e-01 5.30444117e-01 9.60697721e-01 7.51423098e-01\n",
      " 5.21637331e-01 8.39837179e-01 7.44246804e-01 1.62048387e-01\n",
      " 1.62828372e-01 8.52564617e-01 7.89819571e-01 7.08599745e-02\n",
      " 3.15723510e-01 7.76115627e-01 9.82474367e-01 7.06087898e-01\n",
      " 1.53008182e-01 1.12575804e-01 6.79856671e-01 7.73811571e-01\n",
      " 1.46334994e-01 8.63757382e-02 8.59132217e-01 6.34593565e-01\n",
      " 9.97873983e-01 6.26203048e-01 4.74534792e-01 1.90036220e-01\n",
      " 4.09986501e-01 6.30360266e-01 3.34745570e-01 7.84284691e-01\n",
      " 9.02152685e-01 8.89786214e-01 9.66468773e-01 6.73590873e-01\n",
      " 1.13626050e-01 9.70983752e-01 6.52694329e-01 4.04823755e-01\n",
      " 2.13306909e-01 8.85225494e-01 5.72334275e-01 6.87637728e-01\n",
      " 5.95185695e-01 3.24743581e-03 9.05243891e-01 2.15448440e-01\n",
      " 8.74266747e-01 2.64294142e-03 1.65211933e-01 7.82962031e-01\n",
      " 7.13968521e-01 4.50401057e-01 8.94965314e-01 9.15507554e-01\n",
      " 4.68520297e-01 7.51361158e-01 3.25456315e-01 6.27789958e-02\n",
      " 4.48850640e-01 8.59083811e-01 9.10067210e-01 9.34655557e-01\n",
      " 3.39281112e-01 8.74989110e-01 7.59163689e-01 4.43370126e-01\n",
      " 2.79971435e-01 8.34289464e-01 6.85811007e-01 5.16974002e-01\n",
      " 7.87330364e-01 8.43166984e-01 5.26798786e-01 3.90867723e-01\n",
      " 7.17647225e-01 3.64388075e-01 9.67976664e-01 7.08626597e-01\n",
      " 9.08023731e-01 8.74643683e-01 5.89508118e-01 6.04203609e-02\n",
      " 5.58387358e-01 4.23699361e-01 5.77186045e-01 7.65238263e-01\n",
      " 4.32912717e-01 1.73126902e-01 6.63420874e-01 7.98275181e-01\n",
      " 6.97206651e-01 4.63348095e-01 2.82228181e-01 9.73168192e-01\n",
      " 7.39348719e-01 7.82509743e-01 1.06982775e-01 8.81443337e-01\n",
      " 1.74786451e-01 8.03920036e-01 9.67527757e-01 5.52624076e-01\n",
      " 1.16021393e-02 7.85644290e-01 2.38011593e-01 4.26290230e-01\n",
      " 6.05012731e-01 7.91631533e-02 1.66223042e-01 7.63798924e-01\n",
      " 8.52227058e-01 1.39671355e-01 6.47986037e-01] se obtiene un costo de: 209910459345.39047\n",
      "########################################################################################################\n",
      "con theta:[8.48921052e-02 7.16985540e-01 1.70123428e-01 1.46679118e-01\n",
      " 1.53781203e-02 5.32194138e-02 6.86192003e-02 2.36634558e-01\n",
      " 8.60649201e-01 8.29802662e-01 2.35448076e-01 3.04683002e-01\n",
      " 2.88705536e-01 2.08268540e-01 6.00449296e-01 3.89154371e-01\n",
      " 8.94173095e-01 1.23187699e-01 4.17914551e-01 5.22319769e-02\n",
      " 2.79026651e-01 6.78624670e-01 5.82664689e-01 9.03698339e-01\n",
      " 6.21425586e-01 8.69012440e-01 5.39652257e-01 9.31591753e-01\n",
      " 8.04299723e-02 3.94245203e-01 7.58979161e-01 4.36155973e-01\n",
      " 9.06309976e-01 3.20918026e-01 6.10516601e-01 3.81315883e-02\n",
      " 5.22566946e-01 9.18125695e-01 6.46425132e-01 1.46424277e-01\n",
      " 3.80214252e-01 7.63325952e-01 9.92775261e-01 5.40996516e-01\n",
      " 9.65377112e-01 4.57873783e-01 7.16393250e-01 4.15417965e-01\n",
      " 2.54449825e-01 2.45282818e-01 9.65449136e-01 1.77571072e-01\n",
      " 5.71174123e-01 5.78639248e-01 1.63609336e-01 6.59932688e-01\n",
      " 3.48422448e-01 4.97137626e-01 5.80857975e-01 4.86313517e-02\n",
      " 2.15253612e-01 5.37858063e-02 9.34887019e-01 5.33864623e-01\n",
      " 5.63681056e-01 9.14669011e-01 6.18037108e-01 4.86106833e-01\n",
      " 5.26326359e-01 6.16632063e-01 3.76993370e-01 6.12385059e-01\n",
      " 6.75353897e-01 1.84604736e-01 4.95936255e-04 8.44552559e-02\n",
      " 6.39500041e-01 9.12046021e-01 4.74243742e-01 2.08809776e-01\n",
      " 1.19684480e-01 4.52441423e-01 2.35102042e-01 6.59920285e-01\n",
      " 7.89705338e-01 3.93733700e-01 9.61134793e-01 9.54195865e-01\n",
      " 9.40612387e-01 1.95969125e-01 5.16197684e-01 8.17637787e-01\n",
      " 6.06426404e-01 2.14091618e-01 7.70835343e-01 4.39872041e-01\n",
      " 2.44525309e-01 8.30075630e-01 8.80971409e-01 1.84625907e-01\n",
      " 7.20433599e-01 9.02089343e-01 7.70901008e-01 6.08280515e-01\n",
      " 9.71820388e-01 5.25129927e-01 3.83429868e-01 7.99516265e-01\n",
      " 4.74420360e-01 8.51287601e-01 3.44216173e-01 7.61832539e-01\n",
      " 8.31932775e-01 6.70989991e-01 9.79022241e-03 1.20704624e-01\n",
      " 7.63332502e-01 4.49174651e-02 3.58568817e-01 4.09280823e-01\n",
      " 5.81230547e-01 9.82077119e-01 4.79633069e-01 2.71825707e-01\n",
      " 4.04141365e-02 5.04188936e-01 8.46584983e-01 8.96962545e-02\n",
      " 2.87958498e-01 9.85228272e-01 7.54356031e-02 7.49682044e-01\n",
      " 1.80704786e-01 5.47476003e-01 3.60082558e-01 5.49812903e-01\n",
      " 7.86350218e-01 9.81987941e-01 7.60334366e-01 7.89622234e-01\n",
      " 4.73729639e-01 3.18881955e-01 8.64195249e-02 7.18188465e-05\n",
      " 2.27452288e-01 4.94979085e-01 2.11836288e-01 4.41185804e-01\n",
      " 6.64608058e-01 2.42590686e-01 6.09032959e-01 2.34624247e-01\n",
      " 9.24093878e-01 3.96818592e-01 9.45846551e-01 8.80619119e-01\n",
      " 7.88617236e-01 5.48535622e-01 8.98411278e-01 4.25352745e-01\n",
      " 2.15201966e-01 3.02650924e-01 4.60678001e-02 1.69591943e-01\n",
      " 6.73515191e-01 3.64943680e-01 7.87904768e-01 2.39512766e-01\n",
      " 8.61372149e-01 4.23961222e-01 5.10212308e-01 5.08199114e-01\n",
      " 1.63611275e-01 7.91581507e-01 2.71764413e-01 2.05667286e-01\n",
      " 6.06886884e-01 7.58140118e-01 1.01527151e-01 4.17579002e-01\n",
      " 7.50233685e-01 2.15442155e-01 9.41224753e-01 3.02813092e-01\n",
      " 1.28042329e-01 8.47116275e-02 2.24729543e-01 5.24221417e-01\n",
      " 2.19786993e-01 2.08056245e-01 3.99842273e-01] se obtiene un costo de: 209912007283.11105\n"
     ]
    }
   ],
   "source": [
    "#creamos un theta con 190 columnas de valores aleatorios\n",
    "theta_RLP1=np.random.rand(len(X_ready_RLP[1]))\n",
    "theta_RLP2=np.random.rand(len(X_ready_RLP[1]))\n",
    "\n",
    "\n",
    "print(len(theta_RLP1))\n",
    "lambda_RLP = 1000\n",
    "\n",
    "print(f\"########################################################################################################\")\n",
    "print(f\"con theta:{ theta_RLP1 } se obtiene un costo de: {calcularCostoSR(X_ready_RLP, y_trainRLP, theta_RLP1)}\")\n",
    "print(f\"########################################################################################################\")\n",
    "print(f\"con theta:{ theta_RLP2 } se obtiene un costo de: {calcularCostoSR(X_ready_RLP, y_trainRLP, theta_RLP2)}\")"
   ]
  },
  {
   "cell_type": "markdown",
   "metadata": {},
   "source": [
    "##### 2.2.3.2 Descenso por el gradiente\n",
    "\n",
    "Creamos la funcion para hacer el calculo del descenso por el gradiente y asi encontrar nuestras **Thetas**\n",
    "Haciendo uso de la funcion de `calcularDescensoGradiente(X,y, theta, alpha,num_iteraciones)`:"
   ]
  },
  {
   "cell_type": "code",
   "execution_count": 156,
   "metadata": {},
   "outputs": [
    {
     "name": "stdout",
     "output_type": "stream",
     "text": [
      "########################################################################################################\n",
      "Los valores de theta calculados son:\n",
      "theta 1: 531806.0770503972\n",
      "theta 2: 0.0\n",
      "theta 3: -5027.547654926053\n",
      "theta 4: -3405.583454332372\n",
      "theta 5: -4340.000567059962\n",
      "theta 6: 2560.597990457745\n",
      "theta 7: -135.5873300674213\n",
      "theta 8: -1534.3834064607408\n",
      "theta 9: -2643.153146097622\n",
      "theta 10: -978.6053047329448\n",
      "theta 11: 11706.566492131156\n",
      "theta 12: -2444.512891977379\n",
      "theta 13: -4397.26101907355\n",
      "theta 14: -13861.064475767756\n",
      "theta 15: -3584.1656550969365\n",
      "theta 16: -15487.982233005612\n",
      "theta 17: 22752.350939377066\n",
      "theta 18: -7916.315620747603\n",
      "theta 19: -39.50904618574523\n",
      "theta 20: 2391.2750734227648\n",
      "theta 21: 5927.747187432195\n",
      "theta 22: -401.48583997824176\n",
      "theta 23: 1600.4974361417515\n",
      "theta 24: -3084.296285224395\n",
      "theta 25: -999.1001485370211\n",
      "theta 26: 5396.732832365082\n",
      "theta 27: -845.1002724275138\n",
      "theta 28: 1444.6779624870035\n",
      "theta 29: 8605.357580226633\n",
      "theta 30: 4723.056099636129\n",
      "theta 31: -6369.611817254209\n",
      "theta 32: -6468.7638581460005\n",
      "theta 33: -2626.6508845395933\n",
      "theta 34: -5064.361315868975\n",
      "theta 35: -4610.589453861021\n",
      "theta 36: 4928.494576289731\n",
      "theta 37: -227.62105737853926\n",
      "theta 38: -2699.1837607917646\n",
      "theta 39: 15727.636691193278\n",
      "theta 40: 21469.93149702061\n",
      "theta 41: -3495.512133836473\n",
      "theta 42: 2649.0322994628837\n",
      "theta 43: 6910.609703403216\n",
      "theta 44: 9018.178698737272\n",
      "theta 45: 739.6111663300917\n",
      "theta 46: 17019.29004148297\n",
      "theta 47: 21940.027032535574\n",
      "theta 48: 7750.577936448252\n",
      "theta 49: -3895.8071640778953\n",
      "theta 50: -793.3186177995545\n",
      "theta 51: -3430.653664257517\n",
      "theta 52: -2987.4523900625136\n",
      "theta 53: 3287.563680528006\n",
      "theta 54: 4911.096288560896\n",
      "theta 55: -4160.763120477073\n",
      "theta 56: 24456.12945921899\n",
      "theta 57: -4296.077121491845\n",
      "theta 58: 2958.3269519545684\n",
      "theta 59: 16717.229906909113\n",
      "theta 60: 12782.670173327282\n",
      "theta 61: 5387.598038007337\n",
      "theta 62: 17624.13005961147\n",
      "theta 63: 25222.10947829252\n",
      "theta 64: 10081.058748334182\n",
      "theta 65: -5590.225362901177\n",
      "theta 66: 12976.992668436516\n",
      "theta 67: -4370.16220517528\n",
      "theta 68: -3861.3409751591007\n",
      "theta 69: 4179.234709381707\n",
      "theta 70: 6704.772563965765\n",
      "theta 71: -6580.11041460308\n",
      "theta 72: 2950.72968977748\n",
      "theta 73: -3107.2030219799203\n",
      "theta 74: -1592.1923319114958\n",
      "theta 75: -365.175744713913\n",
      "theta 76: 2233.625384908486\n",
      "theta 77: 1868.0099151193472\n",
      "theta 78: -3062.938677663714\n",
      "theta 79: -7722.13227503855\n",
      "theta 80: 2747.9298569153593\n",
      "theta 81: -1656.3686840311095\n",
      "theta 82: 2550.4394087887886\n",
      "theta 83: 2480.985748728373\n",
      "theta 84: -2543.883111487904\n",
      "theta 85: 77.70844043329936\n",
      "theta 86: 10101.042755143435\n",
      "theta 87: 2656.6166799331827\n",
      "theta 88: -1092.7041398256845\n",
      "theta 89: -546.203050958509\n",
      "theta 90: 4740.995467604527\n",
      "theta 91: 8047.271751453029\n",
      "theta 92: -204.5786691653027\n",
      "theta 93: 11250.714359731694\n",
      "theta 94: -903.3781294419498\n",
      "theta 95: -5403.062576516617\n",
      "theta 96: -132.19789212423626\n",
      "theta 97: 171.78018757338626\n",
      "theta 98: 24.81186417243833\n",
      "theta 99: -8749.447843242187\n",
      "theta 100: -6220.124049305384\n",
      "theta 101: -1534.3834064607408\n",
      "theta 102: -3112.802741138585\n",
      "theta 103: -2745.4470429615367\n",
      "theta 104: 4457.340493023847\n",
      "theta 105: 18219.503633718763\n",
      "theta 106: 8903.482969321487\n",
      "theta 107: -1239.422576189541\n",
      "theta 108: -6804.795445951609\n",
      "theta 109: -1571.5483616143163\n",
      "theta 110: -1358.084204595048\n",
      "theta 111: 1594.2670033849035\n",
      "theta 112: 14676.562897128757\n",
      "theta 113: -2881.647220665182\n",
      "theta 114: 1467.7532750494418\n",
      "theta 115: 5046.6470452216945\n",
      "theta 116: 6655.6878961554885\n",
      "theta 117: 16925.515588846316\n",
      "theta 118: -915.8505775870576\n",
      "theta 119: -3046.732460522712\n",
      "theta 120: -4827.4171095774855\n",
      "theta 121: -2658.7478900985166\n",
      "theta 122: -2421.2098588116737\n",
      "theta 123: 2606.5478507044595\n",
      "theta 124: 8442.018226210539\n",
      "theta 125: -3385.337586307304\n",
      "theta 126: 412.8266906678137\n",
      "theta 127: 14652.016191902763\n",
      "theta 128: 6123.237171567981\n",
      "theta 129: 500.89190649765396\n",
      "theta 130: -2469.2095650889955\n",
      "theta 131: -4063.180114070509\n",
      "theta 132: -1034.6498392443725\n",
      "theta 133: -601.2223073783823\n",
      "theta 134: 943.753765227246\n",
      "theta 135: 16776.108409844084\n",
      "theta 136: 1493.7268400635637\n",
      "theta 137: 23179.38487316281\n",
      "theta 138: 15890.27569227039\n",
      "theta 139: 9024.775728741908\n",
      "theta 140: 9247.724343515463\n",
      "theta 141: 3811.7900829485307\n",
      "theta 142: 11666.045356811454\n",
      "theta 143: 12441.01900482499\n",
      "theta 144: -11945.657386900635\n",
      "theta 145: 7607.479739816213\n",
      "theta 146: -735.8401656194944\n",
      "theta 147: 21164.836984043162\n",
      "theta 148: 24567.596518573377\n",
      "theta 149: -3560.374364504369\n",
      "theta 150: 12386.203806577954\n",
      "theta 151: -2474.408502054423\n",
      "theta 152: -2013.2222261981144\n",
      "theta 153: 2292.445808545301\n",
      "theta 154: 3211.581783076908\n",
      "theta 155: -6302.80676166686\n",
      "theta 156: -13622.232223529229\n",
      "theta 157: -4936.489876183033\n",
      "theta 158: 10945.575291573059\n",
      "theta 159: -4402.687042944619\n",
      "theta 160: -4217.557314985986\n",
      "theta 161: 4347.124014298378\n",
      "theta 162: 12343.571474666758\n",
      "theta 163: -4342.95009895655\n",
      "theta 164: -13358.932829975267\n",
      "theta 165: -3424.452761544593\n",
      "theta 166: -14586.072204187374\n",
      "theta 167: -9512.053848112515\n",
      "theta 168: 13635.994528062936\n",
      "theta 169: -2504.2052051442934\n",
      "theta 170: 2447.871068107736\n",
      "theta 171: -3334.010823557863\n",
      "theta 172: -3612.2691952076325\n",
      "theta 173: -3556.426156528837\n",
      "theta 174: 3596.632964636654\n",
      "theta 175: 17834.544657533934\n",
      "theta 176: -2081.57134450885\n",
      "theta 177: -15488.215188507158\n",
      "theta 178: 18626.527631470515\n",
      "theta 179: -460.3156390781901\n",
      "theta 180: -64.08610536484163\n",
      "theta 181: 2376.149530209365\n",
      "theta 182: 22515.26261081615\n",
      "theta 183: -23096.766015184105\n",
      "theta 184: 382.24524156409706\n",
      "theta 185: 2285.786138070412\n",
      "theta 186: 7929.945708208996\n",
      "theta 187: -120.59763172818\n",
      "theta 188: -2375.953032819311\n",
      "theta 189: 3730.485165463406\n",
      "theta 190: -1425.3411821283637\n",
      "theta 191: 4611.694589000756\n",
      "########################################################################################################\n",
      "con un costo de: 15222543374.700386 \n",
      "la cantidad de theta son:  191\n"
     ]
    }
   ],
   "source": [
    "#creamos un theta con 19 columnas de ceros\n",
    "theta_RLP = np.zeros(len(X_ready_RLP[0]))\n",
    "\n",
    "#numero de iteraciones sera 1000000 y un alpha 0.0009\n",
    "num_ite_RLP = 5000\n",
    "alpha_RLP = 0.0009\n",
    "\n",
    "theta_RLP, J_historico_RLP = calcularDescensoGradienteSR(X_ready_RLP, y_trainRLP, theta_RLP , alpha_RLP, num_ite_RLP)\n",
    "print(\"########################################################################################################\")\n",
    "print(\"Los valores de theta calculados son:\")\n",
    "i = 0\n",
    "for tht2 in theta_RLP:\n",
    "    i += 1\n",
    "    print(f\"theta {i}: {tht2}\")\n",
    "\n",
    "print(f\"########################################################################################################\")\n",
    "#mostramos el ultimo costo, este seria el mejor costo\n",
    "print(f\"con un costo de: { J_historico_RLP[-1]} \")\n",
    "\n",
    "print(\"la cantidad de theta son: \", theta_RLP.shape[0])"
   ]
  },
  {
   "cell_type": "markdown",
   "metadata": {},
   "source": [
    "#### 2.2.4 Grafica de la convergencia del costo\n",
    "Graficamos el costo"
   ]
  },
  {
   "cell_type": "code",
   "execution_count": 157,
   "metadata": {},
   "outputs": [
    {
     "data": {
      "text/plain": [
       "Text(0, 0.5, 'Costo J')"
      ]
     },
     "execution_count": 157,
     "metadata": {},
     "output_type": "execute_result"
    },
    {
     "data": {
      "image/png": "[encoded data removed]",
      "text/plain": [
       "<Figure size 640x480 with 1 Axes>"
      ]
     },
     "metadata": {},
     "output_type": "display_data"
    }
   ],
   "source": [
    "pyplot.plot(np.arange(len(J_historico_RLP)), J_historico_RLP, lw=2)\n",
    "pyplot.title(\"Grafica de la convergencia del costo\")\n",
    "pyplot.xlabel('Numero de iteraciones')\n",
    "pyplot.ylabel('Costo J')"
   ]
  },
  {
   "cell_type": "markdown",
   "metadata": {},
   "source": [
    "##### 2.2.4.1 Grafica de la regresion Polinomial\n",
    "\n",
    "En esta parte se trazan los datos de entrenamiento y una línea que representa la regresión lineal ajustada a esos datos."
   ]
  },
  {
   "cell_type": "code",
   "execution_count": 158,
   "metadata": {},
   "outputs": [
    {
     "data": {
      "text/plain": [
       "<matplotlib.legend.Legend at 0x1ff1055bc20>"
      ]
     },
     "execution_count": 158,
     "metadata": {},
     "output_type": "execute_result"
    },
    {
     "data": {
      "image/png": "[encoded data removed]",
      "text/plain": [
       "<Figure size 640x480 with 1 Axes>"
      ]
     },
     "metadata": {},
     "output_type": "display_data"
    }
   ],
   "source": [
    "graficarDatos(X_norm_RLP[:, 150], X_norm_RLP[:, 151] , \"X_norm_150\", \"X_norm_151\")\n",
    "\n",
    "pyplot.plot(X_norm_RLP[:,150], np.dot(X_ready_RLP, theta_RLP), '-')\n",
    "\n",
    "pyplot.legend(['Datos de entrenamiento', 'regresion lineal'])"
   ]
  },
  {
   "cell_type": "markdown",
   "metadata": {},
   "source": [
    "haciendo una pequeña prueba:"
   ]
  },
  {
   "cell_type": "code",
   "execution_count": 159,
   "metadata": {},
   "outputs": [
    {
     "name": "stdout",
     "output_type": "stream",
     "text": [
      "La prediccion de la casa es de: [253211.63162483]\n"
     ]
    }
   ],
   "source": [
    "X_arrayRLP = np.array([3,1,1180,5650,1,0,0,3,7,1180,0,1955,0,98178,47.5112,-122.257,1340,5650])\n",
    "X_arrayRLP = X_arrayRLP.reshape(1, -1)\n",
    "\n",
    "poly = PolynomialFeatures(degree=2)\n",
    "#hacemos una copia de y_train y y_test para usarlo en la regresion polinomial\n",
    "X_arrayRLP = poly.fit_transform(X_arrayRLP)\n",
    "\n",
    "X_arrayRLP = np.concatenate([np.ones((X_arrayRLP.shape[0], 1)), X_arrayRLP], axis=1)\n",
    "\n",
    "X_arrayRLP[:, 1:] = (X_arrayRLP[:, 1:] - mu_RLP) / sigma_RLP\n",
    "\n",
    "prediccion_RLP = np.dot(X_arrayRLP, theta_RLP)\n",
    "\n",
    "print (f\"La prediccion de la casa es de: {prediccion_RLP}\")"
   ]
  },
  {
   "cell_type": "markdown",
   "metadata": {},
   "source": [
    "#### 2.2.5 Ejemplos de Predicciones\n",
    "\n",
    "Se creo una matriz con 11 ejemplos, donde se hace las predicciones correspondientes:"
   ]
  },
  {
   "cell_type": "code",
   "execution_count": 160,
   "metadata": {},
   "outputs": [
    {
     "name": "stdout",
     "output_type": "stream",
     "text": [
      "20\n",
      "19\n",
      "+------------+-------------+---------------+------------+----------+--------------+--------+-------------+---------+--------------+-----------------+------------+----------------+-----------+---------+----------+-----------------+--------------+----------+\n",
      "|   bedrooms |   bathrooms |   sqft_living |   sqft_lot |   floors |   waterfront |   view |   condition |   grade |   sqft_above |   sqft_basement |   yr_built |   yr_renovated |   zipcode |     lat |     long |   sqft_living15 |   sqft_lot15 |    Price |\n",
      "+============+=============+===============+============+==========+==============+========+=============+=========+==============+=================+============+================+===========+=========+==========+=================+==============+==========+\n",
      "|          3 |        1    |          1180 |       5650 |      1   |            0 |      0 |           3 |       7 |         1180 |               0 |       1955 |              0 |     98178 | 47.5112 | -122.257 |            1340 |         5650 | 253212   |\n",
      "+------------+-------------+---------------+------------+----------+--------------+--------+-------------+---------+--------------+-----------------+------------+----------------+-----------+---------+----------+-----------------+--------------+----------+\n",
      "|          2 |        0.75 |          1020 |       1076 |      2   |            0 |      0 |           3 |       7 |         1020 |               0 |       2008 |              0 |     98144 | 47.5941 | -122.299 |            1020 |         1357 | 221272   |\n",
      "+------------+-------------+---------------+------------+----------+--------------+--------+-------------+---------+--------------+-----------------+------------+----------------+-----------+---------+----------+-----------------+--------------+----------+\n",
      "|          4 |        2.75 |          3555 |       6565 |      2   |            0 |      0 |           3 |       9 |         3555 |               0 |       2014 |              0 |     98053 | 47.6847 | -122.017 |            3625 |         5637 | 850335   |\n",
      "+------------+-------------+---------------+------------+----------+--------------+--------+-------------+---------+--------------+-----------------+------------+----------------+-----------+---------+----------+-----------------+--------------+----------+\n",
      "|          2 |        1    |          1040 |      13920 |      1   |            0 |      0 |           3 |       6 |         1040 |               0 |       1973 |           1867 |     98198 | 47.3756 | -122.306 |            1100 |         7575 |  21692.9 |\n",
      "+------------+-------------+---------------+------------+----------+--------------+--------+-------------+---------+--------------+-----------------+------------+----------------+-----------+---------+----------+-----------------+--------------+----------+\n",
      "|          4 |        1.75 |          1860 |       7350 |      1   |            0 |      0 |           4 |       7 |         1090 |             770 |       1977 |           1900 |     98031 | 47.3979 | -122.174 |            1710 |         7350 | 331609   |\n",
      "+------------+-------------+---------------+------------+----------+--------------+--------+-------------+---------+--------------+-----------------+------------+----------------+-----------+---------+----------+-----------------+--------------+----------+\n",
      "|          1 |        1    |          1060 |      54846 |      1   |            1 |      4 |           3 |       5 |         1060 |               0 |       1935 |              0 |     98070 | 47.4716 | -122.445 |            2258 |        31762 | 484934   |\n",
      "+------------+-------------+---------------+------------+----------+--------------+--------+-------------+---------+--------------+-----------------+------------+----------------+-----------+---------+----------+-----------------+--------------+----------+\n",
      "|          4 |        1.5  |          2220 |       9496 |      1   |            0 |      0 |           4 |       7 |         1490 |             730 |       1954 |              0 |     98004 | 47.6233 | -122.206 |            1800 |         8286 | 512074   |\n",
      "+------------+-------------+---------------+------------+----------+--------------+--------+-------------+---------+--------------+-----------------+------------+----------------+-----------+---------+----------+-----------------+--------------+----------+\n",
      "|          4 |        1.5  |          1560 |       6534 |      1   |            0 |      0 |           4 |       7 |         1560 |               0 |       1962 |              0 |     98007 | 47.6012 | -122.152 |            1560 |         6969 | 419778   |\n",
      "+------------+-------------+---------------+------------+----------+--------------+--------+-------------+---------+--------------+-----------------+------------+----------------+-----------+---------+----------+-----------------+--------------+----------+\n",
      "|          5 |        3    |          2510 |       4125 |      1.5 |            0 |      3 |           5 |       8 |         1590 |             920 |       1925 |              0 |     98144 | 47.5968 | -122.29  |            2190 |         5415 | 895334   |\n",
      "+------------+-------------+---------------+------------+----------+--------------+--------+-------------+---------+--------------+-----------------+------------+----------------+-----------+---------+----------+-----------------+--------------+----------+\n",
      "|          3 |        2.5  |          1680 |       2096 |      2   |            0 |      0 |           3 |       8 |         1380 |             300 |       2008 |              0 |     98117 | 47.6904 | -122.37  |            1360 |         2096 | 482704   |\n",
      "+------------+-------------+---------------+------------+----------+--------------+--------+-------------+---------+--------------+-----------------+------------+----------------+-----------+---------+----------+-----------------+--------------+----------+\n",
      "|          3 |        2.25 |          2020 |       3600 |      2   |            0 |      0 |           3 |       8 |         2020 |               0 |       1998 |              0 |     98033 | 47.6678 | -122.165 |            2070 |         3699 | 539959   |\n",
      "+------------+-------------+---------------+------------+----------+--------------+--------+-------------+---------+--------------+-----------------+------------+----------------+-----------+---------+----------+-----------------+--------------+----------+\n"
     ]
    }
   ],
   "source": [
    "#Creamos la matriz con 11 ejemplos para hacer la prueba predecir un precio de cada ejemplo:\n",
    "matriz_datos_RLP = np.array([\n",
    "    [3,1,1180,5650,1,0,0,3,7,1180,0,1955,0,98178,47.5112,-122.257,1340,5650],\n",
    "    [2,0.75,1020,1076,2,0,0,3,7,1020,0,2008,0,98144,47.5941,-122.299,1020,1357],\n",
    "    [4,2.75,3555,6565,2,0,0,3,9,3555,0,2014,0,98053,47.6847,-122.017,3625,5637],\n",
    "    [2,1,1040,13920,1,0,0,3,6,1040,0,1973,1867,98198,47.3756,-122.306,1100,7575],\n",
    "    [4,1.75,1860,7350,1,0,0,4,7,1090,770,1977,1900,98031,47.3979,-122.174,1710,7350],\n",
    "    [1,1,1060,54846,1,1,4,3,5,1060,0,1935,0,98070,47.4716,-122.445,2258,31762],\n",
    "    [4,1.5,2220,9496,1,0,0,4,7,1490,730,1954,0,98004,47.6233,-122.206,1800,8286],\n",
    "    [4,1.5,1560,6534,1,0,0,4,7,1560,0,1962,0,98007,47.6012,-122.152,1560,6969],\n",
    "    [5,3,2510,4125,1.5,0,3,5,8,1590,920,1925,0,98144,47.5968,-122.29,2190,5415],\n",
    "    [3,2.5,1680,2096,2,0,0,3,8,1380,300,2008,0,98117,47.6904,-122.37,1360,2096],\n",
    "    [3,2.25,2020,3600,2,0,0,3,8,2020,0,1998,0,98033,47.6678,-122.165,2070,3699]\n",
    "])\n",
    "\n",
    "#creamos un vector parta almacenar cada Y predicha\n",
    "y_pre_RLP = []\n",
    "\n",
    "matriz_datos_RLP_copy = matriz_datos_RLP.copy()\n",
    "\n",
    "poly = PolynomialFeatures(degree=2)\n",
    "#hacemos una copia de y_train y y_test para usarlo en la regresion polinomial\n",
    "matriz_datos_RLP = poly.fit_transform(matriz_datos_RLP)\n",
    "\n",
    "matriz_datos_RLP = np.concatenate([np.ones((matriz_datos_RLP.shape[0], 1)), matriz_datos_RLP], axis=1)\n",
    "\n",
    "\n",
    "#Normalizamos todos, menos el primer valor de cada ejemplo\n",
    "\n",
    "matriz_datos_RLP[:, 1:] = (matriz_datos_RLP[:, 1:] - mu_RLP) / sigma_RLP\n",
    "\n",
    "\n",
    "#Calculamos la Y predicha de los 11 ejemplos de prediccion\n",
    "for datos in matriz_datos_RLP:\n",
    "    y_pre_RLP.append(np.dot(datos, theta_RLP.T))\n",
    "\n",
    "matriz_datos_RLP_copy = np.column_stack((matriz_datos_RLP_copy, y_pre_RLP))\n",
    "\n",
    "nombres_columnas = ['bedrooms','bathrooms','sqft_living','sqft_lot','floors','waterfront','view','condition','grade','sqft_above','sqft_basement','yr_built','yr_renovated','zipcode','lat','long','sqft_living15','sqft_lot15','Price']\n",
    "\n",
    "# Convertir la matriz en una lista de listas\n",
    "datos_para_tabla = matriz_datos_RLP_copy.tolist()\n",
    "\n",
    "print(len(matriz_datos_RLM[0]))\n",
    "print(len(matriz_datos_RLM_copy[0]))\n",
    "\n",
    "# Imprimir la tabla\n",
    "print(tabulate(datos_para_tabla, headers=nombres_columnas, tablefmt='grid'))"
   ]
  },
  {
   "cell_type": "markdown",
   "metadata": {},
   "source": [
    "#### 2.2.6 Validaciones\n",
    "Para hacer las validaciones correspondientes, primero se crea la funcion del **Mean squeared error**\n",
    "\n",
    "Siguiendo el consejo de 80/20, donde 80% es para la fase de entrenamiento, y 20% es para la fase de prueba."
   ]
  },
  {
   "cell_type": "code",
   "execution_count": 161,
   "metadata": {},
   "outputs": [
    {
     "name": "stdout",
     "output_type": "stream",
     "text": [
      "Error Cuadrático Medio (MSE) = 1.0971812029144264e+29\n",
      "Raíz del Error Cuadrático Medio (RMSE) = 331237256798571.25\n"
     ]
    }
   ],
   "source": [
    "#Concatenamos de unos a la primera posicion del X_test\n",
    "poly = PolynomialFeatures(degree=2)\n",
    "#hacemos una copia de y_train y y_test para usarlo en la regresion polinomial\n",
    "X_ready_testRLP = poly.fit_transform(X_testRLP)\n",
    "# agregamos unos a la primera columna\n",
    "X_ready_testRLP = np.concatenate([np.ones((m_test_RLP, 1)), X_ready_testRLP], axis=1)\n",
    "\n",
    "\n",
    "#creamos un array que almacenara cada una de las y_predicha\n",
    "y_predicha_RLP = []\n",
    "for data_test_ready in X_ready_testRLP:\n",
    "    y_predicha_RLP.append(np.dot(data_test_ready, theta_RLP.T))\n",
    "\n",
    "#calculamos el error cuadratico medio:\n",
    "mse_RLP = mean_squared_error(y_predicha_RLP, y_testRLP)\n",
    "#calculamos el error cuadratico medio:\n",
    "print('Error Cuadrático Medio (MSE) = ' + str(mse_RLP))\n",
    "print('Raíz del Error Cuadrático Medio (RMSE) = ' + str(np.sqrt(mse_RLP)))"
   ]
  },
  {
   "cell_type": "markdown",
   "metadata": {},
   "source": [
    "### 2.3 Ecuacion de la normal\n",
    "\n",
    "Utilizada en el contexto de la regresión lineal para calcular los parámetros del modelo de regresión directamente a partir de los datos de entrenamiento. Se denomina \"normal\" porque se deriva de la \"ecuación normal\" de un sistema de ecuaciones lineales."
   ]
  },
  {
   "cell_type": "markdown",
   "metadata": {},
   "source": [
    "#### 2.3.1 Agregando la columna de unos a la matriz $X$ para tener el termino de intersección"
   ]
  },
  {
   "cell_type": "code",
   "execution_count": 162,
   "metadata": {},
   "outputs": [
    {
     "name": "stdout",
     "output_type": "stream",
     "text": [
      "X_ren[:,0]  X_ren[:, 1]  X_ren[:, 2]  X_ren[:, 3]  X_ren[:, 4]  X_ren[:, 5]  X_ren[:, 6]  X_ren[:, 7]  X_ren[:, 8]  X_ren[:, 9]  X_ren[:, 10]  X_ren[:, 11]  X_ren[:, 12]  X_ren[:, 13]  X_ren[:, 14]  X_ren[:, 15]  X_ren[:, 16]  X_ren[:, 17]  X_ren[:, 18]\n",
      "--------------------------------------------------------------------------------------------------------------------------------------------------------------------------------------------------------------------------------------------------------------------\n",
      "         1           2           2           1390          6670           1            0             0           3             6          720           670         1941             0          98115           48          -122            920          6380\n",
      "         1           3           3           2540          8604           2            0             0           3             8         2540             0         1991             0          98092           47          -122           2260          7438\n",
      "         1           3           3           3280         10558           1            0             2           4             9         2040          1240         1979             0          98006           48          -122           3150          9998\n",
      "         1           4           3           2060         21344           1            0             0           2             8         1460           600         1978             0          98005           48          -122           2060         16088\n",
      "         1           3           1           1060          9241           1            0             0           4             7         1060             0         1956             0          98133           48          -122           1900          6484\n",
      "         1           2           1            800          4046           1            0             0           3             7          800             0         1940             0          98117           48          -122           1400          4046\n",
      "         1           3           2           1560         14288           1            0             0           3             6          780           780         1944             0          98125           48          -122           1320          8928\n",
      "         1           4           2           2040         11850           1            0             2           3             7         1020          1020         1959             0          98033           48          -122           2040          8504\n",
      "         1           5           2           3750         91681           2            1             4           3            10         3750             0         1925             0          98118           48          -122           3540         24293\n",
      "         1           2           2           1440          4225           1            0             0           3             8         1440             0         2005             0          98053           48          -122           1680          6200\n"
     ]
    }
   ],
   "source": [
    "# Cargamos los datos utilizando pandasd\n",
    "data = pd.read_csv('kc_house_data.csv', delimiter=',')\n",
    "\n",
    "#retiramos el id y la fecha del las columnas, quitamos el precio ya que ira a el vector Y, tambien quitamos los titulos\n",
    "dataset = data.drop(['id', 'date'], axis=1).astype(float)\n",
    "\n",
    "# Seleccionar aleatoriamente 20,000 ejemplos\n",
    "sampled_dataset = dataset.sample(n=20000, random_state=42)\n",
    "\n",
    "train_dataset, test_dataset = train_test_split(sampled_dataset, test_size=0.2, random_state=42)\n",
    "\n",
    "X_testEc = test_dataset.drop(['price'], axis=1).values\n",
    "y_testEc = test_dataset['price'].values\n",
    "m_testEc = len(y_testEc)\n",
    "\n",
    "# Seleccionamos las columnas para X y la columna 'price' para Y\n",
    "X_trainEc = train_dataset.drop(['price'], axis=1).values\n",
    "y_trainEc = train_dataset['price'].values\n",
    "m_trainEc = len(y_trainEc)\n",
    "\n",
    "#añadimos unos a la X\n",
    "X_ren = np.concatenate([np.ones((m_trainEc, 1)), X_trainEc], axis=1)\n",
    "\n",
    "#Imprimimos X_ready\n",
    "print('{:>8s}{:>10s}{:>10s}{:>10s}{:>8s}{:>8s}{:>8s}{:>8s}{:>6s}{:>10s}{:>10s}{:>10s}{:>10s}{:>10s}{:>10s}{:>10s}{:>10s}{:>10s}{:>10s}'.format(\n",
    "    'X_ren[:,0]', '  X_ren[:, 1]', '  X_ren[:, 2]', '  X_ren[:, 3]', '  X_ren[:, 4]', '  X_ren[:, 5]', '  X_ren[:, 6]', '  X_ren[:, 7]', '  X_ren[:, 8]', '  X_ren[:, 9]', '  X_ren[:, 10]', '  X_ren[:, 11]',\n",
    "    '  X_ren[:, 12]', '  X_ren[:, 13]', '  X_ren[:, 14]', '  X_ren[:, 15]', '  X_ren[:, 16]', '  X_ren[:, 17]', '  X_ren[:, 18]'\n",
    "))\n",
    "print('-' * 260)\n",
    "\n",
    "for i in range(10):\n",
    "    print('{:10.0f}{:12.0f}{:12.0f}{:15.0f}{:14.0f}{:12.0f}{:13.0f}{:14.0f}{:12.0f}{:14.0f}{:13.0f}{:14.0f}{:13.0f}{:14.0f}{:15.0f}{:13.0f}{:14.0f}{:15.0f}{:14.0f}'.format(\n",
    "        X_ren[i, 0], X_ren[i, 1], X_ren[i, 2], X_ren[i, 3], X_ren[i, 4], X_ren[i, 5], X_ren[i, 6], X_ren[i, 7], X_ren[i, 8], X_ren[i, 9], X_ren[i, 10], X_ren[i, 11],\n",
    "        X_ren[i, 12], X_ren[i, 13], X_ren[i, 14], X_ren[i, 15], X_ren[i, 16], X_ren[i, 17], X_ren[i, 18]\n",
    "    ))"
   ]
  },
  {
   "cell_type": "markdown",
   "metadata": {},
   "source": [
    "#### 2.3.2 Calculando Theta"
   ]
  },
  {
   "cell_type": "code",
   "execution_count": 163,
   "metadata": {},
   "outputs": [
    {
     "name": "stdout",
     "output_type": "stream",
     "text": [
      "########################################################################################################\n",
      "Los valores de theta usando la ecuacion de la normal es calculados son:\n",
      "theta 1: 15550765.562788932\n",
      "theta 2: -3336164.915750435\n",
      "theta 3: -384208.4392969166\n",
      "theta 4: 38293.39210539675\n",
      "theta 5: 0.2649409555920973\n",
      "theta 6: 269602.53481336473\n",
      "theta 7: 1540664.1240256045\n",
      "theta 8: -25775.18209456873\n",
      "theta 9: 14609.543056991997\n",
      "theta 10: 149134.68604321865\n",
      "theta 11: -37727.46992693181\n",
      "theta 12: -37623.77740831107\n",
      "theta 13: -2556.2520189300158\n",
      "theta 14: 18.57716656465609\n",
      "theta 15: -567.0177064511505\n",
      "theta 16: 610567.276181861\n",
      "theta 17: -215629.0738984424\n",
      "theta 18: 27.76142619483184\n",
      "theta 19: -0.3921443226667025\n",
      "########################################################################################################\n"
     ]
    }
   ],
   "source": [
    "# Calculamos thea haciendo uso de la funcion\n",
    "lambda_Ec = 1000\n",
    "theta_Ec = calcularThethaEcuacionNormalSR(X_ren, y_trainEc);\n",
    "\n",
    "print(f\"########################################################################################################\")\n",
    "print(\"Los valores de theta usando la ecuacion de la normal es calculados son:\")\n",
    "i = 0\n",
    "for thtEc in theta_Ec:\n",
    "    i += 1\n",
    "    print(f\"theta {i}: {thtEc}\")\n",
    "print(f\"########################################################################################################\")"
   ]
  },
  {
   "cell_type": "markdown",
   "metadata": {},
   "source": [
    "Haciendo pequeña prueba"
   ]
  },
  {
   "cell_type": "code",
   "execution_count": 164,
   "metadata": {},
   "outputs": [
    {
     "name": "stdout",
     "output_type": "stream",
     "text": [
      "La prediccion de la casa es de: 1924516.7039576033\n"
     ]
    }
   ],
   "source": [
    "X_arrayEc = np.array([1,3,1,1180,5650,1,0,0,3,7,1180,0,1955,0,98178,47.5112,-122.257,1340,5650])\n",
    "\n",
    "prediccion_Ec = np.dot(X_arrayEc, theta_Ec.T)\n",
    "\n",
    "print (f\"La prediccion de la casa es de: {prediccion_Ec}\")"
   ]
  },
  {
   "cell_type": "markdown",
   "metadata": {},
   "source": [
    "#### 2.3.3 Ejemplos de Predicciones haciendo uso de la Ecuacion de la normal\n",
    "Se creo una matriz con 11 ejemplos, donde se hace las predicciones correpondientes:"
   ]
  },
  {
   "cell_type": "code",
   "execution_count": 165,
   "metadata": {},
   "outputs": [
    {
     "name": "stdout",
     "output_type": "stream",
     "text": [
      "+----+------------+-------------+---------------+------------+----------+--------------+--------+-------------+---------+--------------+-----------------+------------+----------------+-----------+---------+----------+-----------------+--------------+-------------------+\n",
      "|    |   bedrooms |   bathrooms |   sqft_living |   sqft_lot |   floors |   waterfront |   view |   condition |   grade |   sqft_above |   sqft_basement |   yr_built |   yr_renovated |   zipcode |     lat |     long |   sqft_living15 |   sqft_lot15 |             Price |\n",
      "+====+============+=============+===============+============+==========+==============+========+=============+=========+==============+=================+============+================+===========+=========+==========+=================+==============+===================+\n",
      "|  1 |          3 |        1    |          1180 |       5650 |      1   |            0 |      0 |           3 |       7 |         1180 |               0 |       1955 |              0 |     98178 | 47.5112 | -122.257 |            1340 |         5650 |       1.92452e+06 |\n",
      "+----+------------+-------------+---------------+------------+----------+--------------+--------+-------------+---------+--------------+-----------------+------------+----------------+-----------+---------+----------+-----------------+--------------+-------------------+\n",
      "|  1 |          2 |        0.75 |          1020 |       1076 |      2   |            0 |      0 |           3 |       7 |         1020 |               0 |       2008 |              0 |     98144 | 47.5941 | -122.299 |            1020 |         1357 |       5.47085e+06 |\n",
      "+----+------------+-------------+---------------+------------+----------+--------------+--------+-------------+---------+--------------+-----------------+------------+----------------+-----------+---------+----------+-----------------+--------------+-------------------+\n",
      "|  1 |          4 |        2.75 |          3555 |       6565 |      2   |            0 |      0 |           3 |       9 |         3555 |               0 |       2014 |              0 |     98053 | 47.6847 | -122.017 |            3625 |         5637 | -134153           |\n",
      "+----+------------+-------------+---------------+------------+----------+--------------+--------+-------------+---------+--------------+-----------------+------------+----------------+-----------+---------+----------+-----------------+--------------+-------------------+\n",
      "|  1 |          2 |        1    |          1040 |      13920 |      1   |            0 |      0 |           3 |       6 |         1040 |               0 |       1973 |           2020 |     98198 | 47.3756 | -122.306 |            1100 |         7575 |       4.93504e+06 |\n",
      "+----+------------+-------------+---------------+------------+----------+--------------+--------+-------------+---------+--------------+-----------------+------------+----------------+-----------+---------+----------+-----------------+--------------+-------------------+\n",
      "|  1 |          4 |        1.75 |          1860 |       7350 |      1   |            0 |      0 |           4 |       7 |         1090 |             770 |       1977 |           2000 |     98031 | 47.3979 | -122.174 |            1710 |         7350 |      -1.23328e+06 |\n",
      "+----+------------+-------------+---------------+------------+----------+--------------+--------+-------------+---------+--------------+-----------------+------------+----------------+-----------+---------+----------+-----------------+--------------+-------------------+\n",
      "|  1 |          1 |        1    |          1060 |      54846 |      1   |            1 |      4 |           3 |       5 |         1060 |               0 |       1935 |              0 |     98070 | 47.4716 | -122.445 |            2258 |        31762 |       9.82523e+06 |\n",
      "+----+------------+-------------+---------------+------------+----------+--------------+--------+-------------+---------+--------------+-----------------+------------+----------------+-----------+---------+----------+-----------------+--------------+-------------------+\n",
      "|  1 |          4 |        1.5  |          2220 |       9496 |      1   |            0 |      0 |           4 |       7 |         1490 |             730 |       1954 |              0 |     98004 | 47.6233 | -122.206 |            1800 |         8286 | -753468           |\n",
      "+----+------------+-------------+---------------+------------+----------+--------------+--------+-------------+---------+--------------+-----------------+------------+----------------+-----------+---------+----------+-----------------+--------------+-------------------+\n",
      "|  1 |          4 |        1.5  |          1560 |       6534 |      1   |            0 |      0 |           4 |       7 |         1560 |               0 |       1962 |              0 |     98007 | 47.6012 | -122.152 |            1560 |         6969 |      -1.25689e+06 |\n",
      "+----+------------+-------------+---------------+------------+----------+--------------+--------+-------------+---------+--------------+-----------------+------------+----------------+-----------+---------+----------+-----------------+--------------+-------------------+\n",
      "|  1 |          5 |        3    |          2510 |       4125 |      1.5 |            0 |      3 |           5 |       8 |         1590 |             920 |       1925 |              0 |     98144 | 47.5968 | -122.29  |            2190 |         5415 |      -4.2537e+06  |\n",
      "+----+------------+-------------+---------------+------------+----------+--------------+--------+-------------+---------+--------------+-----------------+------------+----------------+-----------+---------+----------+-----------------+--------------+-------------------+\n",
      "|  1 |          3 |        2.5  |          1680 |       2096 |      2   |            0 |      0 |           3 |       8 |         1380 |             300 |       2008 |              0 |     98117 | 47.6904 | -122.37  |            1360 |         2096 |       2.1149e+06  |\n",
      "+----+------------+-------------+---------------+------------+----------+--------------+--------+-------------+---------+--------------+-----------------+------------+----------------+-----------+---------+----------+-----------------+--------------+-------------------+\n",
      "|  1 |          3 |        2.25 |          2020 |       3600 |      2   |            0 |      0 |           3 |       8 |         2020 |               0 |       1998 |              0 |     98033 | 47.6678 | -122.165 |            2070 |         3699 |       2.40693e+06 |\n",
      "+----+------------+-------------+---------------+------------+----------+--------------+--------+-------------+---------+--------------+-----------------+------------+----------------+-----------+---------+----------+-----------------+--------------+-------------------+\n"
     ]
    }
   ],
   "source": [
    "matriz_datosEc = np.array([\n",
    "    [1,3,1,1180,5650,1,0,0,3,7,1180,0,1955,0,98178,47.5112,-122.257,1340,5650],\n",
    "    [1,2,0.75,1020,1076,2,0,0,3,7,1020,0,2008,0,98144,47.5941,-122.299,1020,1357],\n",
    "    [1,4,2.75,3555,6565,2,0,0,3,9,3555,0,2014,0,98053,47.6847,-122.017,3625,5637],\n",
    "    [1,2,1,1040,13920,1,0,0,3,6,1040,0,1973,2020,98198,47.3756,-122.306,1100,7575],\n",
    "    [1,4,1.75,1860,7350,1,0,0,4,7,1090,770,1977,2000,98031,47.3979,-122.174,1710,7350],\n",
    "    [1,1,1,1060,54846,1,1,4,3,5,1060,0,1935,0,98070,47.4716,-122.445,2258,31762],\n",
    "    [1,4,1.5,2220,9496,1,0,0,4,7,1490,730,1954,0,98004,47.6233,-122.206,1800,8286],\n",
    "    [1,4,1.5,1560,6534,1,0,0,4,7,1560,0,1962,0,98007,47.6012,-122.152,1560,6969],\n",
    "    [1,5,3,2510,4125,1.5,0,3,5,8,1590,920,1925,0,98144,47.5968,-122.29,2190,5415],\n",
    "    [1,3,2.5,1680,2096,2,0,0,3,8,1380,300,2008,0,98117,47.6904,-122.37,1360,2096],\n",
    "    [1,3,2.25,2020,3600,2,0,0,3,8,2020,0,1998,0,98033,47.6678,-122.165,2070,3699]\n",
    "])\n",
    "\n",
    "#creamos un vector parta almacenar cada Y predicha\n",
    "y_pre_Ec = []\n",
    "#Calculamos la Y predicha de los 11 ejemplos de prediccion\n",
    "for datosEc in matriz_datosEc:\n",
    "    y_pre_Ec.append(np.dot(datosEc, theta_Ec))\n",
    "\n",
    "matriz_datosEc = np.column_stack((matriz_datosEc, y_pre_Ec))\n",
    "\n",
    "nombres_columnas = ['bedrooms','bathrooms','sqft_living','sqft_lot','floors','waterfront','view','condition','grade','sqft_above','sqft_basement','yr_built','yr_renovated','zipcode','lat','long','sqft_living15','sqft_lot15','Price']\n",
    "\n",
    "# Convertir la matriz en una lista de listas\n",
    "datos_para_tabla = matriz_datosEc.tolist()\n",
    "\n",
    "# Imprimir la tabla\n",
    "print(tabulate(datos_para_tabla, headers=nombres_columnas, tablefmt='grid'))"
   ]
  },
  {
   "cell_type": "markdown",
   "metadata": {},
   "source": [
    "#### 2.3.4 Validaciones\n",
    "Para hacer las validaciones correspondientes, primero se crea la funcion del **Mean squeared error**\n",
    "\n",
    "Siguiendo el consejo de 80/20, donde 80% es para la fase de entrenamiento, y 20% es para la fase de prueba."
   ]
  },
  {
   "cell_type": "code",
   "execution_count": 166,
   "metadata": {},
   "outputs": [
    {
     "name": "stdout",
     "output_type": "stream",
     "text": [
      "Error Cuadrático Medio (MSE) = 8652638787130.842\n",
      "Raíz del Error Cuadrático Medio (RMSE) = 2941536.8070331607\n"
     ]
    }
   ],
   "source": [
    "#Concatenamos de unos a la primera posicion del X_test para la ecuacion normal\n",
    "X_ready_testEc = np.concatenate([np.ones((m_testEc, 1)), X_testEc], axis=1)\n",
    "\n",
    "#creamos un array que almacenara cada una de las y_predicha  para la ecuacion normal\n",
    "y_predicha_Ec = []\n",
    "for data_test_ready in X_ready_testEc:\n",
    "    y_predicha_Ec.append(np.dot(data_test_ready, theta_Ec))\n",
    "\n",
    "#calculamos el error cuadratico medio y la raiz del error cuadratico medio:\n",
    "mse_Ec = mean_squared_error(y_predicha_Ec, y_testEc)\n",
    "#calculamos el error cuadratico medio:\n",
    "print('Error Cuadrático Medio (MSE) = ' + str(mse_Ec))\n",
    "print('Raíz del Error Cuadrático Medio (RMSE) = ' + str(np.sqrt(mse_Ec)))"
   ]
  },
  {
   "cell_type": "markdown",
   "metadata": {},
   "source": [
    "## Conclusiones\n",
    "\n",
    "En esta parte se presentaran las conclusiones de acuerdo a las experiencias vistas en este laboratorio aplicando regularizacion y sin aplicar regularizacion."
   ]
  },
  {
   "cell_type": "markdown",
   "metadata": {},
   "source": [
    "### ¿Cual es el mejor?\n",
    "Se comparó el desempeño de modelos de regresión lineal con y sin regularización, se pueden extraer varias conclusiones significativas:"
   ]
  },
  {
   "cell_type": "markdown",
   "metadata": {},
   "source": [
    "##### 1. Impacto de la regularización en la precisión del modelo:\n",
    "\n",
    " Se observa que la regularización puede tener un efecto en la precisión del modelo. En algunos casos, la regularización puede mejorar la precisión del modelo al reducir el sobreajuste (overfitting),\n",
    " especialmente cuando se tienen conjuntos de datos pequeños o altamente ruidosos. \n",
    " \n",
    " Sin embargo, en conjuntos de datos más grandes o con menos ruido, la regularización puede no proporcionar mejoras significativas en la precisión y podría incluso degradarla.\n",
    "\n",
    " para este ejemplo se puede haciendo el calculo de el error minimo cuadrado de los ejemplos aplicados con regularizacion para las pruebas llegan a tener una diferencia menores con respecto a valor caclulado con el modelo sin aplicar regularizacion:\n",
    "\n",
    "| Modelo  | Error cuadrado medio del modelo con regularizacion| Error cuadrado medio del modelo sin regularizacion|Dieferencia entre ambos|\n",
    "|---------|------|---------|-----------|\n",
    "| Regresion Lineal multivariable | 45872727780.39493  | 45428850595.866516 | 443377184.528414 |\n",
    "| Regresion Polinomica | 39756473197.06052 | 1.0971812029144264e+29 | -10971812029144261678999577719168.0 |\n",
    "| Ecuacion de la normal | 46140716256.15447 | 8652638787130.842 | -8652592646129.688 |\n",
    "\n",
    "se puede notar que la diferencia entre ambos es mucha, de acuerdo a la diferencia observada para cada caso se puede decir que el modelo con regularizacion puede ser el mejor aplicado para este modelo que cuenta con 19 parametros y mas de 50k de ejemplos."
   ]
  },
  {
   "cell_type": "markdown",
   "metadata": {},
   "source": [
    "##### 2. Calculo del costo\n",
    "\n",
    "Al agregar un término de penalización a la función de costo, la regularización restringe los coeficientes del modelo, lo que evita que se vuelvan demasiado grandes y sensibles a pequeñas variaciones en los datos de entrenamiento y de acuerdo a esto se hizo una comparacion:\n",
    "\n",
    "| Modelo  | Costo calculado del modelo con regularizacion | Costo calculado del modelo sin regularizacion |Dieferencia entre ambos|\n",
    "|---------|------|---------|-----------|\n",
    "| Regresion Lineal multivariable | 20938833910.808205   | 19737807687.20106   | 1201026223.6071458 |\n",
    "| Regresion Polinomica | 15617343651.705801  | 15222543374.700386  | 394800277.005415 |\n",
    "\n",
    "como se puede ver aqui la diferencia entre costo es mucha, donde el costo del modelo aplicado sin regularizacion es mucho menor al modelo aplicado con regularizacion, esto es debido a que al modelo aplicado con regularizacion se incremento el parametro de lamda, haciendo elevar el valor del costo."
   ]
  },
  {
   "cell_type": "markdown",
   "metadata": {},
   "source": [
    "##### 3. Tiempo de entrenamiento\n",
    "\n",
    "En algunos casos, la regularización puede aumentar el tiempo de entrenamiento del modelo debido a la necesidad de calcular los términos adicionales de penalización en la función de costo y actualizar los coeficientes del modelo de manera iterativa.\n",
    "\n",
    "Haciendo una tabla para ver los cambios:\n",
    "\n",
    "| Modelo  | Tiempo de entrenamiento del modelo con regularizacion | Tiempo de entrenamiento del modelo sin regularizacion |Diferencia entre ambos|\n",
    "|---------|------|---------|-----------|\n",
    "| Regresion Lineal multivariable | 6.9 seg   | 0.1 seg  | 6.8 seg |\n",
    "| Regresion Polinomica | 1 min 21.1 seg | 0.1 seg | 1 min 21.0 seg |\n",
    "| Ecuacion de la normal | 0.0 seg | 0.0 seg | 0.0 seg |\n",
    "\n",
    "Como se puede observar el tiempo de entrenamiento para el modelo usando regularizacion es mucho mayor conr respecto al usado sin regularizacion. Esto sugiere que la regularización añade complejidad al modelo y aumenta el tiempo de procesamiento."
   ]
  },
  {
   "cell_type": "markdown",
   "metadata": {},
   "source": [
    "#### ¿Entonces cual es el mejor?\n",
    "\n",
    "Una vez hecha las comparaciones del desempeño de modelos de con regularizacion y sin regularización, se puede determinar que el mejor modelo es aquel que se aplica regularizacion.\n",
    "\n",
    "**¿Porque?**\n",
    "\n",
    "porque respecto al costo y el tiempo de entrenamiento que pueden ser elevados a diferencia del modelo sin regularizar, pero el modelo nos da un resultado mas cercano al valor que nosotros queremos encontrar como en este caso el precio de una casa de acuerdo a sus 19 parametros. \n",
    "\n",
    "Es importante tener en cuenta que, si bien el tiempo de entrenamiento puede ser más largo para los modelos con regularización debido a la complejidad adicional introducida por los términos de regularización, esta inversión de tiempo suele valer la pena cuando se busca un modelo más robusto y preciso."
   ]
  },
  {
   "cell_type": "markdown",
   "metadata": {},
   "source": [
    "### ¿Cuales son los mejores hiperparametros?\n",
    "\n",
    "Se eligio aquellos hiperparametros de acuerdo a la grafica de costo realizada para cada modelo, guiandonos en que la grafica de costo no este muy curveada pero tampoco que este demasiado recta. A continuacion se muestra los hiperparametros seleccionados:\n",
    "- **Numero de iteraciones.-** se eligio como una cantidad de **6000** iteraciones, esto para evitar el sobreajuste en la grafica de costo, porque con un numero de iteraciones mayor a 7000 generaba una una vurva demasiado ajustada en nuestra grafica de costo, y menor a 5000 la curva empezaba a pornerse recta, para encontrar un numero de iteraciones se hizo el promedio entre 8000 y 5000 y nos dio un numero de iteraciones de 6000, el cual al momento de graficar generaba una curva aceptable.\n",
    "\n",
    "- **alpha.-** Para este hiperparametro se selecciono un valor de **0.0009** para cada modelo, esto porque se queria buscar una precision muy cercana al valor que se deseaba predecir, ya que a menor valor de alpha, mas preciso llega a ser el modelo.\n",
    "\n",
    "- **Lambda.-** Para el hiperparametro **lambda** se uso el valor de **1000**, porque se siguio las recomendaciones que el hiperparametro lambda podria estar entre 10, 100 o 1000, se hizo la prueba con cada uno pero el que mejor resultados pero con mayor tiempo de entrenamiento y procesamiento nos dio fue el valor de un lamdda de *1000*, pero se hizo la prueba con un valor de lambda cercano a cero, y nos genero un costo muy cercano al costo del modelo sin regularizar, mientras que si usabamos un valor lambda negativo nos generaba una grafica contraria al de la curva esperada."
   ]
  },
  {
   "cell_type": "markdown",
   "metadata": {},
   "source": [
    "### ¿Cual asumirias en una determinada circunstancia?\n",
    "\n",
    "El modelo aplicado con regularizacion seria mejor aplicado en un circunstancia en donde usemos un numero de iteraciones demasiado alto, en este caso 15000 y una cantidad pequeña de ejemplos, esto para evitar el overfiting, pero sin olvidar que se requeriria un equipo de computo con buenas caracteristicas para que no haya problemas en la fase de entrenamiento.\n",
    "\n",
    "El modelo aplicado sin regularizacion seria mejor aplicado a una circunstancia en donde se tenga pocos parametros, ya que modelos más complejos, como aquellos con una gran cantidad de características o parámetros, tienden a ser más propensos al overfiting."
   ]
  }
 ],
 "metadata": {
  "kernelspec": {
   "display_name": "Python 3",
   "language": "python",
   "name": "python3"
  },
  "language_info": {
   "codemirror_mode": {
    "name": "ipython",
    "version": 3
   },
   "file_extension": ".py",
   "mimetype": "text/x-python",
   "name": "python",
   "nbconvert_exporter": "python",
   "pygments_lexer": "ipython3",
   "version": "3.12.2"
  }
 },
 "nbformat": 4,
 "nbformat_minor": 2
}
